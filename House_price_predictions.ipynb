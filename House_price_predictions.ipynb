{
  "nbformat": 4,
  "nbformat_minor": 0,
  "metadata": {
    "colab": {
      "name": "House price predictions",
      "provenance": [],
      "collapsed_sections": [
        "O4w48AopVSEF",
        "1SanhVveWFjc"
      ],
      "toc_visible": true,
      "authorship_tag": "ABX9TyOCQdm3w0mC6j/KSndNQoIC",
      "include_colab_link": true
    },
    "kernelspec": {
      "name": "python3",
      "display_name": "Python 3"
    }
  },
  "cells": [
    {
      "cell_type": "markdown",
      "metadata": {
        "id": "view-in-github",
        "colab_type": "text"
      },
      "source": [
        "<a href=\"https://colab.research.google.com/github/Gakori/RealEstate/blob/master/House_price_predictions.ipynb\" target=\"_parent\"><img src=\"https://colab.research.google.com/assets/colab-badge.svg\" alt=\"Open In Colab\"/></a>"
      ]
    },
    {
      "cell_type": "markdown",
      "metadata": {
        "id": "5IATLHecDcsa",
        "colab_type": "text"
      },
      "source": [
        "### 1) Research Question\n",
        "\n",
        "As a Data Scientist, you work for Hass Consulting Company which is a real estate leader with over 25 years of experience. You have been tasked to study the factors that affect **housing prices** using the given information on real estate properties that was collected over the past few months. Later onwards, create a model that would allow the company to accurately predict the sale of prices upon being provided with the predictor variables. \n",
        "\n",
        "Provided the factors that affect **house prices**, study the factors and predict the sale prices.\n",
        "\n",
        "This can be done by creating different regression models and observing their perfomances.\n",
        "\n",
        "Put into cosideration multiple linear regression, ridge, lasso, elastic net and any other model to make the accurate predictions.\n",
        "\n",
        "\n",
        "## Metric for success\n",
        "\n",
        "Investigating factors that affect house price and predict house price. Create different models to make the best prediction and identify which model perfoms best.\n",
        "\n",
        "## Understanding the context\n",
        "\n",
        "Real estate is the property, land, buildings, air rights above the land and underground rights below the land. To buy and sell a home, some factors must be put into consideration. https://www.thebalance.com/real-estate-what-it-is-and-how-it-works-3305882\n",
        "\n",
        "## ExperimentalDesign\n",
        "\n",
        "i) Loading the data\n",
        "\n",
        "ii) Data cleaning\n",
        "\n",
        "iii) EDA - feature engineering, univariate, bivarite\n",
        "\n",
        "iv) Regression analysis, Modelling\n",
        "\n",
        "v) Reccommendations\n",
        "\n",
        "vi) Challenge the solution - providing insights on how you can make improvements in model improvement.\n"
      ]
    },
    {
      "cell_type": "markdown",
      "metadata": {
        "id": "-q1hk2cMMyH6",
        "colab_type": "text"
      },
      "source": [
        "### 2) Loading the data"
      ]
    },
    {
      "cell_type": "code",
      "metadata": {
        "id": "-7j1Ir_SCkXl",
        "colab_type": "code",
        "colab": {}
      },
      "source": [
        "import pandas as pd\n",
        "import numpy as np\n",
        "\n",
        "#for viz\n",
        "import seaborn as sns\n",
        "import matplotlib\n",
        "from matplotlib import pyplot as plt\n",
        "\n",
        "import sklearn \n",
        "import scipy as sp\n",
        "from sklearn import metrics\n",
        "from sklearn import linear_model\n",
        "from pandas import Series, DataFrame\n",
        "from sklearn.metrics import r2_score\n",
        "import statsmodels.formula.api as smf\n",
        "from sklearn.linear_model import Ridge\n",
        "from sklearn.linear_model import ElasticNet\n",
        "from sklearn.metrics import mean_squared_error\n",
        "from sklearn.preprocessing import StandardScaler\n",
        "from sklearn.model_selection import GridSearchCV\n",
        "from sklearn.linear_model import LinearRegression\n",
        "from sklearn.ensemble import RandomForestClassifier\n",
        "from sklearn.model_selection import train_test_split\n",
        "from statsmodels.stats.outliers_influence import variance_inflation_factor\n",
        "\n",
        "import warnings\n",
        "warnings.filterwarnings('ignore')"
      ],
      "execution_count": 101,
      "outputs": []
    },
    {
      "cell_type": "code",
      "metadata": {
        "id": "FSIUEPcxNVr1",
        "colab_type": "code",
        "colab": {
          "base_uri": "https://localhost:8080/",
          "height": 218
        },
        "outputId": "532fd31d-4e4c-45ca-84f8-333eab771e16"
      },
      "source": [
        "#loading the dataset\n",
        "df = pd.read_csv('house_data.csv')\n",
        "df.head()"
      ],
      "execution_count": 102,
      "outputs": [
        {
          "output_type": "execute_result",
          "data": {
            "text/html": [
              "<div>\n",
              "<style scoped>\n",
              "    .dataframe tbody tr th:only-of-type {\n",
              "        vertical-align: middle;\n",
              "    }\n",
              "\n",
              "    .dataframe tbody tr th {\n",
              "        vertical-align: top;\n",
              "    }\n",
              "\n",
              "    .dataframe thead th {\n",
              "        text-align: right;\n",
              "    }\n",
              "</style>\n",
              "<table border=\"1\" class=\"dataframe\">\n",
              "  <thead>\n",
              "    <tr style=\"text-align: right;\">\n",
              "      <th></th>\n",
              "      <th>id</th>\n",
              "      <th>price</th>\n",
              "      <th>bedrooms</th>\n",
              "      <th>bathrooms</th>\n",
              "      <th>sqft_living</th>\n",
              "      <th>sqft_lot</th>\n",
              "      <th>floors</th>\n",
              "      <th>waterfront</th>\n",
              "      <th>view</th>\n",
              "      <th>condition</th>\n",
              "      <th>grade</th>\n",
              "      <th>sqft_above</th>\n",
              "      <th>sqft_basement</th>\n",
              "      <th>yr_built</th>\n",
              "      <th>yr_renovated</th>\n",
              "      <th>zipcode</th>\n",
              "      <th>lat</th>\n",
              "      <th>long</th>\n",
              "      <th>sqft_living15</th>\n",
              "      <th>sqft_lot15</th>\n",
              "    </tr>\n",
              "  </thead>\n",
              "  <tbody>\n",
              "    <tr>\n",
              "      <th>0</th>\n",
              "      <td>7129300520</td>\n",
              "      <td>221900.0</td>\n",
              "      <td>3</td>\n",
              "      <td>1.00</td>\n",
              "      <td>1180</td>\n",
              "      <td>5650</td>\n",
              "      <td>1.0</td>\n",
              "      <td>0</td>\n",
              "      <td>0</td>\n",
              "      <td>3</td>\n",
              "      <td>7</td>\n",
              "      <td>1180</td>\n",
              "      <td>0</td>\n",
              "      <td>1955</td>\n",
              "      <td>0</td>\n",
              "      <td>98178</td>\n",
              "      <td>47.5112</td>\n",
              "      <td>-122.257</td>\n",
              "      <td>1340</td>\n",
              "      <td>5650</td>\n",
              "    </tr>\n",
              "    <tr>\n",
              "      <th>1</th>\n",
              "      <td>6414100192</td>\n",
              "      <td>538000.0</td>\n",
              "      <td>3</td>\n",
              "      <td>2.25</td>\n",
              "      <td>2570</td>\n",
              "      <td>7242</td>\n",
              "      <td>2.0</td>\n",
              "      <td>0</td>\n",
              "      <td>0</td>\n",
              "      <td>3</td>\n",
              "      <td>7</td>\n",
              "      <td>2170</td>\n",
              "      <td>400</td>\n",
              "      <td>1951</td>\n",
              "      <td>1991</td>\n",
              "      <td>98125</td>\n",
              "      <td>47.7210</td>\n",
              "      <td>-122.319</td>\n",
              "      <td>1690</td>\n",
              "      <td>7639</td>\n",
              "    </tr>\n",
              "    <tr>\n",
              "      <th>2</th>\n",
              "      <td>5631500400</td>\n",
              "      <td>180000.0</td>\n",
              "      <td>2</td>\n",
              "      <td>1.00</td>\n",
              "      <td>770</td>\n",
              "      <td>10000</td>\n",
              "      <td>1.0</td>\n",
              "      <td>0</td>\n",
              "      <td>0</td>\n",
              "      <td>3</td>\n",
              "      <td>6</td>\n",
              "      <td>770</td>\n",
              "      <td>0</td>\n",
              "      <td>1933</td>\n",
              "      <td>0</td>\n",
              "      <td>98028</td>\n",
              "      <td>47.7379</td>\n",
              "      <td>-122.233</td>\n",
              "      <td>2720</td>\n",
              "      <td>8062</td>\n",
              "    </tr>\n",
              "    <tr>\n",
              "      <th>3</th>\n",
              "      <td>2487200875</td>\n",
              "      <td>604000.0</td>\n",
              "      <td>4</td>\n",
              "      <td>3.00</td>\n",
              "      <td>1960</td>\n",
              "      <td>5000</td>\n",
              "      <td>1.0</td>\n",
              "      <td>0</td>\n",
              "      <td>0</td>\n",
              "      <td>5</td>\n",
              "      <td>7</td>\n",
              "      <td>1050</td>\n",
              "      <td>910</td>\n",
              "      <td>1965</td>\n",
              "      <td>0</td>\n",
              "      <td>98136</td>\n",
              "      <td>47.5208</td>\n",
              "      <td>-122.393</td>\n",
              "      <td>1360</td>\n",
              "      <td>5000</td>\n",
              "    </tr>\n",
              "    <tr>\n",
              "      <th>4</th>\n",
              "      <td>1954400510</td>\n",
              "      <td>510000.0</td>\n",
              "      <td>3</td>\n",
              "      <td>2.00</td>\n",
              "      <td>1680</td>\n",
              "      <td>8080</td>\n",
              "      <td>1.0</td>\n",
              "      <td>0</td>\n",
              "      <td>0</td>\n",
              "      <td>3</td>\n",
              "      <td>8</td>\n",
              "      <td>1680</td>\n",
              "      <td>0</td>\n",
              "      <td>1987</td>\n",
              "      <td>0</td>\n",
              "      <td>98074</td>\n",
              "      <td>47.6168</td>\n",
              "      <td>-122.045</td>\n",
              "      <td>1800</td>\n",
              "      <td>7503</td>\n",
              "    </tr>\n",
              "  </tbody>\n",
              "</table>\n",
              "</div>"
            ],
            "text/plain": [
              "           id     price  bedrooms  ...     long  sqft_living15  sqft_lot15\n",
              "0  7129300520  221900.0         3  ... -122.257           1340        5650\n",
              "1  6414100192  538000.0         3  ... -122.319           1690        7639\n",
              "2  5631500400  180000.0         2  ... -122.233           2720        8062\n",
              "3  2487200875  604000.0         4  ... -122.393           1360        5000\n",
              "4  1954400510  510000.0         3  ... -122.045           1800        7503\n",
              "\n",
              "[5 rows x 20 columns]"
            ]
          },
          "metadata": {
            "tags": []
          },
          "execution_count": 102
        }
      ]
    },
    {
      "cell_type": "code",
      "metadata": {
        "id": "DoZNoK8aNi73",
        "colab_type": "code",
        "colab": {
          "base_uri": "https://localhost:8080/",
          "height": 35
        },
        "outputId": "265a0657-b7d2-427d-d045-8cc30d513d47"
      },
      "source": [
        "# shape of the dataset\n",
        "\n",
        "df.shape"
      ],
      "execution_count": 18,
      "outputs": [
        {
          "output_type": "execute_result",
          "data": {
            "text/plain": [
              "(21613, 20)"
            ]
          },
          "metadata": {
            "tags": []
          },
          "execution_count": 18
        }
      ]
    },
    {
      "cell_type": "markdown",
      "metadata": {
        "id": "yu-hfBLpN6al",
        "colab_type": "text"
      },
      "source": [
        "*the dataset contains 21,613 rows and 20 columns*"
      ]
    },
    {
      "cell_type": "code",
      "metadata": {
        "id": "614tdiweN5bT",
        "colab_type": "code",
        "colab": {
          "base_uri": "https://localhost:8080/",
          "height": 108
        },
        "outputId": "95285397-96d6-4051-87b4-8798db1008f2"
      },
      "source": [
        "#viewing all the columns\n",
        "\n",
        "df.columns"
      ],
      "execution_count": 19,
      "outputs": [
        {
          "output_type": "execute_result",
          "data": {
            "text/plain": [
              "Index(['id', 'price', 'bedrooms', 'bathrooms', 'sqft_living', 'sqft_lot',\n",
              "       'floors', 'waterfront', 'view', 'condition', 'grade', 'sqft_above',\n",
              "       'sqft_basement', 'yr_built', 'yr_renovated', 'zipcode', 'lat', 'long',\n",
              "       'sqft_living15', 'sqft_lot15'],\n",
              "      dtype='object')"
            ]
          },
          "metadata": {
            "tags": []
          },
          "execution_count": 19
        }
      ]
    },
    {
      "cell_type": "code",
      "metadata": {
        "id": "Q9crKDpaOFbD",
        "colab_type": "code",
        "colab": {
          "base_uri": "https://localhost:8080/",
          "height": 508
        },
        "outputId": "412d168c-af3a-4168-b2cc-4ffff075495d"
      },
      "source": [
        "#dataset info\n",
        "\n",
        "df.info()"
      ],
      "execution_count": 20,
      "outputs": [
        {
          "output_type": "stream",
          "text": [
            "<class 'pandas.core.frame.DataFrame'>\n",
            "RangeIndex: 21613 entries, 0 to 21612\n",
            "Data columns (total 20 columns):\n",
            " #   Column         Non-Null Count  Dtype  \n",
            "---  ------         --------------  -----  \n",
            " 0   id             21613 non-null  int64  \n",
            " 1   price          21613 non-null  float64\n",
            " 2   bedrooms       21613 non-null  int64  \n",
            " 3   bathrooms      21613 non-null  float64\n",
            " 4   sqft_living    21613 non-null  int64  \n",
            " 5   sqft_lot       21613 non-null  int64  \n",
            " 6   floors         21613 non-null  float64\n",
            " 7   waterfront     21613 non-null  int64  \n",
            " 8   view           21613 non-null  int64  \n",
            " 9   condition      21613 non-null  int64  \n",
            " 10  grade          21613 non-null  int64  \n",
            " 11  sqft_above     21613 non-null  int64  \n",
            " 12  sqft_basement  21613 non-null  int64  \n",
            " 13  yr_built       21613 non-null  int64  \n",
            " 14  yr_renovated   21613 non-null  int64  \n",
            " 15  zipcode        21613 non-null  int64  \n",
            " 16  lat            21613 non-null  float64\n",
            " 17  long           21613 non-null  float64\n",
            " 18  sqft_living15  21613 non-null  int64  \n",
            " 19  sqft_lot15     21613 non-null  int64  \n",
            "dtypes: float64(5), int64(15)\n",
            "memory usage: 3.3 MB\n"
          ],
          "name": "stdout"
        }
      ]
    },
    {
      "cell_type": "markdown",
      "metadata": {
        "id": "vwQCQRnTPvgj",
        "colab_type": "text"
      },
      "source": [
        "*there are no null values in our dataset*"
      ]
    },
    {
      "cell_type": "code",
      "metadata": {
        "id": "80CA7VuMOPEV",
        "colab_type": "code",
        "colab": {
          "base_uri": "https://localhost:8080/",
          "height": 399
        },
        "outputId": "b09b2160-176c-4f25-8358-5e5beaf4d77c"
      },
      "source": [
        "#variables datatypes\n",
        "\n",
        "df.dtypes"
      ],
      "execution_count": 21,
      "outputs": [
        {
          "output_type": "execute_result",
          "data": {
            "text/plain": [
              "id                 int64\n",
              "price            float64\n",
              "bedrooms           int64\n",
              "bathrooms        float64\n",
              "sqft_living        int64\n",
              "sqft_lot           int64\n",
              "floors           float64\n",
              "waterfront         int64\n",
              "view               int64\n",
              "condition          int64\n",
              "grade              int64\n",
              "sqft_above         int64\n",
              "sqft_basement      int64\n",
              "yr_built           int64\n",
              "yr_renovated       int64\n",
              "zipcode            int64\n",
              "lat              float64\n",
              "long             float64\n",
              "sqft_living15      int64\n",
              "sqft_lot15         int64\n",
              "dtype: object"
            ]
          },
          "metadata": {
            "tags": []
          },
          "execution_count": 21
        }
      ]
    },
    {
      "cell_type": "markdown",
      "metadata": {
        "id": "fNLM60gcOmg6",
        "colab_type": "text"
      },
      "source": [
        "*bathrooms should be in integer format*"
      ]
    },
    {
      "cell_type": "code",
      "metadata": {
        "id": "36sZnMVZOmKh",
        "colab_type": "code",
        "colab": {
          "base_uri": "https://localhost:8080/",
          "height": 35
        },
        "outputId": "270d3fb6-ef7e-440a-84d2-881c51979ad5"
      },
      "source": [
        "#checking for duplicated values\n",
        "df.duplicated().any().sum()"
      ],
      "execution_count": 22,
      "outputs": [
        {
          "output_type": "execute_result",
          "data": {
            "text/plain": [
              "1"
            ]
          },
          "metadata": {
            "tags": []
          },
          "execution_count": 22
        }
      ]
    },
    {
      "cell_type": "markdown",
      "metadata": {
        "id": "XDmHo3szP-hu",
        "colab_type": "text"
      },
      "source": [
        "*the dataset only contains 1 duplicate value*"
      ]
    },
    {
      "cell_type": "code",
      "metadata": {
        "id": "FwV8v3WwQ8J8",
        "colab_type": "code",
        "colab": {
          "base_uri": "https://localhost:8080/",
          "height": 308
        },
        "outputId": "09d776b1-d7a5-4367-d18a-1013f4b28bd6"
      },
      "source": [
        "#statistical description of the dataset\n",
        "\n",
        "df.describe()"
      ],
      "execution_count": 23,
      "outputs": [
        {
          "output_type": "execute_result",
          "data": {
            "text/html": [
              "<div>\n",
              "<style scoped>\n",
              "    .dataframe tbody tr th:only-of-type {\n",
              "        vertical-align: middle;\n",
              "    }\n",
              "\n",
              "    .dataframe tbody tr th {\n",
              "        vertical-align: top;\n",
              "    }\n",
              "\n",
              "    .dataframe thead th {\n",
              "        text-align: right;\n",
              "    }\n",
              "</style>\n",
              "<table border=\"1\" class=\"dataframe\">\n",
              "  <thead>\n",
              "    <tr style=\"text-align: right;\">\n",
              "      <th></th>\n",
              "      <th>id</th>\n",
              "      <th>price</th>\n",
              "      <th>bedrooms</th>\n",
              "      <th>bathrooms</th>\n",
              "      <th>sqft_living</th>\n",
              "      <th>sqft_lot</th>\n",
              "      <th>floors</th>\n",
              "      <th>waterfront</th>\n",
              "      <th>view</th>\n",
              "      <th>condition</th>\n",
              "      <th>grade</th>\n",
              "      <th>sqft_above</th>\n",
              "      <th>sqft_basement</th>\n",
              "      <th>yr_built</th>\n",
              "      <th>yr_renovated</th>\n",
              "      <th>zipcode</th>\n",
              "      <th>lat</th>\n",
              "      <th>long</th>\n",
              "      <th>sqft_living15</th>\n",
              "      <th>sqft_lot15</th>\n",
              "    </tr>\n",
              "  </thead>\n",
              "  <tbody>\n",
              "    <tr>\n",
              "      <th>count</th>\n",
              "      <td>2.161300e+04</td>\n",
              "      <td>2.161300e+04</td>\n",
              "      <td>21613.000000</td>\n",
              "      <td>21613.000000</td>\n",
              "      <td>21613.000000</td>\n",
              "      <td>2.161300e+04</td>\n",
              "      <td>21613.000000</td>\n",
              "      <td>21613.000000</td>\n",
              "      <td>21613.000000</td>\n",
              "      <td>21613.000000</td>\n",
              "      <td>21613.000000</td>\n",
              "      <td>21613.000000</td>\n",
              "      <td>21613.000000</td>\n",
              "      <td>21613.000000</td>\n",
              "      <td>21613.000000</td>\n",
              "      <td>21613.000000</td>\n",
              "      <td>21613.000000</td>\n",
              "      <td>21613.000000</td>\n",
              "      <td>21613.000000</td>\n",
              "      <td>21613.000000</td>\n",
              "    </tr>\n",
              "    <tr>\n",
              "      <th>mean</th>\n",
              "      <td>4.580302e+09</td>\n",
              "      <td>5.401822e+05</td>\n",
              "      <td>3.370842</td>\n",
              "      <td>2.114757</td>\n",
              "      <td>2079.899736</td>\n",
              "      <td>1.510697e+04</td>\n",
              "      <td>1.494309</td>\n",
              "      <td>0.007542</td>\n",
              "      <td>0.234303</td>\n",
              "      <td>3.409430</td>\n",
              "      <td>7.656873</td>\n",
              "      <td>1788.390691</td>\n",
              "      <td>291.509045</td>\n",
              "      <td>1971.005136</td>\n",
              "      <td>84.402258</td>\n",
              "      <td>98077.939805</td>\n",
              "      <td>47.560053</td>\n",
              "      <td>-122.213896</td>\n",
              "      <td>1986.552492</td>\n",
              "      <td>12768.455652</td>\n",
              "    </tr>\n",
              "    <tr>\n",
              "      <th>std</th>\n",
              "      <td>2.876566e+09</td>\n",
              "      <td>3.673622e+05</td>\n",
              "      <td>0.930062</td>\n",
              "      <td>0.770163</td>\n",
              "      <td>918.440897</td>\n",
              "      <td>4.142051e+04</td>\n",
              "      <td>0.539989</td>\n",
              "      <td>0.086517</td>\n",
              "      <td>0.766318</td>\n",
              "      <td>0.650743</td>\n",
              "      <td>1.175459</td>\n",
              "      <td>828.090978</td>\n",
              "      <td>442.575043</td>\n",
              "      <td>29.373411</td>\n",
              "      <td>401.679240</td>\n",
              "      <td>53.505026</td>\n",
              "      <td>0.138564</td>\n",
              "      <td>0.140828</td>\n",
              "      <td>685.391304</td>\n",
              "      <td>27304.179631</td>\n",
              "    </tr>\n",
              "    <tr>\n",
              "      <th>min</th>\n",
              "      <td>1.000102e+06</td>\n",
              "      <td>7.500000e+04</td>\n",
              "      <td>0.000000</td>\n",
              "      <td>0.000000</td>\n",
              "      <td>290.000000</td>\n",
              "      <td>5.200000e+02</td>\n",
              "      <td>1.000000</td>\n",
              "      <td>0.000000</td>\n",
              "      <td>0.000000</td>\n",
              "      <td>1.000000</td>\n",
              "      <td>1.000000</td>\n",
              "      <td>290.000000</td>\n",
              "      <td>0.000000</td>\n",
              "      <td>1900.000000</td>\n",
              "      <td>0.000000</td>\n",
              "      <td>98001.000000</td>\n",
              "      <td>47.155900</td>\n",
              "      <td>-122.519000</td>\n",
              "      <td>399.000000</td>\n",
              "      <td>651.000000</td>\n",
              "    </tr>\n",
              "    <tr>\n",
              "      <th>25%</th>\n",
              "      <td>2.123049e+09</td>\n",
              "      <td>3.219500e+05</td>\n",
              "      <td>3.000000</td>\n",
              "      <td>1.750000</td>\n",
              "      <td>1427.000000</td>\n",
              "      <td>5.040000e+03</td>\n",
              "      <td>1.000000</td>\n",
              "      <td>0.000000</td>\n",
              "      <td>0.000000</td>\n",
              "      <td>3.000000</td>\n",
              "      <td>7.000000</td>\n",
              "      <td>1190.000000</td>\n",
              "      <td>0.000000</td>\n",
              "      <td>1951.000000</td>\n",
              "      <td>0.000000</td>\n",
              "      <td>98033.000000</td>\n",
              "      <td>47.471000</td>\n",
              "      <td>-122.328000</td>\n",
              "      <td>1490.000000</td>\n",
              "      <td>5100.000000</td>\n",
              "    </tr>\n",
              "    <tr>\n",
              "      <th>50%</th>\n",
              "      <td>3.904930e+09</td>\n",
              "      <td>4.500000e+05</td>\n",
              "      <td>3.000000</td>\n",
              "      <td>2.250000</td>\n",
              "      <td>1910.000000</td>\n",
              "      <td>7.618000e+03</td>\n",
              "      <td>1.500000</td>\n",
              "      <td>0.000000</td>\n",
              "      <td>0.000000</td>\n",
              "      <td>3.000000</td>\n",
              "      <td>7.000000</td>\n",
              "      <td>1560.000000</td>\n",
              "      <td>0.000000</td>\n",
              "      <td>1975.000000</td>\n",
              "      <td>0.000000</td>\n",
              "      <td>98065.000000</td>\n",
              "      <td>47.571800</td>\n",
              "      <td>-122.230000</td>\n",
              "      <td>1840.000000</td>\n",
              "      <td>7620.000000</td>\n",
              "    </tr>\n",
              "    <tr>\n",
              "      <th>75%</th>\n",
              "      <td>7.308900e+09</td>\n",
              "      <td>6.450000e+05</td>\n",
              "      <td>4.000000</td>\n",
              "      <td>2.500000</td>\n",
              "      <td>2550.000000</td>\n",
              "      <td>1.068800e+04</td>\n",
              "      <td>2.000000</td>\n",
              "      <td>0.000000</td>\n",
              "      <td>0.000000</td>\n",
              "      <td>4.000000</td>\n",
              "      <td>8.000000</td>\n",
              "      <td>2210.000000</td>\n",
              "      <td>560.000000</td>\n",
              "      <td>1997.000000</td>\n",
              "      <td>0.000000</td>\n",
              "      <td>98118.000000</td>\n",
              "      <td>47.678000</td>\n",
              "      <td>-122.125000</td>\n",
              "      <td>2360.000000</td>\n",
              "      <td>10083.000000</td>\n",
              "    </tr>\n",
              "    <tr>\n",
              "      <th>max</th>\n",
              "      <td>9.900000e+09</td>\n",
              "      <td>7.700000e+06</td>\n",
              "      <td>33.000000</td>\n",
              "      <td>8.000000</td>\n",
              "      <td>13540.000000</td>\n",
              "      <td>1.651359e+06</td>\n",
              "      <td>3.500000</td>\n",
              "      <td>1.000000</td>\n",
              "      <td>4.000000</td>\n",
              "      <td>5.000000</td>\n",
              "      <td>13.000000</td>\n",
              "      <td>9410.000000</td>\n",
              "      <td>4820.000000</td>\n",
              "      <td>2015.000000</td>\n",
              "      <td>2015.000000</td>\n",
              "      <td>98199.000000</td>\n",
              "      <td>47.777600</td>\n",
              "      <td>-121.315000</td>\n",
              "      <td>6210.000000</td>\n",
              "      <td>871200.000000</td>\n",
              "    </tr>\n",
              "  </tbody>\n",
              "</table>\n",
              "</div>"
            ],
            "text/plain": [
              "                 id         price  ...  sqft_living15     sqft_lot15\n",
              "count  2.161300e+04  2.161300e+04  ...   21613.000000   21613.000000\n",
              "mean   4.580302e+09  5.401822e+05  ...    1986.552492   12768.455652\n",
              "std    2.876566e+09  3.673622e+05  ...     685.391304   27304.179631\n",
              "min    1.000102e+06  7.500000e+04  ...     399.000000     651.000000\n",
              "25%    2.123049e+09  3.219500e+05  ...    1490.000000    5100.000000\n",
              "50%    3.904930e+09  4.500000e+05  ...    1840.000000    7620.000000\n",
              "75%    7.308900e+09  6.450000e+05  ...    2360.000000   10083.000000\n",
              "max    9.900000e+09  7.700000e+06  ...    6210.000000  871200.000000\n",
              "\n",
              "[8 rows x 20 columns]"
            ]
          },
          "metadata": {
            "tags": []
          },
          "execution_count": 23
        }
      ]
    },
    {
      "cell_type": "code",
      "metadata": {
        "id": "x8u_EuU20BdI",
        "colab_type": "code",
        "colab": {
          "base_uri": "https://localhost:8080/",
          "height": 35
        },
        "outputId": "d4c3c66e-b4a4-4873-8750-bb0c32c77ab7"
      },
      "source": [
        "df['price'].mean()"
      ],
      "execution_count": 24,
      "outputs": [
        {
          "output_type": "execute_result",
          "data": {
            "text/plain": [
              "540182.1587933188"
            ]
          },
          "metadata": {
            "tags": []
          },
          "execution_count": 24
        }
      ]
    },
    {
      "cell_type": "code",
      "metadata": {
        "id": "xXrnn5drRyOQ",
        "colab_type": "code",
        "colab": {
          "base_uri": "https://localhost:8080/",
          "height": 1000
        },
        "outputId": "048fc831-9b75-4c3f-af23-0610f9d09eee"
      },
      "source": [
        "for column in df:\n",
        "  print(column)  \n",
        "#   print([df[column].nunique()])\n",
        "  print(df[column].unique())     \n",
        "  print('\\n')\n"
      ],
      "execution_count": 25,
      "outputs": [
        {
          "output_type": "stream",
          "text": [
            "id\n",
            "[7129300520 6414100192 5631500400 ... 1523300141  291310100 1523300157]\n",
            "\n",
            "\n",
            "price\n",
            "[221900. 538000. 180000. ... 541800. 610685. 402101.]\n",
            "\n",
            "\n",
            "bedrooms\n",
            "[ 3  2  4  5  1  6  7  0  8  9 11 10 33]\n",
            "\n",
            "\n",
            "bathrooms\n",
            "[1.   2.25 3.   2.   4.5  1.5  2.5  1.75 2.75 3.25 4.   3.5  0.75 4.75\n",
            " 5.   4.25 3.75 0.   1.25 5.25 6.   0.5  5.5  6.75 5.75 8.   7.5  7.75\n",
            " 6.25 6.5 ]\n",
            "\n",
            "\n",
            "sqft_living\n",
            "[1180 2570  770 ... 3087 3118 1425]\n",
            "\n",
            "\n",
            "sqft_lot\n",
            "[ 5650  7242 10000 ...  5813  2388  1076]\n",
            "\n",
            "\n",
            "floors\n",
            "[1.  2.  1.5 3.  2.5 3.5]\n",
            "\n",
            "\n",
            "waterfront\n",
            "[0 1]\n",
            "\n",
            "\n",
            "view\n",
            "[0 3 4 2 1]\n",
            "\n",
            "\n",
            "condition\n",
            "[3 5 4 1 2]\n",
            "\n",
            "\n",
            "grade\n",
            "[ 7  6  8 11  9  5 10 12  4  3 13  1]\n",
            "\n",
            "\n",
            "sqft_above\n",
            "[1180 2170  770 1050 1680 3890 1715 1060 1890 1860  860 1430 1370 1810\n",
            " 1980 1600 1200 1250 2330 2270 1070 2450 1710 1750 1400  790 2570 2320\n",
            " 1190 1510 1090 1280  930 2360  890 2620 2600 3595 1570  920 3160  990\n",
            " 2290 2165 1640 1000 2130 2830 2250 2420 3250 1850 1590 1260 2519 1540\n",
            " 1110 1770 2720 2240 3070 2380 2390  880 1040  910 3450 2350 1900 1010\n",
            "  960 2660 1610  765 3520 1290 1960 1160 1210 1270 1440 2190 2920 1460\n",
            " 1170 1240 3140 2030 2310  700 1080 2520 2780 1560 1450 1720 2910 1620\n",
            " 1360 2070 2460 1390 2140 1320 1340 1550  940 1380 3670 2370 1130  980\n",
            " 3540 2500 1760 1030 1780 3400 2680 1670 2590  820 1220 2440 2090 1100\n",
            " 1330 1420 1690 2150 1910 1350 1940  900 1630 2714  850 1870 1950 2760\n",
            " 2020 1120 1480 1230 2280 3760 3530  830 1300 2740 1830  720 2010 3360\n",
            "  800 1730  760 1700 4750 5310  580 2653 2850 2210 2630 3500 1740 1140\n",
            " 2160 2650  970 2040 2180 2220 1660 3370 2690 1930 3150 3030 2050 2490\n",
            " 2560 1275 2580  560 1820 1840 2990 3230 1580 3480 2510 1410 2120 3300\n",
            " 3840 1500 1530 2840  833 2000 6070  950 2200 4040 1920 1490 3470 3130\n",
            " 2610 3260 2260  430 3390  630 4860 3860 2810  870 3180 2770 4030 4410\n",
            " 2400 1520 3040 6050 4740 1970 5403 3350 3580 1790  750 2860 2750 2340\n",
            " 2870 4120 3200 2550 1805 4150 1384 2060 2110 3590 2100 2540 1880 1150\n",
            " 1470 1255 1800 4370 3190 2730 4570 2470  670 2900 4670 4230 2156 1020\n",
            " 2940 2640 2710 3100 3610 4270  840 3090 2300  380 2480 3460 3060 3064\n",
            " 3000 1654 2790 1310 2230 2430 3680 2670 2208  810  740 1422  490 2080\n",
            " 3440 5670 4475  730 3410 3010  600 2960 3570 4300 3990  780 3020 5990\n",
            "  440 4460 4190 2800 2530 1650 3690 2932 3720 4250 3110 2963 4930 2950\n",
            " 5000 2452 2820 1981  640 2495 2403 5320 6720  660 2341 4210 3830 3280\n",
            " 2980 5153 1990 1646  610  710 5450 3504 3210 1782 2930  590 4280  680\n",
            " 3880 3430 3750 4130 5710 3380 3330 4700 3220 3362 3510 3810  620 4490\n",
            " 2410 3050 1008 3488 4070 3420 5770 1605  520 1088 3555 4360 3960 2700\n",
            " 4340 1552 3850 2303 3270 4350 3640 2174 4160 2496 5180 5130 6350 3770\n",
            " 2153 3780 2890 1714 2201 2970  992 3950 3527 2835 3915 1427 4870 3340\n",
            " 3620 4310 3930 4080 5400  570 3310 6110 3320 3490 3859 3710 1798 4600\n",
            " 3560 3940 3600 3800 1105 2305 3290 5050 1556 1553 4000 1657 3001 4220\n",
            "  480 3120 3740  530 3700 5230 5370 3080 4140 4430 3550 1159 1288 2880\n",
            " 4610 1122 3052 1479 7680 3820 1934 5080 2675 2506 5760 2154 4390 3240\n",
            " 1995 1689 2782 2395 4400 6200 3526 4320 2483 4380 4580 4180 2064 3650\n",
            " 1726 2019 4240 1256  500 1355 1747 1678 1833 1414 4115 3597 3170  390\n",
            " 1976 5830 2601 3920 2641 5070 2518 3910 3660 3695 4020 2803 2074 2038\n",
            " 4060 4890 2329 1264 1095  690 4090 1392 2844  902 4560 2811 4720 2168\n",
            " 5610 2683 4900 2095 4290 4050 4260 4440 6220 1175  998 2356 4500 3900\n",
            " 3831 1315 4470 4810 2286 2927 4760 8570 5140 1679 1811 2849 1676 1757\n",
            " 3730 2441 2163 5250 2795 2415 3970 4200 1068 5240 1509 1954 4820 1651\n",
            " 4100 1752 3630 2885 3154 1129 2632 1996 4010  550  410 6430 3790 2031\n",
            " 1652 2434 3316 1899 2331 2497 2216 4170 1341 1961 5584 8860 2507 5220\n",
            " 4850 5844 5530 2145  650 1982 4910 3605 1778 1463 2783 1946 1358 3870\n",
            " 1864 1845 6290 3980 2382 2979 3674 2726 5440 1295 2115 6085 3265 3136\n",
            " 6640 4620 3361 2245 2242 1078 2577 1329  420 4330 1975 7420 1788 2299\n",
            " 1092 4225 1087 1904  470 2966 2192 2253 5550 4133 4285 1216  540 9410\n",
            " 2075 5330 2166 1628 1808 1352 2557 6380 7880 2734 1363 1769 2093 1677\n",
            " 2588 5190 2298 1491 2961 5020 5980 4540  844 6120 2233 4480 4110 4770\n",
            " 2473  995 5160 1494 2007 1048 3002 4780 2155 2014 4980 2665 4830 4790\n",
            " 5010  370 2105 3006 3004 2689 4660 1746 2678 2755 2414  901 4630 2068\n",
            " 2807 2643 2181 4510 4420 1604 1435 3045 2717 2905 4940 5110 2533 6660\n",
            " 3485 2659 5090 2375 1964  866 1595  944 5480  809 5040 1764 1656 1802\n",
            "  460 2692 1544 2044 1212 4083 8020 3905 1502 4590  384 2092 6090 1615\n",
            " 7320 1396 1484 1765 5490 1453 1643 5300 1381 4065  290 1313 5430 1397\n",
            " 2793 2475 1936 3028  798 2575 3276 1584 2393 2029 3222 1072 1785 1984\n",
            "  962 2423 2052 2538 2437 2789 2906 4800 7850 2196 1847 2658 2655 3855\n",
            " 1728  963 2223 1611 2015 2448 1489 1116 3745 1002 3202 1347 1481 2311\n",
            " 2544 2584 2217 3569 3181 1921 2612 2671 2598 3284 3266 1076 2594 2718\n",
            " 1794 2481 3845 1413 1876 3148 2413 1767 5060  806 2547 1834 2024 1165\n",
            " 2134 1741 2798 1852 2099 3216 1094 2891 2432 2283 2701 1658  893 2009\n",
            " 1444 2744 3078 3065 1578 2815 4960 1571 6530 4640 1536 3172 6370 3223\n",
            " 1608 2229 3135 1408 1763 4840 1232 2502 2424 1296 1914  988 3828 3056\n",
            " 2267 1131 2796 1812 1084 2025 1564 1239 2568 1528 2628 2185 2478 2669\n",
            " 1912 2828 2425 1446 3206 2406 1419 2056 1144 2456 4950 3192  828 2529\n",
            " 2732 1987 3906 4073 2578 2738 3691 1061 2846 2542 1889 3336 3236 1451\n",
            " 1983 2313 1824 1322 1766 2301 3274 1108 2864 2716 1572 3281 2656 2398\n",
            " 1867 1613 2587 2623  894 1606 2244 2026 2238 2517 2708 2555 1405 4450\n",
            " 1248 6420 2531 1333 2198 3087 3118 1425]\n",
            "\n",
            "\n",
            "sqft_basement\n",
            "[   0  400  910 1530  730 1700  300  970  760  720  700  820  780  790\n",
            "  330 1620  360  588 1510  410  990  600  560  550 1000 1600  500 1040\n",
            "  880 1010  240  265  290  800  540  380  710  840  770  480  570 1490\n",
            "  620 1250 1270  120  650  180 1130  450 1640 1460 1020 1030  750  640\n",
            " 1070  490 1310  630 2000  390  430  850  210 1430 1950  440  220 1160\n",
            "  860  580 2060 1820 1180  200 1150 1200  680  530 1450 1170 1080  960\n",
            " 1100  280  870  460 1400 1320  660 1220  900  420 1580 1380  475  690\n",
            "  270  350  935 1370  980 1470  160  950   50  740 1780 1900  340  470\n",
            "  370  140 1760  130  610  520  890 1110  150 1720  810  190 1290  670\n",
            " 1800 1120 1810   60 1050  940  310  930 1390 1830 1300  510 1330 1590\n",
            "  920 1420 1240 1960 1560 2020 1190 2110 1280  250 2390 1230  170  830\n",
            " 1260 1410 1340  590 1500 1140  260  100  320 1480 1060 1284 1670 1350\n",
            " 2570 2590 1090  110 2500   90 1940 1550 2350 2490 1481 1360 1135 1520\n",
            " 1850 1660 2130 2600 1690  243 1210 2620 1024 1798 1610 1440 1570 1650\n",
            "  704 1910 1630 2360 1852 2090 2400 1790 2150  230   70 1680 2100 3000\n",
            " 1870 1710 2030  875 1540 2850 2170  506  906  145 2040  784 1750  374\n",
            "  518 2720 2730 1840 3480 2160 1920 2330 1860 2050 4820 1913   80 2010\n",
            " 3260 2200  415 1730  652 2196 1930  515   40 2080 2580 1548 1740  235\n",
            "  861 1890 2220  792 2070 4130 2250 2240  894 1990  768 2550  435 1008\n",
            " 2300 2610  666 3500  172 1816 2190 1245 1525 1880  862  946 1281  414\n",
            " 2180  276 1248  602  516  176  225 1275  266  283   65 2310   10 1770\n",
            " 2120  295  207  915  556  417  143  508 2810   20  274  248]\n",
            "\n",
            "\n",
            "yr_built\n",
            "[1955 1951 1933 1965 1987 2001 1995 1963 1960 2003 1942 1927 1977 1900\n",
            " 1979 1994 1916 1921 1969 1947 1968 1985 1941 1915 1909 1948 2005 1929\n",
            " 1981 1930 1904 1996 2000 1984 2014 1922 1959 1966 1953 1950 2008 1991\n",
            " 1954 1973 1925 1989 1972 1986 1956 2002 1992 1964 1952 1961 2006 1988\n",
            " 1962 1939 1946 1967 1975 1980 1910 1983 1978 1905 1971 2010 1945 1924\n",
            " 1990 1914 1926 2004 1923 2007 1976 1949 1999 1901 1993 1920 1997 1943\n",
            " 1957 1940 1918 1928 1974 1911 1936 1937 1982 1908 1931 1998 1913 2013\n",
            " 1907 1958 2012 1912 2011 1917 1932 1944 1902 2009 1903 1970 2015 1934\n",
            " 1938 1919 1906 1935]\n",
            "\n",
            "\n",
            "yr_renovated\n",
            "[   0 1991 2002 2010 1999 1992 2013 1994 1978 2005 2008 2003 1984 1954\n",
            " 2014 2011 1974 1983 1945 1990 1988 1957 1977 1981 1995 2000 1998 1970\n",
            " 1989 2004 1986 2009 2007 1987 1973 2006 1985 2001 1980 1971 1979 1997\n",
            " 1950 1969 1948 2015 1968 2012 1963 1951 1993 1962 1996 1972 1953 1955\n",
            " 1982 1956 1940 1976 1946 1975 1958 1964 1959 1960 1967 1965 1934 1944]\n",
            "\n",
            "\n",
            "zipcode\n",
            "[98178 98125 98028 98136 98074 98053 98003 98198 98146 98038 98007 98115\n",
            " 98107 98126 98019 98103 98002 98133 98040 98092 98030 98119 98112 98052\n",
            " 98027 98117 98058 98001 98056 98166 98023 98070 98148 98105 98042 98008\n",
            " 98059 98122 98144 98004 98005 98034 98075 98116 98010 98118 98199 98032\n",
            " 98045 98102 98077 98108 98168 98177 98065 98029 98006 98109 98022 98033\n",
            " 98155 98024 98011 98031 98106 98072 98188 98014 98055 98039]\n",
            "\n",
            "\n",
            "lat\n",
            "[47.5112 47.721  47.7379 ... 47.3906 47.3339 47.6502]\n",
            "\n",
            "\n",
            "long\n",
            "[-122.257 -122.319 -122.233 -122.393 -122.045 -122.005 -122.327 -122.315\n",
            " -122.337 -122.031 -122.145 -122.292 -122.229 -122.394 -122.375 -121.962\n",
            " -122.343 -122.21  -122.306 -122.341 -122.169 -122.166 -122.172 -122.218\n",
            " -122.36  -122.314 -122.304 -122.11  -122.07  -122.357 -122.368 -122.157\n",
            " -122.31  -122.132 -122.362 -122.282 -122.18  -122.027 -122.347 -122.016\n",
            " -122.364 -122.175 -121.977 -122.371 -122.151 -122.301 -122.451 -122.322\n",
            " -122.189 -122.384 -122.369 -122.281 -122.29  -122.114 -122.122 -122.116\n",
            " -122.149 -122.339 -122.335 -122.344 -122.32  -122.297 -122.192 -122.215\n",
            " -122.16  -122.179 -122.287 -122.036 -122.073 -121.987 -122.125 -122.34\n",
            " -122.025 -122.008 -122.291 -122.365 -122.199 -122.194 -122.387 -122.372\n",
            " -122.391 -122.351 -122.386 -122.249 -122.277 -122.378 -121.958 -121.714\n",
            " -122.08  -122.196 -122.184 -122.133 -122.38  -122.082 -122.109 -122.053\n",
            " -122.349 -122.295 -122.253 -122.248 -122.303 -122.294 -122.226 -122.266\n",
            " -122.098 -122.212 -122.244 -122.39  -122.352 -121.85  -122.152 -122.054\n",
            " -122.072 -121.998 -122.296 -122.299 -122.381 -122.358 -122.128 -122.171\n",
            " -122.174 -122.026 -122.353 -121.943 -122.286 -122.336 -122.359 -122.162\n",
            " -122.3   -122.176 -121.996 -122.118 -122.193 -122.023 -122.224 -122.168\n",
            " -122.231 -122.331 -122.374 -122.182 -122.308 -122.307 -121.999 -122.376\n",
            " -122.2   -122.039 -122.102 -122.188 -122.379 -122.043 -122.153 -122.191\n",
            " -122.219 -122.312 -121.911 -121.994 -122.165 -122.37  -122.158 -122.047\n",
            " -122.284 -122.017 -122.275 -122.268 -122.367 -122.217 -122.373 -122.013\n",
            " -122.214 -122.034 -122.164 -121.899 -122.183 -121.95  -122.324 -122.216\n",
            " -122.395 -122.213 -122.345 -122.278 -122.111 -121.711 -122.27  -122.178\n",
            " -122.147 -121.772 -122.302 -122.438 -122.223 -122.042 -122.323 -122.255\n",
            " -122.4   -122.261 -122.071 -122.206 -122.272 -122.23  -122.144 -122.143\n",
            " -122.181 -122.154 -122.311 -122.274 -122.077 -122.    -122.298 -122.058\n",
            " -121.837 -122.333 -122.057 -122.252 -122.093 -122.012 -122.052 -122.354\n",
            " -122.22  -122.49  -121.875 -122.24  -122.078 -122.173 -121.854 -122.222\n",
            " -122.28  -122.137 -122.159 -121.974 -122.141 -122.029 -121.709 -122.19\n",
            " -121.97  -122.329 -122.195 -122.06  -121.959 -122.095 -122.148 -122.146\n",
            " -122.35  -121.901 -122.241 -122.129 -122.289 -122.305 -122.022 -122.385\n",
            " -121.779 -122.032 -122.402 -122.482 -122.227 -121.982 -122.161 -122.046\n",
            " -122.156 -122.127 -122.33  -122.197 -122.041 -122.103 -122.318 -122.382\n",
            " -122.271 -121.955 -122.211 -122.262 -122.258 -122.121 -122.221 -122.234\n",
            " -122.089 -122.123 -122.167 -121.909 -122.107 -122.064 -122.066 -122.062\n",
            " -122.264 -122.186 -122.087 -121.88  -121.864 -122.205 -122.363 -122.139\n",
            " -122.018 -122.225 -122.285 -122.084 -122.177 -122.056 -122.316 -122.021\n",
            " -122.348 -122.009 -122.131 -122.411 -122.198 -122.256 -122.117 -122.097\n",
            " -122.075 -121.845 -122.083 -122.259 -121.87  -122.015 -122.007 -121.86\n",
            " -122.409 -121.755 -121.972 -122.251 -122.317 -121.776 -122.115 -122.283\n",
            " -122.242 -122.001 -122.024 -122.309 -122.113 -121.771 -122.239 -122.273\n",
            " -122.396 -122.094 -122.267 -122.326 -122.13  -122.269 -121.853 -122.05\n",
            " -122.346 -122.076 -121.826 -122.124 -121.758 -122.202 -121.785 -121.872\n",
            " -122.006 -122.004 -122.321 -121.882 -122.101 -122.03  -122.185 -122.1\n",
            " -121.759 -121.965 -122.201 -122.366 -122.313 -122.405 -122.02  -122.279\n",
            " -122.355 -121.934 -122.15  -122.356 -121.993 -122.044 -122.134 -121.867\n",
            " -122.01  -121.991 -122.011 -121.983 -122.228 -122.033 -122.276 -122.119\n",
            " -121.937 -122.361 -122.325 -122.203 -122.136 -122.237 -122.209 -122.049\n",
            " -122.288 -122.106 -122.037 -122.207 -122.263 -121.915 -122.204 -122.09\n",
            " -122.069 -121.852 -121.787 -121.976 -122.377 -122.059 -122.383 -121.989\n",
            " -122.019 -122.208 -121.878 -122.328 -122.25  -122.338 -122.388 -122.265\n",
            " -122.332 -122.399 -122.397 -122.014 -121.956 -122.092 -122.028 -122.293\n",
            " -122.12  -122.035 -122.14  -122.04  -122.112 -121.906 -122.17  -122.238\n",
            " -122.512 -121.997 -121.89  -122.463 -121.908 -122.086 -122.389 -121.913\n",
            " -122.163 -121.918 -122.108 -122.502 -122.392 -122.236 -121.859 -121.981\n",
            " -122.342 -121.96  -121.978 -122.47  -121.91  -121.966 -122.065 -122.246\n",
            " -122.41  -121.879 -122.079 -122.099 -122.187 -121.98  -122.002 -122.138\n",
            " -121.898 -122.235 -122.126 -121.782 -121.995 -122.401 -121.858 -121.888\n",
            " -121.752 -122.063 -122.26  -121.78  -121.708 -121.721 -122.403 -121.945\n",
            " -122.243 -122.45  -121.927 -122.085 -122.088 -121.973 -122.055 -122.398\n",
            " -121.984 -121.912 -121.903 -121.946 -122.232 -122.412 -122.104 -122.048\n",
            " -122.479 -122.155 -121.833 -121.778 -122.003 -121.99  -121.926 -122.051\n",
            " -121.986 -122.245 -121.861 -122.431 -121.964 -122.142 -122.074 -122.247\n",
            " -122.497 -121.769 -121.827 -121.979 -121.871 -122.091 -121.754 -121.746\n",
            " -121.92  -121.992 -122.406 -121.359 -121.789 -121.707 -122.068 -122.404\n",
            " -122.334 -121.799 -121.774 -121.985 -121.865 -121.724 -122.415 -121.756\n",
            " -121.809 -122.135 -121.691 -122.038 -121.877 -121.94  -121.968 -121.988\n",
            " -121.315 -121.902 -122.514 -122.414 -121.883 -121.866 -121.744 -122.096\n",
            " -122.061 -121.881 -121.745 -122.461 -122.067 -121.868 -121.646 -121.93\n",
            " -122.105 -121.763 -121.718 -121.967 -121.777 -121.957 -121.823 -121.887\n",
            " -122.408 -122.462 -122.43  -122.456 -121.897 -121.932 -121.969 -121.916\n",
            " -122.081 -121.975 -121.735 -121.801 -121.761 -121.723 -121.924 -122.475\n",
            " -121.935 -122.407 -122.448 -122.453 -121.894 -121.936 -121.764 -122.416\n",
            " -121.905 -122.464 -121.768 -122.484 -121.738 -121.9   -121.82  -122.455\n",
            " -121.889 -122.496 -121.829 -122.505 -121.951 -121.847 -122.509 -121.961\n",
            " -121.417 -121.904 -122.503 -121.949 -121.874 -122.432 -121.971 -121.77\n",
            " -122.473 -121.896 -121.952 -122.254 -121.743 -121.933 -121.892 -121.749\n",
            " -121.473 -121.857 -122.465 -121.838 -121.954 -122.422 -121.931 -121.963\n",
            " -122.441 -121.925 -121.352 -122.511 -122.413 -121.876 -121.748 -121.818\n",
            " -121.8   -121.929 -121.698 -121.886 -121.802 -121.81  -121.762 -121.781\n",
            " -121.775 -122.44  -121.773 -121.819 -121.726 -122.459 -122.446 -121.855\n",
            " -121.736 -122.499 -122.46  -121.786 -122.421 -121.947 -122.439 -121.834\n",
            " -121.804 -122.443 -121.716 -121.848 -122.458 -122.515 -121.922 -121.953\n",
            " -121.783 -122.472 -121.944 -121.869 -121.828 -122.452 -121.831 -121.737\n",
            " -121.739 -121.863 -121.73  -121.856 -121.747 -121.893 -121.733 -121.846\n",
            " -121.821 -121.319 -121.765 -121.75  -122.506 -121.948 -121.921 -122.507\n",
            " -122.457 -121.914 -122.469 -121.792 -121.907 -121.841 -121.757 -121.788\n",
            " -121.731 -122.449 -121.316 -121.321 -122.504 -121.884 -121.803 -121.842\n",
            " -121.719 -121.766 -122.433 -122.519 -121.851 -121.402 -122.454 -122.467\n",
            " -121.325 -121.815 -121.676 -121.941 -122.445 -121.76  -121.885 -121.742\n",
            " -121.822 -121.895 -121.784 -121.701 -121.713 -121.727 -121.849 -121.835\n",
            " -122.435 -122.474 -122.444 -121.939 -121.48  -121.364 -121.767 -122.42\n",
            " -121.84  -122.425 -122.447 -121.797 -122.491 -121.917 -121.891 -121.942\n",
            " -121.862 -121.725 -121.873 -121.405 -122.486 -121.795 -121.734 -121.403]\n",
            "\n",
            "\n",
            "sqft_living15\n",
            "[1340 1690 2720 1360 1800 4760 2238 1650 1780 2390 2210 1330 1370 2140\n",
            " 1890 1610 1060 1280 1400 4110 2240 1220 2200 1030 1760 1860 1520 2630\n",
            " 2580 1390 1460 1570 2020 1590 2160 1730 1290 2620 2470 2410 3625 1580\n",
            " 3050 1228 2680  970 1190 1990 1410 1480 2730 1950 2250 2690 2960 2270\n",
            " 2570 2500 1440 2750 2221 1010 3390 3530 1640 1510 2420 1940 3240 1680\n",
            "  890 1130 3350 2350 1870 1720 1850 1900 1980 2520 1350 1750 1160 2550\n",
            " 2370 1240 1270 2990 1380 1540 2090 2640 1830 1620 1880 2340 1710 2700\n",
            " 3060 2660 1700 1970 1420 2060 2480 1550 1170 2820 1560 2230 2840 1450\n",
            " 1500 3160 1200 3400 2110 2920 1770 1070 1930 3740 2260 1670 2290 1050\n",
            " 2540 2190 2030 1230 2330 1300 1430 2770 1250 1630 2590 2130 1100 3836\n",
            " 1320 2120 3070 1910 2080 1960 2280 1150 3430 2070 2600  830 1260 3120\n",
            " 2010 1660 1600 2380 3890 4180 2653 2670 3920 2300 2310 2320 3150 1740\n",
            " 2400 4550 2510 2440 2880 3860 2150 1310 1820 3080  880 2560 3470 1020\n",
            " 2040 2610 1810 2860 3480 3130 3360 4050 2450 1790 3180 3600 2000 2430\n",
            " 2850 4680 2360 3930 1490 2460 2077 1920 3630 3220 2100 3230 4300 3850\n",
            " 2424 2530 3030 2830 2900 2950 1470  940 2740 4210 3340 3980 2180 3715\n",
            " 2050 1080 2095 1000 3330 2170 1408 1530 2760 3110  950 3000 1307 2220\n",
            " 4190 3440 3250 1110 2870 1210 2910 1120 4230 1708 3090 3270 2970 1180\n",
            " 3100 4100 2930 3510 2688 1840 2490 4090 2810 3260 3680 3420 1654 1365\n",
            "  980 1677 1140 3640 3460 3140 1502 3720 2790 2940  990 2890  860 4750\n",
            " 1525 3950 5790  760 2234  960 3210 2780 2800 2305 2665 3620 2710 4320\n",
            " 2650 3370 1509 1277 1981 2434 4640 2242 3040 3970 3200 4600  840 3290\n",
            " 2214 1162 3010 5600 3820 3540 1975 4800  740 3990 3170 1576 1768 3310\n",
            " 2980 1429 3900 3380  820 1090 4060 3910 3190 3450 3730  620 3020 3760\n",
            " 3320 1132 3300 3770 3960  870 3560 4620 3520 1572 3490 1088 3159 4470\n",
            " 3570 4890 3690 3280 2083 3780  920 1941 1566  850 2496 1040 3410 4240\n",
            " 4670 4350 1714 5380 4330 3830 5000 2144 1494 1357  930 3580 4250 4080\n",
            " 3660 1458 3736 1894 2037 1295 4170 3750 3550 4630 1439 3500 2091  900\n",
            " 3880 3710 1616  720  800 2315 1564 2767 3721 4650 4020  780 1728 2027\n",
            " 1264 1404 1459 2028 3639 1943 3425 2641 2114 1309 2412 2517 1802 2011\n",
            " 1466 1414 3193 1845 1156 3670 1696 5340 4440 1745 1884 4690 4920 2406\n",
            " 4160 3810 4480 2848 1746 2634 2049 5330 1536 2273 3056 4010 4700  910\n",
            " 2125 1665 2683 3790  700 1855  750 1078 4150 4340 2344 1098 1175 1188\n",
            " 3700 3840 4042 2518 3800 2488 3590 2052  810 1528 5030 4740 5070 2967\n",
            " 4280 2724 3610 3940 4940 4770 1811 4830 2876 1805 1216 5170 1304 2474\n",
            " 4590 4130 1492 1364 2168 4140 3543 1303 2005 3650 2583 4310 2451 1448\n",
            " 2955 2142  790 1638 2554 2441 2216 4220 1961 4540  770 4200 3413 1664\n",
            " 2136 3568 4510 1484 1358 2106 1834 2014 4390 4570 2175 6110 4260  710\n",
            " 2112 1934 1518 1302 2622 2619 2382 4290 4560 4000 1336 3112 4070 1468\n",
            " 1571 2605 1138 5110 4850 2165 4410 1678 5610 1984 4660 3870 4370  460\n",
            " 4610 1914 3515 2246 1786 2109 2326 2728 4400 4950 1767 2054 5500 2555\n",
            " 3674 2765 1862 1352 4030  399 2415 2901 1815 2236 2253 2004 1356 2403\n",
            " 1137 1256 4930 4040 2376 4520 4490 2189 2566 2396 1282 2155 1056 2389\n",
            " 2256 3618 1326 1168 4913  806 1369 2405 2875 1425 5220 1442 2333 3335\n",
            " 1321 3045 1546 4730 2697 2822 2076 1757 4780  952 4270 2075 2667 1092\n",
            " 1217 1716 1792 2961 1125 1463 1886  670 4460 2336 3557 5200 2258 1377\n",
            " 2019 2092 4900 2615 1639 1765 1554 1381 4120 5080 1445 2793 2475  998\n",
            " 2384 2575 1398 1584 2439 2197 2029 4362 1443 4420 1691 2495 2437 2547\n",
            " 6210 2009 1847 1346 2578 2879 2255 2815 1608  690 2425 1481 2458 2358\n",
            " 2056 1921 2419 2996 2502 1798 3087 1076 2981 2363 3191 1763 1876 1949\n",
            " 2598 1979 1415 2002 2574 2166 3726 2099 2154 1522 1544 2912 2648 1658\n",
            " 2755 2798 1405 2704 2738 3008 2586 2873 1232 2597 2516 1537 1128 2849\n",
            " 1399 1131 1569 2381 1084 2304 4530 2297 2279 2303 2669 4225 2513 2725\n",
            " 1955 2527 4443 2478 1919 1813 2533  828 2015 3078 4495 2673 2316 2647\n",
            " 3402 3494 2156 3236 2612 2323 2409 2354 1285 2616 1427 1516 2456 2844\n",
            " 1495 2594 2604 1268 2198 3038 2927]\n",
            "\n",
            "\n",
            "sqft_lot15\n",
            "[5650 7639 8062 ... 5731 1509 2007]\n",
            "\n",
            "\n"
          ],
          "name": "stdout"
        }
      ]
    },
    {
      "cell_type": "code",
      "metadata": {
        "id": "a1bIX2DLi8q6",
        "colab_type": "code",
        "colab": {
          "base_uri": "https://localhost:8080/",
          "height": 272
        },
        "outputId": "d3be1347-c589-4304-cdab-572a7afa95e5"
      },
      "source": [
        "#valuecounts\n",
        "df['bedrooms'].value_counts()"
      ],
      "execution_count": null,
      "outputs": [
        {
          "output_type": "execute_result",
          "data": {
            "text/plain": [
              "3     9824\n",
              "4     6882\n",
              "2     2760\n",
              "5     1601\n",
              "6      272\n",
              "1      199\n",
              "7       38\n",
              "8       13\n",
              "0       13\n",
              "9        6\n",
              "10       3\n",
              "11       1\n",
              "33       1\n",
              "Name: bedrooms, dtype: int64"
            ]
          },
          "metadata": {
            "tags": []
          },
          "execution_count": 12
        }
      ]
    },
    {
      "cell_type": "markdown",
      "metadata": {
        "id": "424RCJqBjLJ8",
        "colab_type": "text"
      },
      "source": [
        "*a 3 bedroom house has the highest number of counts*"
      ]
    },
    {
      "cell_type": "code",
      "metadata": {
        "id": "4afrPECBjEoS",
        "colab_type": "code",
        "colab": {
          "base_uri": "https://localhost:8080/",
          "height": 72
        },
        "outputId": "4f5fd4ee-1ceb-40b7-9304-44175a6db40a"
      },
      "source": [
        "df['waterfront'].value_counts()"
      ],
      "execution_count": null,
      "outputs": [
        {
          "output_type": "execute_result",
          "data": {
            "text/plain": [
              "0    21450\n",
              "1      163\n",
              "Name: waterfront, dtype: int64"
            ]
          },
          "metadata": {
            "tags": []
          },
          "execution_count": 13
        }
      ]
    },
    {
      "cell_type": "markdown",
      "metadata": {
        "id": "7m1xvp5PjXIJ",
        "colab_type": "text"
      },
      "source": [
        "*waterfront 0 has the highest number of value counts*"
      ]
    },
    {
      "cell_type": "code",
      "metadata": {
        "id": "WGDJcvGIjeaL",
        "colab_type": "code",
        "colab": {
          "base_uri": "https://localhost:8080/",
          "height": 381
        },
        "outputId": "fa98d551-e225-45a0-fb82-582b542c4c90"
      },
      "source": [
        "print(df['condition'].value_counts())\n",
        "print('********')\n",
        "print(df['grade'].value_counts())"
      ],
      "execution_count": null,
      "outputs": [
        {
          "output_type": "stream",
          "text": [
            "3    14031\n",
            "4     5679\n",
            "5     1701\n",
            "2      172\n",
            "1       30\n",
            "Name: condition, dtype: int64\n",
            "********\n",
            "7     8981\n",
            "8     6068\n",
            "9     2615\n",
            "6     2038\n",
            "10    1134\n",
            "11     399\n",
            "5      242\n",
            "12      90\n",
            "4       29\n",
            "13      13\n",
            "3        3\n",
            "1        1\n",
            "Name: grade, dtype: int64\n"
          ],
          "name": "stdout"
        }
      ]
    },
    {
      "cell_type": "markdown",
      "metadata": {
        "id": "WOy-Lr0sjtUZ",
        "colab_type": "text"
      },
      "source": [
        "*condition 3 and grade 7 have the highest value counts*"
      ]
    },
    {
      "cell_type": "code",
      "metadata": {
        "id": "fPMZnVA-VZvD",
        "colab_type": "code",
        "colab": {
          "base_uri": "https://localhost:8080/",
          "height": 35
        },
        "outputId": "bb73f36e-e969-4721-bcfd-e3f20f7f258e"
      },
      "source": [
        "#checking for null values\n",
        "\n",
        "df.isnull().values.sum()"
      ],
      "execution_count": null,
      "outputs": [
        {
          "output_type": "execute_result",
          "data": {
            "text/plain": [
              "0"
            ]
          },
          "metadata": {
            "tags": []
          },
          "execution_count": 15
        }
      ]
    },
    {
      "cell_type": "markdown",
      "metadata": {
        "id": "tRqCcY09VkAY",
        "colab_type": "text"
      },
      "source": [
        "*no null values*"
      ]
    },
    {
      "cell_type": "code",
      "metadata": {
        "id": "gPtTqoBfWbX4",
        "colab_type": "code",
        "colab": {
          "base_uri": "https://localhost:8080/",
          "height": 54
        },
        "outputId": "d6a5bad3-ef4c-4c27-8ada-8993dc497457"
      },
      "source": [
        "#maximum and minimum prices\n",
        "\n",
        "max_price = df['price'].max()\n",
        "print(max_price)\n",
        "min_price = df['price'].min()\n",
        "print(min_price)"
      ],
      "execution_count": null,
      "outputs": [
        {
          "output_type": "stream",
          "text": [
            "7700000.0\n",
            "75000.0\n"
          ],
          "name": "stdout"
        }
      ]
    },
    {
      "cell_type": "markdown",
      "metadata": {
        "id": "Zx7v9udTW3vO",
        "colab_type": "text"
      },
      "source": [
        "*the maximum price is 7.7M and the lowest price is 75K*"
      ]
    },
    {
      "cell_type": "markdown",
      "metadata": {
        "id": "O4w48AopVSEF",
        "colab_type": "text"
      },
      "source": [
        "### 3) Data cleaning"
      ]
    },
    {
      "cell_type": "code",
      "metadata": {
        "id": "tEMmJjpyGAUw",
        "colab_type": "code",
        "colab": {
          "base_uri": "https://localhost:8080/",
          "height": 399
        },
        "outputId": "a45632f8-110b-4b9c-e17a-0284528bcc26"
      },
      "source": [
        "# Check for missing values \n",
        "df.isna().sum()"
      ],
      "execution_count": 3,
      "outputs": [
        {
          "output_type": "execute_result",
          "data": {
            "text/plain": [
              "id               0\n",
              "price            0\n",
              "bedrooms         0\n",
              "bathrooms        0\n",
              "sqft_living      0\n",
              "sqft_lot         0\n",
              "floors           0\n",
              "waterfront       0\n",
              "view             0\n",
              "condition        0\n",
              "grade            0\n",
              "sqft_above       0\n",
              "sqft_basement    0\n",
              "yr_built         0\n",
              "yr_renovated     0\n",
              "zipcode          0\n",
              "lat              0\n",
              "long             0\n",
              "sqft_living15    0\n",
              "sqft_lot15       0\n",
              "dtype: int64"
            ]
          },
          "metadata": {
            "tags": []
          },
          "execution_count": 3
        }
      ]
    },
    {
      "cell_type": "code",
      "metadata": {
        "id": "3OjTZ3huUKAP",
        "colab_type": "code",
        "colab": {}
      },
      "source": [
        "#checking for outliers\n",
        "\n",
        "columns = ['bedrooms', 'waterfront', 'yr_renovated', 'sqft_lot15']"
      ],
      "execution_count": 26,
      "outputs": []
    },
    {
      "cell_type": "code",
      "metadata": {
        "id": "OvxgTMei8eZc",
        "colab_type": "code",
        "colab": {
          "base_uri": "https://localhost:8080/",
          "height": 618
        },
        "outputId": "f1e70ea3-066c-4325-8f9b-12e204f95510"
      },
      "source": [
        "sns.set_style('darkgrid')\n",
        "fig, axes = plt.subplots(nrows = 2, ncols = 2, figsize = (15, 10))\n",
        "fig.suptitle('Box plot for  numerical features', y= 0.93, fontsize = 15)\n",
        "\n",
        "for ax, data, name in zip(axes.flatten(), df, columns):\n",
        "  sns.boxplot(df[name], ax = ax)"
      ],
      "execution_count": 27,
      "outputs": [
        {
          "output_type": "display_data",
          "data": {
            "image/png": "[encoded data removed]",
            "text/plain": [
              "<Figure size 1080x720 with 4 Axes>"
            ]
          },
          "metadata": {
            "tags": []
          }
        }
      ]
    },
    {
      "cell_type": "markdown",
      "metadata": {
        "id": "6zbIfcZ4MdZg",
        "colab_type": "text"
      },
      "source": [
        "*Some variables contain outliers. We will not drop them as they will be useful when making predictions*"
      ]
    },
    {
      "cell_type": "markdown",
      "metadata": {
        "id": "1SanhVveWFjc",
        "colab_type": "text"
      },
      "source": [
        "### 4) EDA"
      ]
    },
    {
      "cell_type": "code",
      "metadata": {
        "id": "8mSzhsO6uiQO",
        "colab_type": "code",
        "colab": {
          "base_uri": "https://localhost:8080/",
          "height": 381
        },
        "outputId": "92900403-a518-4f20-d31d-1776ab884b4f"
      },
      "source": [
        "#finding skewness os each variable\n",
        "for column in df.columns:\n",
        "  print(f'Skewness of {column: <22} : {df[column].skew()}')"
      ],
      "execution_count": 103,
      "outputs": [
        {
          "output_type": "stream",
          "text": [
            "Skewness of id                     : 0.24332854761624428\n",
            "Skewness of price                  : 4.021715573048684\n",
            "Skewness of bedrooms               : 1.97429953543601\n",
            "Skewness of bathrooms              : 0.5111075733474171\n",
            "Skewness of sqft_living            : 1.471555426802092\n",
            "Skewness of sqft_lot               : 13.060018959031755\n",
            "Skewness of floors                 : 0.616176721157611\n",
            "Skewness of waterfront             : 11.385107942339081\n",
            "Skewness of view                   : 3.395749593248714\n",
            "Skewness of condition              : 1.0328046374434587\n",
            "Skewness of grade                  : 0.7711032007576067\n",
            "Skewness of sqft_above             : 1.4466644733818372\n",
            "Skewness of sqft_basement          : 1.5779650555996247\n",
            "Skewness of yr_built               : -0.46980539881436767\n",
            "Skewness of yr_renovated           : 4.549493366993928\n",
            "Skewness of zipcode                : 0.4056612082396646\n",
            "Skewness of lat                    : -0.4852704765380861\n",
            "Skewness of long                   : 0.8850529834328087\n",
            "Skewness of sqft_living15          : 1.1081812758966967\n",
            "Skewness of sqft_lot15             : 9.506743246764398\n"
          ],
          "name": "stdout"
        }
      ]
    },
    {
      "cell_type": "markdown",
      "metadata": {
        "id": "tLLMhnTHu1A2",
        "colab_type": "text"
      },
      "source": [
        "*all vars have a positive skew apart from yrbuilt and latitude*"
      ]
    },
    {
      "cell_type": "code",
      "metadata": {
        "id": "ruNR2wyyu9sk",
        "colab_type": "code",
        "colab": {
          "base_uri": "https://localhost:8080/",
          "height": 381
        },
        "outputId": "4734c8af-9a34-41d3-a4d4-858907b64213"
      },
      "source": [
        "#finding the kurtosis\n",
        "for column in df.columns:\n",
        "  print(f'kurtosis for {column: <22} : {df[column].kurt()}')"
      ],
      "execution_count": 104,
      "outputs": [
        {
          "output_type": "stream",
          "text": [
            "kurtosis for id                     : -1.260541870514302\n",
            "kurtosis for price                  : 34.522444410072566\n",
            "kurtosis for bedrooms               : 49.06365318170099\n",
            "kurtosis for bathrooms              : 1.2799024441754554\n",
            "kurtosis for sqft_living            : 5.24309298981711\n",
            "kurtosis for sqft_lot               : 285.0778196973658\n",
            "kurtosis for floors                 : -0.4847229368298285\n",
            "kurtosis for waterfront             : 127.63249356537696\n",
            "kurtosis for view                   : 10.893021684601504\n",
            "kurtosis for condition              : 0.5257635652845423\n",
            "kurtosis for grade                  : 1.1909320773987657\n",
            "kurtosis for sqft_above             : 3.40230362139787\n",
            "kurtosis for sqft_basement          : 2.7155742114129353\n",
            "kurtosis for yr_built               : -0.657407504733527\n",
            "kurtosis for yr_renovated           : 18.701152117599058\n",
            "kurtosis for zipcode                : -0.8534788732101246\n",
            "kurtosis for lat                    : -0.6763130016065335\n",
            "kurtosis for long                   : 1.0495008872914617\n",
            "kurtosis for sqft_living15          : 1.5970958104616884\n",
            "kurtosis for sqft_lot15             : 150.76311004626973\n"
          ],
          "name": "stdout"
        }
      ]
    },
    {
      "cell_type": "code",
      "metadata": {
        "id": "JCeNmQYHVGSs",
        "colab_type": "code",
        "colab": {
          "base_uri": "https://localhost:8080/",
          "height": 54
        },
        "outputId": "842a68d2-e428-45c2-c88b-8555b415207f"
      },
      "source": [
        "print(df['yr_built'].min())\n",
        "print(df['yr_built'].max())"
      ],
      "execution_count": 30,
      "outputs": [
        {
          "output_type": "stream",
          "text": [
            "1900\n",
            "2015\n"
          ],
          "name": "stdout"
        }
      ]
    },
    {
      "cell_type": "code",
      "metadata": {
        "id": "CB04eivXVGJM",
        "colab_type": "code",
        "colab": {
          "base_uri": "https://localhost:8080/",
          "height": 54
        },
        "outputId": "26d9114d-e866-4cda-de9a-944f79c4c8f0"
      },
      "source": [
        "print(df['yr_renovated'].min())\n",
        "print(df['yr_renovated'].max())"
      ],
      "execution_count": 31,
      "outputs": [
        {
          "output_type": "stream",
          "text": [
            "0\n",
            "2015\n"
          ],
          "name": "stdout"
        }
      ]
    },
    {
      "cell_type": "code",
      "metadata": {
        "id": "uJSNkpMuRZl-",
        "colab_type": "code",
        "colab": {
          "base_uri": "https://localhost:8080/",
          "height": 297
        },
        "outputId": "78b2bcf5-38ae-459b-a42c-1681ec2b3288"
      },
      "source": [
        "#bedrooms\n",
        "sns.countplot(df.bedrooms,order=df['bedrooms'].value_counts().index)"
      ],
      "execution_count": null,
      "outputs": [
        {
          "output_type": "execute_result",
          "data": {
            "text/plain": [
              "<matplotlib.axes._subplots.AxesSubplot at 0x7fcbba4c1cf8>"
            ]
          },
          "metadata": {
            "tags": []
          },
          "execution_count": 23
        },
        {
          "output_type": "display_data",
          "data": {
            "image/png": "[encoded data removed]",
            "text/plain": [
              "<Figure size 432x288 with 1 Axes>"
            ]
          },
          "metadata": {
            "tags": []
          }
        }
      ]
    },
    {
      "cell_type": "code",
      "metadata": {
        "id": "zYv_b32-XVmq",
        "colab_type": "code",
        "colab": {
          "base_uri": "https://localhost:8080/",
          "height": 298
        },
        "outputId": "7a8ce42b-3056-4b29-f0bc-c6508512b3b7"
      },
      "source": [
        "#sqftabove\n",
        "sns.distplot(df['sqft_above'], bins=10)  "
      ],
      "execution_count": 32,
      "outputs": [
        {
          "output_type": "execute_result",
          "data": {
            "text/plain": [
              "<matplotlib.axes._subplots.AxesSubplot at 0x7febd28e0c88>"
            ]
          },
          "metadata": {
            "tags": []
          },
          "execution_count": 32
        },
        {
          "output_type": "display_data",
          "data": {
            "image/png": "[encoded data removed]",
            "text/plain": [
              "<Figure size 432x288 with 1 Axes>"
            ]
          },
          "metadata": {
            "tags": []
          }
        }
      ]
    },
    {
      "cell_type": "markdown",
      "metadata": {
        "id": "YpCvHUZvkVPu",
        "colab_type": "text"
      },
      "source": [
        "*plot is skewed to the right*"
      ]
    },
    {
      "cell_type": "code",
      "metadata": {
        "id": "80GsOyUXkYP0",
        "colab_type": "code",
        "colab": {
          "base_uri": "https://localhost:8080/",
          "height": 298
        },
        "outputId": "ba88a7f5-e427-4696-e139-fc706aa667b8"
      },
      "source": [
        "#sqft living\n",
        "sns.distplot(df['sqft_living'], bins=10) "
      ],
      "execution_count": 33,
      "outputs": [
        {
          "output_type": "execute_result",
          "data": {
            "text/plain": [
              "<matplotlib.axes._subplots.AxesSubplot at 0x7febd23cde80>"
            ]
          },
          "metadata": {
            "tags": []
          },
          "execution_count": 33
        },
        {
          "output_type": "display_data",
          "data": {
            "image/png": "[encoded data removed]",
            "text/plain": [
              "<Figure size 432x288 with 1 Axes>"
            ]
          },
          "metadata": {
            "tags": []
          }
        }
      ]
    },
    {
      "cell_type": "code",
      "metadata": {
        "id": "L8silfKnyIKm",
        "colab_type": "code",
        "colab": {
          "base_uri": "https://localhost:8080/",
          "height": 297
        },
        "outputId": "88df243b-1932-4326-a47a-3f72f7c5f886"
      },
      "source": [
        "#floors\n",
        "df[\"floors\"] = df[\"floors\"].astype(int)\n",
        "sns.barplot(x= 'floors', y = 'price', data = df)"
      ],
      "execution_count": 34,
      "outputs": [
        {
          "output_type": "execute_result",
          "data": {
            "text/plain": [
              "<matplotlib.axes._subplots.AxesSubplot at 0x7febd2399e48>"
            ]
          },
          "metadata": {
            "tags": []
          },
          "execution_count": 34
        },
        {
          "output_type": "display_data",
          "data": {
            "image/png": "[encoded data removed]",
            "text/plain": [
              "<Figure size 432x288 with 1 Axes>"
            ]
          },
          "metadata": {
            "tags": []
          }
        }
      ]
    },
    {
      "cell_type": "markdown",
      "metadata": {
        "id": "MUEkWJ__yLJF",
        "colab_type": "text"
      },
      "source": [
        "*italicized texhome with 2 and 3 floors have higher prices compared to 1 floor*"
      ]
    },
    {
      "cell_type": "code",
      "metadata": {
        "id": "ezXIMngyyWKR",
        "colab_type": "code",
        "colab": {
          "base_uri": "https://localhost:8080/",
          "height": 308
        },
        "outputId": "dd10b7ce-4c24-4447-e8ef-b380d1a68ece"
      },
      "source": [
        "#waterfront\n",
        "sns.barplot(x= 'waterfront', y = 'price', data = df)"
      ],
      "execution_count": 35,
      "outputs": [
        {
          "output_type": "execute_result",
          "data": {
            "text/plain": [
              "<matplotlib.axes._subplots.AxesSubplot at 0x7febd242ef28>"
            ]
          },
          "metadata": {
            "tags": []
          },
          "execution_count": 35
        },
        {
          "output_type": "display_data",
          "data": {
            "image/png": "[encoded data removed]",
            "text/plain": [
              "<Figure size 432x288 with 1 Axes>"
            ]
          },
          "metadata": {
            "tags": []
          }
        }
      ]
    },
    {
      "cell_type": "markdown",
      "metadata": {
        "id": "uZlKZFw1yX66",
        "colab_type": "text"
      },
      "source": [
        "*home with 1 watrfront is more expensive*"
      ]
    },
    {
      "cell_type": "code",
      "metadata": {
        "id": "XPfc3o0uVheI",
        "colab_type": "code",
        "colab": {
          "base_uri": "https://localhost:8080/",
          "height": 308
        },
        "outputId": "fcd183b4-a0a4-406a-c595-cdada160b608"
      },
      "source": [
        "#waterfront\n",
        "sns.barplot(x= 'grade', y = 'price', data = df)"
      ],
      "execution_count": 36,
      "outputs": [
        {
          "output_type": "execute_result",
          "data": {
            "text/plain": [
              "<matplotlib.axes._subplots.AxesSubplot at 0x7febd22e49b0>"
            ]
          },
          "metadata": {
            "tags": []
          },
          "execution_count": 36
        },
        {
          "output_type": "display_data",
          "data": {
            "image/png": "[encoded data removed]",
            "text/plain": [
              "<Figure size 432x288 with 1 Axes>"
            ]
          },
          "metadata": {
            "tags": []
          }
        }
      ]
    },
    {
      "cell_type": "markdown",
      "metadata": {
        "id": "Xgo4oKChVn6W",
        "colab_type": "text"
      },
      "source": [
        "*the higher the grade, the higher the price*"
      ]
    },
    {
      "cell_type": "code",
      "metadata": {
        "id": "5oVdvehOVskf",
        "colab_type": "code",
        "colab": {
          "base_uri": "https://localhost:8080/",
          "height": 297
        },
        "outputId": "bf1f4f4d-0d83-4790-e14e-9b77ed6b8e98"
      },
      "source": [
        "#waterfront\n",
        "sns.barplot(x= 'condition', y = 'price', data = df)"
      ],
      "execution_count": 37,
      "outputs": [
        {
          "output_type": "execute_result",
          "data": {
            "text/plain": [
              "<matplotlib.axes._subplots.AxesSubplot at 0x7febd2331cc0>"
            ]
          },
          "metadata": {
            "tags": []
          },
          "execution_count": 37
        },
        {
          "output_type": "display_data",
          "data": {
            "image/png": "[encoded data removed]",
            "text/plain": [
              "<Figure size 432x288 with 1 Axes>"
            ]
          },
          "metadata": {
            "tags": []
          }
        }
      ]
    },
    {
      "cell_type": "markdown",
      "metadata": {
        "id": "P5chbsbJVyBG",
        "colab_type": "text"
      },
      "source": [
        "*houses with better conditions have high prices*"
      ]
    },
    {
      "cell_type": "markdown",
      "metadata": {
        "id": "vXz59ubZlR2k",
        "colab_type": "text"
      },
      "source": [
        "*Identifying factors that may highly affect price.\n",
        "by using different visualization. Id will not be important in this case.*"
      ]
    },
    {
      "cell_type": "code",
      "metadata": {
        "id": "0rJYDL_zk9Kd",
        "colab_type": "code",
        "colab": {
          "base_uri": "https://localhost:8080/",
          "height": 668
        },
        "outputId": "145c56f8-0f1d-4c26-87a8-9bbeba1cf8c5"
      },
      "source": [
        "CorrMatrix=df.corr()\n",
        "CorrMatrix  "
      ],
      "execution_count": 38,
      "outputs": [
        {
          "output_type": "execute_result",
          "data": {
            "text/html": [
              "<div>\n",
              "<style scoped>\n",
              "    .dataframe tbody tr th:only-of-type {\n",
              "        vertical-align: middle;\n",
              "    }\n",
              "\n",
              "    .dataframe tbody tr th {\n",
              "        vertical-align: top;\n",
              "    }\n",
              "\n",
              "    .dataframe thead th {\n",
              "        text-align: right;\n",
              "    }\n",
              "</style>\n",
              "<table border=\"1\" class=\"dataframe\">\n",
              "  <thead>\n",
              "    <tr style=\"text-align: right;\">\n",
              "      <th></th>\n",
              "      <th>id</th>\n",
              "      <th>price</th>\n",
              "      <th>bedrooms</th>\n",
              "      <th>bathrooms</th>\n",
              "      <th>sqft_living</th>\n",
              "      <th>sqft_lot</th>\n",
              "      <th>floors</th>\n",
              "      <th>waterfront</th>\n",
              "      <th>view</th>\n",
              "      <th>condition</th>\n",
              "      <th>grade</th>\n",
              "      <th>sqft_above</th>\n",
              "      <th>sqft_basement</th>\n",
              "      <th>yr_built</th>\n",
              "      <th>yr_renovated</th>\n",
              "      <th>zipcode</th>\n",
              "      <th>lat</th>\n",
              "      <th>long</th>\n",
              "      <th>sqft_living15</th>\n",
              "      <th>sqft_lot15</th>\n",
              "    </tr>\n",
              "  </thead>\n",
              "  <tbody>\n",
              "    <tr>\n",
              "      <th>id</th>\n",
              "      <td>1.000000</td>\n",
              "      <td>-0.016797</td>\n",
              "      <td>0.001286</td>\n",
              "      <td>0.005160</td>\n",
              "      <td>-0.012258</td>\n",
              "      <td>-0.132109</td>\n",
              "      <td>0.019120</td>\n",
              "      <td>-0.002721</td>\n",
              "      <td>0.011592</td>\n",
              "      <td>-0.023783</td>\n",
              "      <td>0.008130</td>\n",
              "      <td>-0.010842</td>\n",
              "      <td>-0.005151</td>\n",
              "      <td>0.021380</td>\n",
              "      <td>-0.016907</td>\n",
              "      <td>-0.008224</td>\n",
              "      <td>-0.001891</td>\n",
              "      <td>0.020799</td>\n",
              "      <td>-0.002901</td>\n",
              "      <td>-0.138798</td>\n",
              "    </tr>\n",
              "    <tr>\n",
              "      <th>price</th>\n",
              "      <td>-0.016797</td>\n",
              "      <td>1.000000</td>\n",
              "      <td>0.308338</td>\n",
              "      <td>0.525134</td>\n",
              "      <td>0.702044</td>\n",
              "      <td>0.089655</td>\n",
              "      <td>0.237207</td>\n",
              "      <td>0.266331</td>\n",
              "      <td>0.397346</td>\n",
              "      <td>0.036392</td>\n",
              "      <td>0.667463</td>\n",
              "      <td>0.605566</td>\n",
              "      <td>0.323837</td>\n",
              "      <td>0.053982</td>\n",
              "      <td>0.126442</td>\n",
              "      <td>-0.053168</td>\n",
              "      <td>0.306919</td>\n",
              "      <td>0.021571</td>\n",
              "      <td>0.585374</td>\n",
              "      <td>0.082456</td>\n",
              "    </tr>\n",
              "    <tr>\n",
              "      <th>bedrooms</th>\n",
              "      <td>0.001286</td>\n",
              "      <td>0.308338</td>\n",
              "      <td>1.000000</td>\n",
              "      <td>0.515884</td>\n",
              "      <td>0.576671</td>\n",
              "      <td>0.031703</td>\n",
              "      <td>0.155643</td>\n",
              "      <td>-0.006582</td>\n",
              "      <td>0.079532</td>\n",
              "      <td>0.028472</td>\n",
              "      <td>0.356967</td>\n",
              "      <td>0.477600</td>\n",
              "      <td>0.303093</td>\n",
              "      <td>0.154178</td>\n",
              "      <td>0.018841</td>\n",
              "      <td>-0.152668</td>\n",
              "      <td>-0.008931</td>\n",
              "      <td>0.129473</td>\n",
              "      <td>0.391638</td>\n",
              "      <td>0.029244</td>\n",
              "    </tr>\n",
              "    <tr>\n",
              "      <th>bathrooms</th>\n",
              "      <td>0.005160</td>\n",
              "      <td>0.525134</td>\n",
              "      <td>0.515884</td>\n",
              "      <td>1.000000</td>\n",
              "      <td>0.754665</td>\n",
              "      <td>0.087740</td>\n",
              "      <td>0.519019</td>\n",
              "      <td>0.063744</td>\n",
              "      <td>0.187737</td>\n",
              "      <td>-0.124982</td>\n",
              "      <td>0.664983</td>\n",
              "      <td>0.685342</td>\n",
              "      <td>0.283770</td>\n",
              "      <td>0.506019</td>\n",
              "      <td>0.050739</td>\n",
              "      <td>-0.203866</td>\n",
              "      <td>0.024573</td>\n",
              "      <td>0.223042</td>\n",
              "      <td>0.568634</td>\n",
              "      <td>0.087175</td>\n",
              "    </tr>\n",
              "    <tr>\n",
              "      <th>sqft_living</th>\n",
              "      <td>-0.012258</td>\n",
              "      <td>0.702044</td>\n",
              "      <td>0.576671</td>\n",
              "      <td>0.754665</td>\n",
              "      <td>1.000000</td>\n",
              "      <td>0.172826</td>\n",
              "      <td>0.353321</td>\n",
              "      <td>0.103818</td>\n",
              "      <td>0.284611</td>\n",
              "      <td>-0.058753</td>\n",
              "      <td>0.762704</td>\n",
              "      <td>0.876597</td>\n",
              "      <td>0.435043</td>\n",
              "      <td>0.318049</td>\n",
              "      <td>0.055363</td>\n",
              "      <td>-0.199430</td>\n",
              "      <td>0.052529</td>\n",
              "      <td>0.240223</td>\n",
              "      <td>0.756420</td>\n",
              "      <td>0.183286</td>\n",
              "    </tr>\n",
              "    <tr>\n",
              "      <th>sqft_lot</th>\n",
              "      <td>-0.132109</td>\n",
              "      <td>0.089655</td>\n",
              "      <td>0.031703</td>\n",
              "      <td>0.087740</td>\n",
              "      <td>0.172826</td>\n",
              "      <td>1.000000</td>\n",
              "      <td>-0.008951</td>\n",
              "      <td>0.021604</td>\n",
              "      <td>0.074710</td>\n",
              "      <td>-0.008958</td>\n",
              "      <td>0.113621</td>\n",
              "      <td>0.183512</td>\n",
              "      <td>0.015286</td>\n",
              "      <td>0.053080</td>\n",
              "      <td>0.007644</td>\n",
              "      <td>-0.129574</td>\n",
              "      <td>-0.085683</td>\n",
              "      <td>0.229521</td>\n",
              "      <td>0.144608</td>\n",
              "      <td>0.718557</td>\n",
              "    </tr>\n",
              "    <tr>\n",
              "      <th>floors</th>\n",
              "      <td>0.019120</td>\n",
              "      <td>0.237207</td>\n",
              "      <td>0.155643</td>\n",
              "      <td>0.519019</td>\n",
              "      <td>0.353321</td>\n",
              "      <td>-0.008951</td>\n",
              "      <td>1.000000</td>\n",
              "      <td>0.019640</td>\n",
              "      <td>0.024658</td>\n",
              "      <td>-0.293173</td>\n",
              "      <td>0.472608</td>\n",
              "      <td>0.517913</td>\n",
              "      <td>-0.235836</td>\n",
              "      <td>0.578619</td>\n",
              "      <td>-0.007775</td>\n",
              "      <td>-0.096743</td>\n",
              "      <td>0.029567</td>\n",
              "      <td>0.159001</td>\n",
              "      <td>0.296561</td>\n",
              "      <td>-0.013252</td>\n",
              "    </tr>\n",
              "    <tr>\n",
              "      <th>waterfront</th>\n",
              "      <td>-0.002721</td>\n",
              "      <td>0.266331</td>\n",
              "      <td>-0.006582</td>\n",
              "      <td>0.063744</td>\n",
              "      <td>0.103818</td>\n",
              "      <td>0.021604</td>\n",
              "      <td>0.019640</td>\n",
              "      <td>1.000000</td>\n",
              "      <td>0.401857</td>\n",
              "      <td>0.016653</td>\n",
              "      <td>0.082775</td>\n",
              "      <td>0.072075</td>\n",
              "      <td>0.080588</td>\n",
              "      <td>-0.026161</td>\n",
              "      <td>0.092885</td>\n",
              "      <td>0.030285</td>\n",
              "      <td>-0.014274</td>\n",
              "      <td>-0.041910</td>\n",
              "      <td>0.086463</td>\n",
              "      <td>0.030703</td>\n",
              "    </tr>\n",
              "    <tr>\n",
              "      <th>view</th>\n",
              "      <td>0.011592</td>\n",
              "      <td>0.397346</td>\n",
              "      <td>0.079532</td>\n",
              "      <td>0.187737</td>\n",
              "      <td>0.284611</td>\n",
              "      <td>0.074710</td>\n",
              "      <td>0.024658</td>\n",
              "      <td>0.401857</td>\n",
              "      <td>1.000000</td>\n",
              "      <td>0.045990</td>\n",
              "      <td>0.251321</td>\n",
              "      <td>0.167649</td>\n",
              "      <td>0.276947</td>\n",
              "      <td>-0.053440</td>\n",
              "      <td>0.103917</td>\n",
              "      <td>0.084827</td>\n",
              "      <td>0.006157</td>\n",
              "      <td>-0.078400</td>\n",
              "      <td>0.280439</td>\n",
              "      <td>0.072575</td>\n",
              "    </tr>\n",
              "    <tr>\n",
              "      <th>condition</th>\n",
              "      <td>-0.023783</td>\n",
              "      <td>0.036392</td>\n",
              "      <td>0.028472</td>\n",
              "      <td>-0.124982</td>\n",
              "      <td>-0.058753</td>\n",
              "      <td>-0.008958</td>\n",
              "      <td>-0.293173</td>\n",
              "      <td>0.016653</td>\n",
              "      <td>0.045990</td>\n",
              "      <td>1.000000</td>\n",
              "      <td>-0.144674</td>\n",
              "      <td>-0.158214</td>\n",
              "      <td>0.174105</td>\n",
              "      <td>-0.361417</td>\n",
              "      <td>-0.060618</td>\n",
              "      <td>0.003026</td>\n",
              "      <td>-0.014941</td>\n",
              "      <td>-0.106500</td>\n",
              "      <td>-0.092824</td>\n",
              "      <td>-0.003406</td>\n",
              "    </tr>\n",
              "    <tr>\n",
              "      <th>grade</th>\n",
              "      <td>0.008130</td>\n",
              "      <td>0.667463</td>\n",
              "      <td>0.356967</td>\n",
              "      <td>0.664983</td>\n",
              "      <td>0.762704</td>\n",
              "      <td>0.113621</td>\n",
              "      <td>0.472608</td>\n",
              "      <td>0.082775</td>\n",
              "      <td>0.251321</td>\n",
              "      <td>-0.144674</td>\n",
              "      <td>1.000000</td>\n",
              "      <td>0.755923</td>\n",
              "      <td>0.168392</td>\n",
              "      <td>0.446963</td>\n",
              "      <td>0.014414</td>\n",
              "      <td>-0.184862</td>\n",
              "      <td>0.114084</td>\n",
              "      <td>0.198372</td>\n",
              "      <td>0.713202</td>\n",
              "      <td>0.119248</td>\n",
              "    </tr>\n",
              "    <tr>\n",
              "      <th>sqft_above</th>\n",
              "      <td>-0.010842</td>\n",
              "      <td>0.605566</td>\n",
              "      <td>0.477600</td>\n",
              "      <td>0.685342</td>\n",
              "      <td>0.876597</td>\n",
              "      <td>0.183512</td>\n",
              "      <td>0.517913</td>\n",
              "      <td>0.072075</td>\n",
              "      <td>0.167649</td>\n",
              "      <td>-0.158214</td>\n",
              "      <td>0.755923</td>\n",
              "      <td>1.000000</td>\n",
              "      <td>-0.051943</td>\n",
              "      <td>0.423898</td>\n",
              "      <td>0.023285</td>\n",
              "      <td>-0.261190</td>\n",
              "      <td>-0.000816</td>\n",
              "      <td>0.343803</td>\n",
              "      <td>0.731870</td>\n",
              "      <td>0.194050</td>\n",
              "    </tr>\n",
              "    <tr>\n",
              "      <th>sqft_basement</th>\n",
              "      <td>-0.005151</td>\n",
              "      <td>0.323837</td>\n",
              "      <td>0.303093</td>\n",
              "      <td>0.283770</td>\n",
              "      <td>0.435043</td>\n",
              "      <td>0.015286</td>\n",
              "      <td>-0.235836</td>\n",
              "      <td>0.080588</td>\n",
              "      <td>0.276947</td>\n",
              "      <td>0.174105</td>\n",
              "      <td>0.168392</td>\n",
              "      <td>-0.051943</td>\n",
              "      <td>1.000000</td>\n",
              "      <td>-0.133124</td>\n",
              "      <td>0.071323</td>\n",
              "      <td>0.074845</td>\n",
              "      <td>0.110538</td>\n",
              "      <td>-0.144765</td>\n",
              "      <td>0.200355</td>\n",
              "      <td>0.017276</td>\n",
              "    </tr>\n",
              "    <tr>\n",
              "      <th>yr_built</th>\n",
              "      <td>0.021380</td>\n",
              "      <td>0.053982</td>\n",
              "      <td>0.154178</td>\n",
              "      <td>0.506019</td>\n",
              "      <td>0.318049</td>\n",
              "      <td>0.053080</td>\n",
              "      <td>0.578619</td>\n",
              "      <td>-0.026161</td>\n",
              "      <td>-0.053440</td>\n",
              "      <td>-0.361417</td>\n",
              "      <td>0.446963</td>\n",
              "      <td>0.423898</td>\n",
              "      <td>-0.133124</td>\n",
              "      <td>1.000000</td>\n",
              "      <td>-0.224874</td>\n",
              "      <td>-0.346869</td>\n",
              "      <td>-0.148122</td>\n",
              "      <td>0.409356</td>\n",
              "      <td>0.326229</td>\n",
              "      <td>0.070958</td>\n",
              "    </tr>\n",
              "    <tr>\n",
              "      <th>yr_renovated</th>\n",
              "      <td>-0.016907</td>\n",
              "      <td>0.126442</td>\n",
              "      <td>0.018841</td>\n",
              "      <td>0.050739</td>\n",
              "      <td>0.055363</td>\n",
              "      <td>0.007644</td>\n",
              "      <td>-0.007775</td>\n",
              "      <td>0.092885</td>\n",
              "      <td>0.103917</td>\n",
              "      <td>-0.060618</td>\n",
              "      <td>0.014414</td>\n",
              "      <td>0.023285</td>\n",
              "      <td>0.071323</td>\n",
              "      <td>-0.224874</td>\n",
              "      <td>1.000000</td>\n",
              "      <td>0.064357</td>\n",
              "      <td>0.029398</td>\n",
              "      <td>-0.068372</td>\n",
              "      <td>-0.002673</td>\n",
              "      <td>0.007854</td>\n",
              "    </tr>\n",
              "    <tr>\n",
              "      <th>zipcode</th>\n",
              "      <td>-0.008224</td>\n",
              "      <td>-0.053168</td>\n",
              "      <td>-0.152668</td>\n",
              "      <td>-0.203866</td>\n",
              "      <td>-0.199430</td>\n",
              "      <td>-0.129574</td>\n",
              "      <td>-0.096743</td>\n",
              "      <td>0.030285</td>\n",
              "      <td>0.084827</td>\n",
              "      <td>0.003026</td>\n",
              "      <td>-0.184862</td>\n",
              "      <td>-0.261190</td>\n",
              "      <td>0.074845</td>\n",
              "      <td>-0.346869</td>\n",
              "      <td>0.064357</td>\n",
              "      <td>1.000000</td>\n",
              "      <td>0.267048</td>\n",
              "      <td>-0.564072</td>\n",
              "      <td>-0.279033</td>\n",
              "      <td>-0.147221</td>\n",
              "    </tr>\n",
              "    <tr>\n",
              "      <th>lat</th>\n",
              "      <td>-0.001891</td>\n",
              "      <td>0.306919</td>\n",
              "      <td>-0.008931</td>\n",
              "      <td>0.024573</td>\n",
              "      <td>0.052529</td>\n",
              "      <td>-0.085683</td>\n",
              "      <td>0.029567</td>\n",
              "      <td>-0.014274</td>\n",
              "      <td>0.006157</td>\n",
              "      <td>-0.014941</td>\n",
              "      <td>0.114084</td>\n",
              "      <td>-0.000816</td>\n",
              "      <td>0.110538</td>\n",
              "      <td>-0.148122</td>\n",
              "      <td>0.029398</td>\n",
              "      <td>0.267048</td>\n",
              "      <td>1.000000</td>\n",
              "      <td>-0.135512</td>\n",
              "      <td>0.048858</td>\n",
              "      <td>-0.086419</td>\n",
              "    </tr>\n",
              "    <tr>\n",
              "      <th>long</th>\n",
              "      <td>0.020799</td>\n",
              "      <td>0.021571</td>\n",
              "      <td>0.129473</td>\n",
              "      <td>0.223042</td>\n",
              "      <td>0.240223</td>\n",
              "      <td>0.229521</td>\n",
              "      <td>0.159001</td>\n",
              "      <td>-0.041910</td>\n",
              "      <td>-0.078400</td>\n",
              "      <td>-0.106500</td>\n",
              "      <td>0.198372</td>\n",
              "      <td>0.343803</td>\n",
              "      <td>-0.144765</td>\n",
              "      <td>0.409356</td>\n",
              "      <td>-0.068372</td>\n",
              "      <td>-0.564072</td>\n",
              "      <td>-0.135512</td>\n",
              "      <td>1.000000</td>\n",
              "      <td>0.334605</td>\n",
              "      <td>0.254451</td>\n",
              "    </tr>\n",
              "    <tr>\n",
              "      <th>sqft_living15</th>\n",
              "      <td>-0.002901</td>\n",
              "      <td>0.585374</td>\n",
              "      <td>0.391638</td>\n",
              "      <td>0.568634</td>\n",
              "      <td>0.756420</td>\n",
              "      <td>0.144608</td>\n",
              "      <td>0.296561</td>\n",
              "      <td>0.086463</td>\n",
              "      <td>0.280439</td>\n",
              "      <td>-0.092824</td>\n",
              "      <td>0.713202</td>\n",
              "      <td>0.731870</td>\n",
              "      <td>0.200355</td>\n",
              "      <td>0.326229</td>\n",
              "      <td>-0.002673</td>\n",
              "      <td>-0.279033</td>\n",
              "      <td>0.048858</td>\n",
              "      <td>0.334605</td>\n",
              "      <td>1.000000</td>\n",
              "      <td>0.183192</td>\n",
              "    </tr>\n",
              "    <tr>\n",
              "      <th>sqft_lot15</th>\n",
              "      <td>-0.138798</td>\n",
              "      <td>0.082456</td>\n",
              "      <td>0.029244</td>\n",
              "      <td>0.087175</td>\n",
              "      <td>0.183286</td>\n",
              "      <td>0.718557</td>\n",
              "      <td>-0.013252</td>\n",
              "      <td>0.030703</td>\n",
              "      <td>0.072575</td>\n",
              "      <td>-0.003406</td>\n",
              "      <td>0.119248</td>\n",
              "      <td>0.194050</td>\n",
              "      <td>0.017276</td>\n",
              "      <td>0.070958</td>\n",
              "      <td>0.007854</td>\n",
              "      <td>-0.147221</td>\n",
              "      <td>-0.086419</td>\n",
              "      <td>0.254451</td>\n",
              "      <td>0.183192</td>\n",
              "      <td>1.000000</td>\n",
              "    </tr>\n",
              "  </tbody>\n",
              "</table>\n",
              "</div>"
            ],
            "text/plain": [
              "                     id     price  ...  sqft_living15  sqft_lot15\n",
              "id             1.000000 -0.016797  ...      -0.002901   -0.138798\n",
              "price         -0.016797  1.000000  ...       0.585374    0.082456\n",
              "bedrooms       0.001286  0.308338  ...       0.391638    0.029244\n",
              "bathrooms      0.005160  0.525134  ...       0.568634    0.087175\n",
              "sqft_living   -0.012258  0.702044  ...       0.756420    0.183286\n",
              "sqft_lot      -0.132109  0.089655  ...       0.144608    0.718557\n",
              "floors         0.019120  0.237207  ...       0.296561   -0.013252\n",
              "waterfront    -0.002721  0.266331  ...       0.086463    0.030703\n",
              "view           0.011592  0.397346  ...       0.280439    0.072575\n",
              "condition     -0.023783  0.036392  ...      -0.092824   -0.003406\n",
              "grade          0.008130  0.667463  ...       0.713202    0.119248\n",
              "sqft_above    -0.010842  0.605566  ...       0.731870    0.194050\n",
              "sqft_basement -0.005151  0.323837  ...       0.200355    0.017276\n",
              "yr_built       0.021380  0.053982  ...       0.326229    0.070958\n",
              "yr_renovated  -0.016907  0.126442  ...      -0.002673    0.007854\n",
              "zipcode       -0.008224 -0.053168  ...      -0.279033   -0.147221\n",
              "lat           -0.001891  0.306919  ...       0.048858   -0.086419\n",
              "long           0.020799  0.021571  ...       0.334605    0.254451\n",
              "sqft_living15 -0.002901  0.585374  ...       1.000000    0.183192\n",
              "sqft_lot15    -0.138798  0.082456  ...       0.183192    1.000000\n",
              "\n",
              "[20 rows x 20 columns]"
            ]
          },
          "metadata": {
            "tags": []
          },
          "execution_count": 38
        }
      ]
    },
    {
      "cell_type": "code",
      "metadata": {
        "id": "WAcGZ-5xk84m",
        "colab_type": "code",
        "colab": {
          "base_uri": "https://localhost:8080/",
          "height": 786
        },
        "outputId": "b82d5abf-59b0-46d2-8d48-aaf8db1bda4a"
      },
      "source": [
        "#heatmap to view the correlation \n",
        "#\n",
        "plt.figure(figsize=(12, 12))  \n",
        "\n",
        "# Identifying factors that are highly correlated to house price\n",
        "# \n",
        "sns.heatmap(CorrMatrix, annot = True) "
      ],
      "execution_count": 39,
      "outputs": [
        {
          "output_type": "execute_result",
          "data": {
            "text/plain": [
              "<matplotlib.axes._subplots.AxesSubplot at 0x7febd2345e10>"
            ]
          },
          "metadata": {
            "tags": []
          },
          "execution_count": 39
        },
        {
          "output_type": "display_data",
          "data": {
            "image/png": "[encoded data removed]",
            "text/plain": [
              "<Figure size 864x864 with 2 Axes>"
            ]
          },
          "metadata": {
            "tags": []
          }
        }
      ]
    },
    {
      "cell_type": "markdown",
      "metadata": {
        "id": "l1k7ptWjla2n",
        "colab_type": "text"
      },
      "source": [
        "*in the price row, the factors that are highly correlated to price are: sqft_living15, sqft_living, sqft_above , grade, bathrooms have a high correlation to house price*"
      ]
    },
    {
      "cell_type": "markdown",
      "metadata": {
        "id": "8JO6OH5bn9DM",
        "colab_type": "text"
      },
      "source": [
        "### 5) Modelling"
      ]
    },
    {
      "cell_type": "markdown",
      "metadata": {
        "id": "c63LmC17oAja",
        "colab_type": "text"
      },
      "source": [
        "**Linear Regression**"
      ]
    },
    {
      "cell_type": "code",
      "metadata": {
        "id": "LF9VKA3ZpElQ",
        "colab_type": "code",
        "colab": {
          "base_uri": "https://localhost:8080/",
          "height": 235
        },
        "outputId": "a83596bb-ebf5-461b-8cc3-ca5dd2c1abbf"
      },
      "source": [
        "#multiple linear regression\n",
        "#y=price, x-independents vars\n",
        "#drop id cz its of less importance\n",
        "X = df.drop(['price', 'id'], axis=1)\n",
        "y = df['price']\n",
        "\n",
        "#dividing data into train and test sets\n",
        "#the test size is 20%, train 80%\n",
        "X_train, X_test, y_train, y_test = train_test_split(X, y, test_size=0.2, random_state=0)\n",
        "\n",
        "#training the algorithm\n",
        "regressor = LinearRegression()\n",
        "regressor.fit(X_train, y_train)\n",
        "\n",
        "#intercept\n",
        "print('intercept', regressor.intercept_)\n",
        "print('***************************************************')\n",
        "#coefficient\n",
        "print('coefficients', regressor.coef_)\n",
        "\n",
        "#making predictions\n",
        "y_pred = regressor.predict(X_test)\n",
        "\n",
        "#Mean absolute error\n",
        "print('Mean Absolute Error:', metrics.mean_absolute_error(y_test, y_pred))\n",
        "print('***************************************************')\n",
        "\n",
        "#Mean squared error\n",
        "print('Mean Squared Error:', metrics.mean_squared_error(y_test, y_pred))  \n",
        "print('***************************************************')\n",
        "#RMSE - Root mean squared error\n",
        "print('Root Mean Squared Error:', np.sqrt(metrics.mean_squared_error(y_test, y_pred)))"
      ],
      "execution_count": 105,
      "outputs": [
        {
          "output_type": "stream",
          "text": [
            "intercept 4151444.922037294\n",
            "***************************************************\n",
            "coefficients [-3.47007233e+04  3.94537780e+04  1.12667741e+02  1.75770479e-01\n",
            "  7.42274767e+03  6.05764114e+05  5.28006756e+04  2.61936914e+04\n",
            "  9.36843361e+04  7.28330231e+01  3.98347181e+01 -2.60926415e+03\n",
            "  2.01216818e+01 -5.67605311e+02  6.04949838e+05 -2.22616017e+05\n",
            "  2.42427006e+01 -4.67518411e-01]\n",
            "Mean Absolute Error: 122292.14383824011\n",
            "***************************************************\n",
            "Mean Squared Error: 36326416754.03765\n",
            "***************************************************\n",
            "Root Mean Squared Error: 190594.90222468608\n"
          ],
          "name": "stdout"
        }
      ]
    },
    {
      "cell_type": "markdown",
      "metadata": {
        "id": "zp-aMUnfzqpw",
        "colab_type": "text"
      },
      "source": [
        "*the output displays the intercept and the coefficients of all the independent variables. The RMSE is 190524.90 which is 10% higher than our target mean. The model is not good.*"
      ]
    },
    {
      "cell_type": "code",
      "metadata": {
        "id": "eOhHUfgMrmyV",
        "colab_type": "code",
        "colab": {
          "base_uri": "https://localhost:8080/",
          "height": 35
        },
        "outputId": "320be370-9642-4c84-c767-00088f0d178c"
      },
      "source": [
        "#accuracy of our model using r2score\n",
        "r2_score(y_test,y_pred)"
      ],
      "execution_count": 106,
      "outputs": [
        {
          "output_type": "execute_result",
          "data": {
            "text/plain": [
              "0.6949536715546484"
            ]
          },
          "metadata": {
            "tags": []
          },
          "execution_count": 106
        }
      ]
    },
    {
      "cell_type": "markdown",
      "metadata": {
        "id": "vs4MSCbL006m",
        "colab_type": "text"
      },
      "source": [
        "*our model is 69% accurate*"
      ]
    },
    {
      "cell_type": "markdown",
      "metadata": {
        "id": "lJV8JrQd1c2G",
        "colab_type": "text"
      },
      "source": [
        "**Muliticollinearity**"
      ]
    },
    {
      "cell_type": "code",
      "metadata": {
        "id": "j8VdYMBe1ccN",
        "colab_type": "code",
        "colab": {
          "base_uri": "https://localhost:8080/",
          "height": 457
        },
        "outputId": "69a65d60-a943-4d43-e0bf-9ebe1515c1fa"
      },
      "source": [
        "#plot correlation matrix of all independent variables\n",
        "\n",
        "corr=df.drop('price', axis=1).corr()\n",
        "corr.style.background_gradient(cmap='coolwarm')"
      ],
      "execution_count": 107,
      "outputs": [
        {
          "output_type": "execute_result",
          "data": {
            "text/html": [
              "<style  type=\"text/css\" >\n",
              "    #T_ea52c3dc_d330_11ea_9d73_0242ac1c0002row0_col0 {\n",
              "            background-color:  #b40426;\n",
              "            color:  #f1f1f1;\n",
              "        }    #T_ea52c3dc_d330_11ea_9d73_0242ac1c0002row0_col1 {\n",
              "            background-color:  #6485ec;\n",
              "            color:  #000000;\n",
              "        }    #T_ea52c3dc_d330_11ea_9d73_0242ac1c0002row0_col2 {\n",
              "            background-color:  #7295f4;\n",
              "            color:  #000000;\n",
              "        }    #T_ea52c3dc_d330_11ea_9d73_0242ac1c0002row0_col3 {\n",
              "            background-color:  #6b8df0;\n",
              "            color:  #000000;\n",
              "        }    #T_ea52c3dc_d330_11ea_9d73_0242ac1c0002row0_col4 {\n",
              "            background-color:  #3b4cc0;\n",
              "            color:  #f1f1f1;\n",
              "        }    #T_ea52c3dc_d330_11ea_9d73_0242ac1c0002row0_col5 {\n",
              "            background-color:  #84a7fc;\n",
              "            color:  #000000;\n",
              "        }    #T_ea52c3dc_d330_11ea_9d73_0242ac1c0002row0_col6 {\n",
              "            background-color:  #455cce;\n",
              "            color:  #f1f1f1;\n",
              "        }    #T_ea52c3dc_d330_11ea_9d73_0242ac1c0002row0_col7 {\n",
              "            background-color:  #5470de;\n",
              "            color:  #000000;\n",
              "        }    #T_ea52c3dc_d330_11ea_9d73_0242ac1c0002row0_col8 {\n",
              "            background-color:  #8caffe;\n",
              "            color:  #000000;\n",
              "        }    #T_ea52c3dc_d330_11ea_9d73_0242ac1c0002row0_col9 {\n",
              "            background-color:  #6e90f2;\n",
              "            color:  #000000;\n",
              "        }    #T_ea52c3dc_d330_11ea_9d73_0242ac1c0002row0_col10 {\n",
              "            background-color:  #7a9df8;\n",
              "            color:  #000000;\n",
              "        }    #T_ea52c3dc_d330_11ea_9d73_0242ac1c0002row0_col11 {\n",
              "            background-color:  #799cf8;\n",
              "            color:  #000000;\n",
              "        }    #T_ea52c3dc_d330_11ea_9d73_0242ac1c0002row0_col12 {\n",
              "            background-color:  #97b8ff;\n",
              "            color:  #000000;\n",
              "        }    #T_ea52c3dc_d330_11ea_9d73_0242ac1c0002row0_col13 {\n",
              "            background-color:  #7093f3;\n",
              "            color:  #000000;\n",
              "        }    #T_ea52c3dc_d330_11ea_9d73_0242ac1c0002row0_col14 {\n",
              "            background-color:  #b1cbfc;\n",
              "            color:  #000000;\n",
              "        }    #T_ea52c3dc_d330_11ea_9d73_0242ac1c0002row0_col15 {\n",
              "            background-color:  #6282ea;\n",
              "            color:  #000000;\n",
              "        }    #T_ea52c3dc_d330_11ea_9d73_0242ac1c0002row0_col16 {\n",
              "            background-color:  #b7cff9;\n",
              "            color:  #000000;\n",
              "        }    #T_ea52c3dc_d330_11ea_9d73_0242ac1c0002row0_col17 {\n",
              "            background-color:  #81a4fb;\n",
              "            color:  #000000;\n",
              "        }    #T_ea52c3dc_d330_11ea_9d73_0242ac1c0002row0_col18 {\n",
              "            background-color:  #3c4ec2;\n",
              "            color:  #f1f1f1;\n",
              "        }    #T_ea52c3dc_d330_11ea_9d73_0242ac1c0002row1_col0 {\n",
              "            background-color:  #6180e9;\n",
              "            color:  #000000;\n",
              "        }    #T_ea52c3dc_d330_11ea_9d73_0242ac1c0002row1_col1 {\n",
              "            background-color:  #b40426;\n",
              "            color:  #f1f1f1;\n",
              "        }    #T_ea52c3dc_d330_11ea_9d73_0242ac1c0002row1_col2 {\n",
              "            background-color:  #f2cbb7;\n",
              "            color:  #000000;\n",
              "        }    #T_ea52c3dc_d330_11ea_9d73_0242ac1c0002row1_col3 {\n",
              "            background-color:  #f6bea4;\n",
              "            color:  #000000;\n",
              "        }    #T_ea52c3dc_d330_11ea_9d73_0242ac1c0002row1_col4 {\n",
              "            background-color:  #688aef;\n",
              "            color:  #000000;\n",
              "        }    #T_ea52c3dc_d330_11ea_9d73_0242ac1c0002row1_col5 {\n",
              "            background-color:  #aec9fc;\n",
              "            color:  #000000;\n",
              "        }    #T_ea52c3dc_d330_11ea_9d73_0242ac1c0002row1_col6 {\n",
              "            background-color:  #445acc;\n",
              "            color:  #f1f1f1;\n",
              "        }    #T_ea52c3dc_d330_11ea_9d73_0242ac1c0002row1_col7 {\n",
              "            background-color:  #688aef;\n",
              "            color:  #000000;\n",
              "        }    #T_ea52c3dc_d330_11ea_9d73_0242ac1c0002row1_col8 {\n",
              "            background-color:  #9abbff;\n",
              "            color:  #000000;\n",
              "        }    #T_ea52c3dc_d330_11ea_9d73_0242ac1c0002row1_col9 {\n",
              "            background-color:  #d2dbe8;\n",
              "            color:  #000000;\n",
              "        }    #T_ea52c3dc_d330_11ea_9d73_0242ac1c0002row1_col10 {\n",
              "            background-color:  #efcebd;\n",
              "            color:  #000000;\n",
              "        }    #T_ea52c3dc_d330_11ea_9d73_0242ac1c0002row1_col11 {\n",
              "            background-color:  #ccd9ed;\n",
              "            color:  #000000;\n",
              "        }    #T_ea52c3dc_d330_11ea_9d73_0242ac1c0002row1_col12 {\n",
              "            background-color:  #b9d0f9;\n",
              "            color:  #000000;\n",
              "        }    #T_ea52c3dc_d330_11ea_9d73_0242ac1c0002row1_col13 {\n",
              "            background-color:  #7a9df8;\n",
              "            color:  #000000;\n",
              "        }    #T_ea52c3dc_d330_11ea_9d73_0242ac1c0002row1_col14 {\n",
              "            background-color:  #92b4fe;\n",
              "            color:  #000000;\n",
              "        }    #T_ea52c3dc_d330_11ea_9d73_0242ac1c0002row1_col15 {\n",
              "            background-color:  #6180e9;\n",
              "            color:  #000000;\n",
              "        }    #T_ea52c3dc_d330_11ea_9d73_0242ac1c0002row1_col16 {\n",
              "            background-color:  #cdd9ec;\n",
              "            color:  #000000;\n",
              "        }    #T_ea52c3dc_d330_11ea_9d73_0242ac1c0002row1_col17 {\n",
              "            background-color:  #e3d9d3;\n",
              "            color:  #000000;\n",
              "        }    #T_ea52c3dc_d330_11ea_9d73_0242ac1c0002row1_col18 {\n",
              "            background-color:  #6b8df0;\n",
              "            color:  #000000;\n",
              "        }    #T_ea52c3dc_d330_11ea_9d73_0242ac1c0002row2_col0 {\n",
              "            background-color:  #6282ea;\n",
              "            color:  #000000;\n",
              "        }    #T_ea52c3dc_d330_11ea_9d73_0242ac1c0002row2_col1 {\n",
              "            background-color:  #efcfbf;\n",
              "            color:  #000000;\n",
              "        }    #T_ea52c3dc_d330_11ea_9d73_0242ac1c0002row2_col2 {\n",
              "            background-color:  #b40426;\n",
              "            color:  #f1f1f1;\n",
              "        }    #T_ea52c3dc_d330_11ea_9d73_0242ac1c0002row2_col3 {\n",
              "            background-color:  #ee8669;\n",
              "            color:  #000000;\n",
              "        }    #T_ea52c3dc_d330_11ea_9d73_0242ac1c0002row2_col4 {\n",
              "            background-color:  #799cf8;\n",
              "            color:  #000000;\n",
              "        }    #T_ea52c3dc_d330_11ea_9d73_0242ac1c0002row2_col5 {\n",
              "            background-color:  #f2cab5;\n",
              "            color:  #000000;\n",
              "        }    #T_ea52c3dc_d330_11ea_9d73_0242ac1c0002row2_col6 {\n",
              "            background-color:  #5977e3;\n",
              "            color:  #000000;\n",
              "        }    #T_ea52c3dc_d330_11ea_9d73_0242ac1c0002row2_col7 {\n",
              "            background-color:  #8caffe;\n",
              "            color:  #000000;\n",
              "        }    #T_ea52c3dc_d330_11ea_9d73_0242ac1c0002row2_col8 {\n",
              "            background-color:  #7295f4;\n",
              "            color:  #000000;\n",
              "        }    #T_ea52c3dc_d330_11ea_9d73_0242ac1c0002row2_col9 {\n",
              "            background-color:  #f7a688;\n",
              "            color:  #000000;\n",
              "        }    #T_ea52c3dc_d330_11ea_9d73_0242ac1c0002row2_col10 {\n",
              "            background-color:  #f4987a;\n",
              "            color:  #000000;\n",
              "        }    #T_ea52c3dc_d330_11ea_9d73_0242ac1c0002row2_col11 {\n",
              "            background-color:  #c7d7f0;\n",
              "            color:  #000000;\n",
              "        }    #T_ea52c3dc_d330_11ea_9d73_0242ac1c0002row2_col12 {\n",
              "            background-color:  #f5c0a7;\n",
              "            color:  #000000;\n",
              "        }    #T_ea52c3dc_d330_11ea_9d73_0242ac1c0002row2_col13 {\n",
              "            background-color:  #84a7fc;\n",
              "            color:  #000000;\n",
              "        }    #T_ea52c3dc_d330_11ea_9d73_0242ac1c0002row2_col14 {\n",
              "            background-color:  #85a8fc;\n",
              "            color:  #000000;\n",
              "        }    #T_ea52c3dc_d330_11ea_9d73_0242ac1c0002row2_col15 {\n",
              "            background-color:  #6a8bef;\n",
              "            color:  #000000;\n",
              "        }    #T_ea52c3dc_d330_11ea_9d73_0242ac1c0002row2_col16 {\n",
              "            background-color:  #dddcdc;\n",
              "            color:  #000000;\n",
              "        }    #T_ea52c3dc_d330_11ea_9d73_0242ac1c0002row2_col17 {\n",
              "            background-color:  #f7b99e;\n",
              "            color:  #000000;\n",
              "        }    #T_ea52c3dc_d330_11ea_9d73_0242ac1c0002row2_col18 {\n",
              "            background-color:  #7da0f9;\n",
              "            color:  #000000;\n",
              "        }    #T_ea52c3dc_d330_11ea_9d73_0242ac1c0002row3_col0 {\n",
              "            background-color:  #5d7ce6;\n",
              "            color:  #000000;\n",
              "        }    #T_ea52c3dc_d330_11ea_9d73_0242ac1c0002row3_col1 {\n",
              "            background-color:  #f5c2aa;\n",
              "            color:  #000000;\n",
              "        }    #T_ea52c3dc_d330_11ea_9d73_0242ac1c0002row3_col2 {\n",
              "            background-color:  #ee8669;\n",
              "            color:  #000000;\n",
              "        }    #T_ea52c3dc_d330_11ea_9d73_0242ac1c0002row3_col3 {\n",
              "            background-color:  #b40426;\n",
              "            color:  #f1f1f1;\n",
              "        }    #T_ea52c3dc_d330_11ea_9d73_0242ac1c0002row3_col4 {\n",
              "            background-color:  #93b5fe;\n",
              "            color:  #000000;\n",
              "        }    #T_ea52c3dc_d330_11ea_9d73_0242ac1c0002row3_col5 {\n",
              "            background-color:  #dadce0;\n",
              "            color:  #000000;\n",
              "        }    #T_ea52c3dc_d330_11ea_9d73_0242ac1c0002row3_col6 {\n",
              "            background-color:  #6687ed;\n",
              "            color:  #000000;\n",
              "        }    #T_ea52c3dc_d330_11ea_9d73_0242ac1c0002row3_col7 {\n",
              "            background-color:  #abc8fd;\n",
              "            color:  #000000;\n",
              "        }    #T_ea52c3dc_d330_11ea_9d73_0242ac1c0002row3_col8 {\n",
              "            background-color:  #82a6fb;\n",
              "            color:  #000000;\n",
              "        }    #T_ea52c3dc_d330_11ea_9d73_0242ac1c0002row3_col9 {\n",
              "            background-color:  #ee8468;\n",
              "            color:  #000000;\n",
              "        }    #T_ea52c3dc_d330_11ea_9d73_0242ac1c0002row3_col10 {\n",
              "            background-color:  #d65244;\n",
              "            color:  #000000;\n",
              "        }    #T_ea52c3dc_d330_11ea_9d73_0242ac1c0002row3_col11 {\n",
              "            background-color:  #e8d6cc;\n",
              "            color:  #000000;\n",
              "        }    #T_ea52c3dc_d330_11ea_9d73_0242ac1c0002row3_col12 {\n",
              "            background-color:  #dcdddd;\n",
              "            color:  #000000;\n",
              "        }    #T_ea52c3dc_d330_11ea_9d73_0242ac1c0002row3_col13 {\n",
              "            background-color:  #85a8fc;\n",
              "            color:  #000000;\n",
              "        }    #T_ea52c3dc_d330_11ea_9d73_0242ac1c0002row3_col14 {\n",
              "            background-color:  #86a9fc;\n",
              "            color:  #000000;\n",
              "        }    #T_ea52c3dc_d330_11ea_9d73_0242ac1c0002row3_col15 {\n",
              "            background-color:  #7295f4;\n",
              "            color:  #000000;\n",
              "        }    #T_ea52c3dc_d330_11ea_9d73_0242ac1c0002row3_col16 {\n",
              "            background-color:  #e0dbd8;\n",
              "            color:  #000000;\n",
              "        }    #T_ea52c3dc_d330_11ea_9d73_0242ac1c0002row3_col17 {\n",
              "            background-color:  #ec7f63;\n",
              "            color:  #000000;\n",
              "        }    #T_ea52c3dc_d330_11ea_9d73_0242ac1c0002row3_col18 {\n",
              "            background-color:  #9abbff;\n",
              "            color:  #000000;\n",
              "        }    #T_ea52c3dc_d330_11ea_9d73_0242ac1c0002row4_col0 {\n",
              "            background-color:  #3c4ec2;\n",
              "            color:  #f1f1f1;\n",
              "        }    #T_ea52c3dc_d330_11ea_9d73_0242ac1c0002row4_col1 {\n",
              "            background-color:  #6c8ff1;\n",
              "            color:  #000000;\n",
              "        }    #T_ea52c3dc_d330_11ea_9d73_0242ac1c0002row4_col2 {\n",
              "            background-color:  #8badfd;\n",
              "            color:  #000000;\n",
              "        }    #T_ea52c3dc_d330_11ea_9d73_0242ac1c0002row4_col3 {\n",
              "            background-color:  #a2c1ff;\n",
              "            color:  #000000;\n",
              "        }    #T_ea52c3dc_d330_11ea_9d73_0242ac1c0002row4_col4 {\n",
              "            background-color:  #b40426;\n",
              "            color:  #f1f1f1;\n",
              "        }    #T_ea52c3dc_d330_11ea_9d73_0242ac1c0002row4_col5 {\n",
              "            background-color:  #7da0f9;\n",
              "            color:  #000000;\n",
              "        }    #T_ea52c3dc_d330_11ea_9d73_0242ac1c0002row4_col6 {\n",
              "            background-color:  #4c66d6;\n",
              "            color:  #000000;\n",
              "        }    #T_ea52c3dc_d330_11ea_9d73_0242ac1c0002row4_col7 {\n",
              "            background-color:  #6788ee;\n",
              "            color:  #000000;\n",
              "        }    #T_ea52c3dc_d330_11ea_9d73_0242ac1c0002row4_col8 {\n",
              "            background-color:  #90b2fe;\n",
              "            color:  #000000;\n",
              "        }    #T_ea52c3dc_d330_11ea_9d73_0242ac1c0002row4_col9 {\n",
              "            background-color:  #8db0fe;\n",
              "            color:  #000000;\n",
              "        }    #T_ea52c3dc_d330_11ea_9d73_0242ac1c0002row4_col10 {\n",
              "            background-color:  #b1cbfc;\n",
              "            color:  #000000;\n",
              "        }    #T_ea52c3dc_d330_11ea_9d73_0242ac1c0002row4_col11 {\n",
              "            background-color:  #7ea1fa;\n",
              "            color:  #000000;\n",
              "        }    #T_ea52c3dc_d330_11ea_9d73_0242ac1c0002row4_col12 {\n",
              "            background-color:  #9fbfff;\n",
              "            color:  #000000;\n",
              "        }    #T_ea52c3dc_d330_11ea_9d73_0242ac1c0002row4_col13 {\n",
              "            background-color:  #779af7;\n",
              "            color:  #000000;\n",
              "        }    #T_ea52c3dc_d330_11ea_9d73_0242ac1c0002row4_col14 {\n",
              "            background-color:  #97b8ff;\n",
              "            color:  #000000;\n",
              "        }    #T_ea52c3dc_d330_11ea_9d73_0242ac1c0002row4_col15 {\n",
              "            background-color:  #4a63d3;\n",
              "            color:  #f1f1f1;\n",
              "        }    #T_ea52c3dc_d330_11ea_9d73_0242ac1c0002row4_col16 {\n",
              "            background-color:  #dedcdb;\n",
              "            color:  #000000;\n",
              "        }    #T_ea52c3dc_d330_11ea_9d73_0242ac1c0002row4_col17 {\n",
              "            background-color:  #a9c6fd;\n",
              "            color:  #000000;\n",
              "        }    #T_ea52c3dc_d330_11ea_9d73_0242ac1c0002row4_col18 {\n",
              "            background-color:  #f39778;\n",
              "            color:  #000000;\n",
              "        }    #T_ea52c3dc_d330_11ea_9d73_0242ac1c0002row5_col0 {\n",
              "            background-color:  #6687ed;\n",
              "            color:  #000000;\n",
              "        }    #T_ea52c3dc_d330_11ea_9d73_0242ac1c0002row5_col1 {\n",
              "            background-color:  #98b9ff;\n",
              "            color:  #000000;\n",
              "        }    #T_ea52c3dc_d330_11ea_9d73_0242ac1c0002row5_col2 {\n",
              "            background-color:  #efcebd;\n",
              "            color:  #000000;\n",
              "        }    #T_ea52c3dc_d330_11ea_9d73_0242ac1c0002row5_col3 {\n",
              "            background-color:  #d3dbe7;\n",
              "            color:  #000000;\n",
              "        }    #T_ea52c3dc_d330_11ea_9d73_0242ac1c0002row5_col4 {\n",
              "            background-color:  #5d7ce6;\n",
              "            color:  #000000;\n",
              "        }    #T_ea52c3dc_d330_11ea_9d73_0242ac1c0002row5_col5 {\n",
              "            background-color:  #b40426;\n",
              "            color:  #f1f1f1;\n",
              "        }    #T_ea52c3dc_d330_11ea_9d73_0242ac1c0002row5_col6 {\n",
              "            background-color:  #4e68d8;\n",
              "            color:  #000000;\n",
              "        }    #T_ea52c3dc_d330_11ea_9d73_0242ac1c0002row5_col7 {\n",
              "            background-color:  #5977e3;\n",
              "            color:  #000000;\n",
              "        }    #T_ea52c3dc_d330_11ea_9d73_0242ac1c0002row5_col8 {\n",
              "            background-color:  #506bda;\n",
              "            color:  #000000;\n",
              "        }    #T_ea52c3dc_d330_11ea_9d73_0242ac1c0002row5_col9 {\n",
              "            background-color:  #e7d7ce;\n",
              "            color:  #000000;\n",
              "        }    #T_ea52c3dc_d330_11ea_9d73_0242ac1c0002row5_col10 {\n",
              "            background-color:  #f4c5ad;\n",
              "            color:  #000000;\n",
              "        }    #T_ea52c3dc_d330_11ea_9d73_0242ac1c0002row5_col11 {\n",
              "            background-color:  #3b4cc0;\n",
              "            color:  #f1f1f1;\n",
              "        }    #T_ea52c3dc_d330_11ea_9d73_0242ac1c0002row5_col12 {\n",
              "            background-color:  #f4c5ad;\n",
              "            color:  #000000;\n",
              "        }    #T_ea52c3dc_d330_11ea_9d73_0242ac1c0002row5_col13 {\n",
              "            background-color:  #779af7;\n",
              "            color:  #000000;\n",
              "        }    #T_ea52c3dc_d330_11ea_9d73_0242ac1c0002row5_col14 {\n",
              "            background-color:  #a6c4fe;\n",
              "            color:  #000000;\n",
              "        }    #T_ea52c3dc_d330_11ea_9d73_0242ac1c0002row5_col15 {\n",
              "            background-color:  #7295f4;\n",
              "            color:  #000000;\n",
              "        }    #T_ea52c3dc_d330_11ea_9d73_0242ac1c0002row5_col16 {\n",
              "            background-color:  #ccd9ed;\n",
              "            color:  #000000;\n",
              "        }    #T_ea52c3dc_d330_11ea_9d73_0242ac1c0002row5_col17 {\n",
              "            background-color:  #cbd8ee;\n",
              "            color:  #000000;\n",
              "        }    #T_ea52c3dc_d330_11ea_9d73_0242ac1c0002row5_col18 {\n",
              "            background-color:  #5f7fe8;\n",
              "            color:  #000000;\n",
              "        }    #T_ea52c3dc_d330_11ea_9d73_0242ac1c0002row6_col0 {\n",
              "            background-color:  #5f7fe8;\n",
              "            color:  #000000;\n",
              "        }    #T_ea52c3dc_d330_11ea_9d73_0242ac1c0002row6_col1 {\n",
              "            background-color:  #6282ea;\n",
              "            color:  #000000;\n",
              "        }    #T_ea52c3dc_d330_11ea_9d73_0242ac1c0002row6_col2 {\n",
              "            background-color:  #82a6fb;\n",
              "            color:  #000000;\n",
              "        }    #T_ea52c3dc_d330_11ea_9d73_0242ac1c0002row6_col3 {\n",
              "            background-color:  #8db0fe;\n",
              "            color:  #000000;\n",
              "        }    #T_ea52c3dc_d330_11ea_9d73_0242ac1c0002row6_col4 {\n",
              "            background-color:  #6485ec;\n",
              "            color:  #000000;\n",
              "        }    #T_ea52c3dc_d330_11ea_9d73_0242ac1c0002row6_col5 {\n",
              "            background-color:  #85a8fc;\n",
              "            color:  #000000;\n",
              "        }    #T_ea52c3dc_d330_11ea_9d73_0242ac1c0002row6_col6 {\n",
              "            background-color:  #b40426;\n",
              "            color:  #f1f1f1;\n",
              "        }    #T_ea52c3dc_d330_11ea_9d73_0242ac1c0002row6_col7 {\n",
              "            background-color:  #cedaeb;\n",
              "            color:  #000000;\n",
              "        }    #T_ea52c3dc_d330_11ea_9d73_0242ac1c0002row6_col8 {\n",
              "            background-color:  #97b8ff;\n",
              "            color:  #000000;\n",
              "        }    #T_ea52c3dc_d330_11ea_9d73_0242ac1c0002row6_col9 {\n",
              "            background-color:  #84a7fc;\n",
              "            color:  #000000;\n",
              "        }    #T_ea52c3dc_d330_11ea_9d73_0242ac1c0002row6_col10 {\n",
              "            background-color:  #92b4fe;\n",
              "            color:  #000000;\n",
              "        }    #T_ea52c3dc_d330_11ea_9d73_0242ac1c0002row6_col11 {\n",
              "            background-color:  #92b4fe;\n",
              "            color:  #000000;\n",
              "        }    #T_ea52c3dc_d330_11ea_9d73_0242ac1c0002row6_col12 {\n",
              "            background-color:  #8caffe;\n",
              "            color:  #000000;\n",
              "        }    #T_ea52c3dc_d330_11ea_9d73_0242ac1c0002row6_col13 {\n",
              "            background-color:  #90b2fe;\n",
              "            color:  #000000;\n",
              "        }    #T_ea52c3dc_d330_11ea_9d73_0242ac1c0002row6_col14 {\n",
              "            background-color:  #bad0f8;\n",
              "            color:  #000000;\n",
              "        }    #T_ea52c3dc_d330_11ea_9d73_0242ac1c0002row6_col15 {\n",
              "            background-color:  #5e7de7;\n",
              "            color:  #000000;\n",
              "        }    #T_ea52c3dc_d330_11ea_9d73_0242ac1c0002row6_col16 {\n",
              "            background-color:  #aac7fd;\n",
              "            color:  #000000;\n",
              "        }    #T_ea52c3dc_d330_11ea_9d73_0242ac1c0002row6_col17 {\n",
              "            background-color:  #9abbff;\n",
              "            color:  #000000;\n",
              "        }    #T_ea52c3dc_d330_11ea_9d73_0242ac1c0002row6_col18 {\n",
              "            background-color:  #6b8df0;\n",
              "            color:  #000000;\n",
              "        }    #T_ea52c3dc_d330_11ea_9d73_0242ac1c0002row7_col0 {\n",
              "            background-color:  #6384eb;\n",
              "            color:  #000000;\n",
              "        }    #T_ea52c3dc_d330_11ea_9d73_0242ac1c0002row7_col1 {\n",
              "            background-color:  #7b9ff9;\n",
              "            color:  #000000;\n",
              "        }    #T_ea52c3dc_d330_11ea_9d73_0242ac1c0002row7_col2 {\n",
              "            background-color:  #a7c5fe;\n",
              "            color:  #000000;\n",
              "        }    #T_ea52c3dc_d330_11ea_9d73_0242ac1c0002row7_col3 {\n",
              "            background-color:  #c1d4f4;\n",
              "            color:  #000000;\n",
              "        }    #T_ea52c3dc_d330_11ea_9d73_0242ac1c0002row7_col4 {\n",
              "            background-color:  #7597f6;\n",
              "            color:  #000000;\n",
              "        }    #T_ea52c3dc_d330_11ea_9d73_0242ac1c0002row7_col5 {\n",
              "            background-color:  #86a9fc;\n",
              "            color:  #000000;\n",
              "        }    #T_ea52c3dc_d330_11ea_9d73_0242ac1c0002row7_col6 {\n",
              "            background-color:  #c9d7f0;\n",
              "            color:  #000000;\n",
              "        }    #T_ea52c3dc_d330_11ea_9d73_0242ac1c0002row7_col7 {\n",
              "            background-color:  #b40426;\n",
              "            color:  #f1f1f1;\n",
              "        }    #T_ea52c3dc_d330_11ea_9d73_0242ac1c0002row7_col8 {\n",
              "            background-color:  #9ebeff;\n",
              "            color:  #000000;\n",
              "        }    #T_ea52c3dc_d330_11ea_9d73_0242ac1c0002row7_col9 {\n",
              "            background-color:  #b6cefa;\n",
              "            color:  #000000;\n",
              "        }    #T_ea52c3dc_d330_11ea_9d73_0242ac1c0002row7_col10 {\n",
              "            background-color:  #adc9fd;\n",
              "            color:  #000000;\n",
              "        }    #T_ea52c3dc_d330_11ea_9d73_0242ac1c0002row7_col11 {\n",
              "            background-color:  #c6d6f1;\n",
              "            color:  #000000;\n",
              "        }    #T_ea52c3dc_d330_11ea_9d73_0242ac1c0002row7_col12 {\n",
              "            background-color:  #84a7fc;\n",
              "            color:  #000000;\n",
              "        }    #T_ea52c3dc_d330_11ea_9d73_0242ac1c0002row7_col13 {\n",
              "            background-color:  #93b5fe;\n",
              "            color:  #000000;\n",
              "        }    #T_ea52c3dc_d330_11ea_9d73_0242ac1c0002row7_col14 {\n",
              "            background-color:  #c5d6f2;\n",
              "            color:  #000000;\n",
              "        }    #T_ea52c3dc_d330_11ea_9d73_0242ac1c0002row7_col15 {\n",
              "            background-color:  #6485ec;\n",
              "            color:  #000000;\n",
              "        }    #T_ea52c3dc_d330_11ea_9d73_0242ac1c0002row7_col16 {\n",
              "            background-color:  #a2c1ff;\n",
              "            color:  #000000;\n",
              "        }    #T_ea52c3dc_d330_11ea_9d73_0242ac1c0002row7_col17 {\n",
              "            background-color:  #cbd8ee;\n",
              "            color:  #000000;\n",
              "        }    #T_ea52c3dc_d330_11ea_9d73_0242ac1c0002row7_col18 {\n",
              "            background-color:  #799cf8;\n",
              "            color:  #000000;\n",
              "        }    #T_ea52c3dc_d330_11ea_9d73_0242ac1c0002row8_col0 {\n",
              "            background-color:  #5977e3;\n",
              "            color:  #000000;\n",
              "        }    #T_ea52c3dc_d330_11ea_9d73_0242ac1c0002row8_col1 {\n",
              "            background-color:  #6c8ff1;\n",
              "            color:  #000000;\n",
              "        }    #T_ea52c3dc_d330_11ea_9d73_0242ac1c0002row8_col2 {\n",
              "            background-color:  #4e68d8;\n",
              "            color:  #000000;\n",
              "        }    #T_ea52c3dc_d330_11ea_9d73_0242ac1c0002row8_col3 {\n",
              "            background-color:  #5f7fe8;\n",
              "            color:  #000000;\n",
              "        }    #T_ea52c3dc_d330_11ea_9d73_0242ac1c0002row8_col4 {\n",
              "            background-color:  #5b7ae5;\n",
              "            color:  #000000;\n",
              "        }    #T_ea52c3dc_d330_11ea_9d73_0242ac1c0002row8_col5 {\n",
              "            background-color:  #3b4cc0;\n",
              "            color:  #f1f1f1;\n",
              "        }    #T_ea52c3dc_d330_11ea_9d73_0242ac1c0002row8_col6 {\n",
              "            background-color:  #4b64d5;\n",
              "            color:  #f1f1f1;\n",
              "        }    #T_ea52c3dc_d330_11ea_9d73_0242ac1c0002row8_col7 {\n",
              "            background-color:  #5e7de7;\n",
              "            color:  #000000;\n",
              "        }    #T_ea52c3dc_d330_11ea_9d73_0242ac1c0002row8_col8 {\n",
              "            background-color:  #b40426;\n",
              "            color:  #f1f1f1;\n",
              "        }    #T_ea52c3dc_d330_11ea_9d73_0242ac1c0002row8_col9 {\n",
              "            background-color:  #445acc;\n",
              "            color:  #f1f1f1;\n",
              "        }    #T_ea52c3dc_d330_11ea_9d73_0242ac1c0002row8_col10 {\n",
              "            background-color:  #536edd;\n",
              "            color:  #000000;\n",
              "        }    #T_ea52c3dc_d330_11ea_9d73_0242ac1c0002row8_col11 {\n",
              "            background-color:  #abc8fd;\n",
              "            color:  #000000;\n",
              "        }    #T_ea52c3dc_d330_11ea_9d73_0242ac1c0002row8_col12 {\n",
              "            background-color:  #3b4cc0;\n",
              "            color:  #f1f1f1;\n",
              "        }    #T_ea52c3dc_d330_11ea_9d73_0242ac1c0002row8_col13 {\n",
              "            background-color:  #6485ec;\n",
              "            color:  #000000;\n",
              "        }    #T_ea52c3dc_d330_11ea_9d73_0242ac1c0002row8_col14 {\n",
              "            background-color:  #b3cdfb;\n",
              "            color:  #000000;\n",
              "        }    #T_ea52c3dc_d330_11ea_9d73_0242ac1c0002row8_col15 {\n",
              "            background-color:  #5e7de7;\n",
              "            color:  #000000;\n",
              "        }    #T_ea52c3dc_d330_11ea_9d73_0242ac1c0002row8_col16 {\n",
              "            background-color:  #9bbcff;\n",
              "            color:  #000000;\n",
              "        }    #T_ea52c3dc_d330_11ea_9d73_0242ac1c0002row8_col17 {\n",
              "            background-color:  #688aef;\n",
              "            color:  #000000;\n",
              "        }    #T_ea52c3dc_d330_11ea_9d73_0242ac1c0002row8_col18 {\n",
              "            background-color:  #6282ea;\n",
              "            color:  #000000;\n",
              "        }    #T_ea52c3dc_d330_11ea_9d73_0242ac1c0002row9_col0 {\n",
              "            background-color:  #6384eb;\n",
              "            color:  #000000;\n",
              "        }    #T_ea52c3dc_d330_11ea_9d73_0242ac1c0002row9_col1 {\n",
              "            background-color:  #cdd9ec;\n",
              "            color:  #000000;\n",
              "        }    #T_ea52c3dc_d330_11ea_9d73_0242ac1c0002row9_col2 {\n",
              "            background-color:  #f6a586;\n",
              "            color:  #000000;\n",
              "        }    #T_ea52c3dc_d330_11ea_9d73_0242ac1c0002row9_col3 {\n",
              "            background-color:  #ed8366;\n",
              "            color:  #000000;\n",
              "        }    #T_ea52c3dc_d330_11ea_9d73_0242ac1c0002row9_col4 {\n",
              "            background-color:  #81a4fb;\n",
              "            color:  #000000;\n",
              "        }    #T_ea52c3dc_d330_11ea_9d73_0242ac1c0002row9_col5 {\n",
              "            background-color:  #edd1c2;\n",
              "            color:  #000000;\n",
              "        }    #T_ea52c3dc_d330_11ea_9d73_0242ac1c0002row9_col6 {\n",
              "            background-color:  #5f7fe8;\n",
              "            color:  #000000;\n",
              "        }    #T_ea52c3dc_d330_11ea_9d73_0242ac1c0002row9_col7 {\n",
              "            background-color:  #a1c0ff;\n",
              "            color:  #000000;\n",
              "        }    #T_ea52c3dc_d330_11ea_9d73_0242ac1c0002row9_col8 {\n",
              "            background-color:  #6c8ff1;\n",
              "            color:  #000000;\n",
              "        }    #T_ea52c3dc_d330_11ea_9d73_0242ac1c0002row9_col9 {\n",
              "            background-color:  #b40426;\n",
              "            color:  #f1f1f1;\n",
              "        }    #T_ea52c3dc_d330_11ea_9d73_0242ac1c0002row9_col10 {\n",
              "            background-color:  #ec8165;\n",
              "            color:  #000000;\n",
              "        }    #T_ea52c3dc_d330_11ea_9d73_0242ac1c0002row9_col11 {\n",
              "            background-color:  #aac7fd;\n",
              "            color:  #000000;\n",
              "        }    #T_ea52c3dc_d330_11ea_9d73_0242ac1c0002row9_col12 {\n",
              "            background-color:  #f1ccb8;\n",
              "            color:  #000000;\n",
              "        }    #T_ea52c3dc_d330_11ea_9d73_0242ac1c0002row9_col13 {\n",
              "            background-color:  #7a9df8;\n",
              "            color:  #000000;\n",
              "        }    #T_ea52c3dc_d330_11ea_9d73_0242ac1c0002row9_col14 {\n",
              "            background-color:  #8badfd;\n",
              "            color:  #000000;\n",
              "        }    #T_ea52c3dc_d330_11ea_9d73_0242ac1c0002row9_col15 {\n",
              "            background-color:  #85a8fc;\n",
              "            color:  #000000;\n",
              "        }    #T_ea52c3dc_d330_11ea_9d73_0242ac1c0002row9_col16 {\n",
              "            background-color:  #d9dce1;\n",
              "            color:  #000000;\n",
              "        }    #T_ea52c3dc_d330_11ea_9d73_0242ac1c0002row9_col17 {\n",
              "            background-color:  #f18f71;\n",
              "            color:  #000000;\n",
              "        }    #T_ea52c3dc_d330_11ea_9d73_0242ac1c0002row9_col18 {\n",
              "            background-color:  #86a9fc;\n",
              "            color:  #000000;\n",
              "        }    #T_ea52c3dc_d330_11ea_9d73_0242ac1c0002row10_col0 {\n",
              "            background-color:  #5d7ce6;\n",
              "            color:  #000000;\n",
              "        }    #T_ea52c3dc_d330_11ea_9d73_0242ac1c0002row10_col1 {\n",
              "            background-color:  #e8d6cc;\n",
              "            color:  #000000;\n",
              "        }    #T_ea52c3dc_d330_11ea_9d73_0242ac1c0002row10_col2 {\n",
              "            background-color:  #f59d7e;\n",
              "            color:  #000000;\n",
              "        }    #T_ea52c3dc_d330_11ea_9d73_0242ac1c0002row10_col3 {\n",
              "            background-color:  #d75445;\n",
              "            color:  #000000;\n",
              "        }    #T_ea52c3dc_d330_11ea_9d73_0242ac1c0002row10_col4 {\n",
              "            background-color:  #97b8ff;\n",
              "            color:  #000000;\n",
              "        }    #T_ea52c3dc_d330_11ea_9d73_0242ac1c0002row10_col5 {\n",
              "            background-color:  #f4c5ad;\n",
              "            color:  #000000;\n",
              "        }    #T_ea52c3dc_d330_11ea_9d73_0242ac1c0002row10_col6 {\n",
              "            background-color:  #5d7ce6;\n",
              "            color:  #000000;\n",
              "        }    #T_ea52c3dc_d330_11ea_9d73_0242ac1c0002row10_col7 {\n",
              "            background-color:  #85a8fc;\n",
              "            color:  #000000;\n",
              "        }    #T_ea52c3dc_d330_11ea_9d73_0242ac1c0002row10_col8 {\n",
              "            background-color:  #6a8bef;\n",
              "            color:  #000000;\n",
              "        }    #T_ea52c3dc_d330_11ea_9d73_0242ac1c0002row10_col9 {\n",
              "            background-color:  #ee8669;\n",
              "            color:  #000000;\n",
              "        }    #T_ea52c3dc_d330_11ea_9d73_0242ac1c0002row10_col10 {\n",
              "            background-color:  #b40426;\n",
              "            color:  #f1f1f1;\n",
              "        }    #T_ea52c3dc_d330_11ea_9d73_0242ac1c0002row10_col11 {\n",
              "            background-color:  #6b8df0;\n",
              "            color:  #000000;\n",
              "        }    #T_ea52c3dc_d330_11ea_9d73_0242ac1c0002row10_col12 {\n",
              "            background-color:  #eed0c0;\n",
              "            color:  #000000;\n",
              "        }    #T_ea52c3dc_d330_11ea_9d73_0242ac1c0002row10_col13 {\n",
              "            background-color:  #7b9ff9;\n",
              "            color:  #000000;\n",
              "        }    #T_ea52c3dc_d330_11ea_9d73_0242ac1c0002row10_col14 {\n",
              "            background-color:  #799cf8;\n",
              "            color:  #000000;\n",
              "        }    #T_ea52c3dc_d330_11ea_9d73_0242ac1c0002row10_col15 {\n",
              "            background-color:  #6282ea;\n",
              "            color:  #000000;\n",
              "        }    #T_ea52c3dc_d330_11ea_9d73_0242ac1c0002row10_col16 {\n",
              "            background-color:  #efcfbf;\n",
              "            color:  #000000;\n",
              "        }    #T_ea52c3dc_d330_11ea_9d73_0242ac1c0002row10_col17 {\n",
              "            background-color:  #ef886b;\n",
              "            color:  #000000;\n",
              "        }    #T_ea52c3dc_d330_11ea_9d73_0242ac1c0002row10_col18 {\n",
              "            background-color:  #9ebeff;\n",
              "            color:  #000000;\n",
              "        }    #T_ea52c3dc_d330_11ea_9d73_0242ac1c0002row11_col0 {\n",
              "            background-color:  #5f7fe8;\n",
              "            color:  #000000;\n",
              "        }    #T_ea52c3dc_d330_11ea_9d73_0242ac1c0002row11_col1 {\n",
              "            background-color:  #bfd3f6;\n",
              "            color:  #000000;\n",
              "        }    #T_ea52c3dc_d330_11ea_9d73_0242ac1c0002row11_col2 {\n",
              "            background-color:  #c1d4f4;\n",
              "            color:  #000000;\n",
              "        }    #T_ea52c3dc_d330_11ea_9d73_0242ac1c0002row11_col3 {\n",
              "            background-color:  #e4d9d2;\n",
              "            color:  #000000;\n",
              "        }    #T_ea52c3dc_d330_11ea_9d73_0242ac1c0002row11_col4 {\n",
              "            background-color:  #6384eb;\n",
              "            color:  #000000;\n",
              "        }    #T_ea52c3dc_d330_11ea_9d73_0242ac1c0002row11_col5 {\n",
              "            background-color:  #3e51c5;\n",
              "            color:  #f1f1f1;\n",
              "        }    #T_ea52c3dc_d330_11ea_9d73_0242ac1c0002row11_col6 {\n",
              "            background-color:  #5f7fe8;\n",
              "            color:  #000000;\n",
              "        }    #T_ea52c3dc_d330_11ea_9d73_0242ac1c0002row11_col7 {\n",
              "            background-color:  #a9c6fd;\n",
              "            color:  #000000;\n",
              "        }    #T_ea52c3dc_d330_11ea_9d73_0242ac1c0002row11_col8 {\n",
              "            background-color:  #bed2f6;\n",
              "            color:  #000000;\n",
              "        }    #T_ea52c3dc_d330_11ea_9d73_0242ac1c0002row11_col9 {\n",
              "            background-color:  #9ebeff;\n",
              "            color:  #000000;\n",
              "        }    #T_ea52c3dc_d330_11ea_9d73_0242ac1c0002row11_col10 {\n",
              "            background-color:  #6f92f3;\n",
              "            color:  #000000;\n",
              "        }    #T_ea52c3dc_d330_11ea_9d73_0242ac1c0002row11_col11 {\n",
              "            background-color:  #b40426;\n",
              "            color:  #f1f1f1;\n",
              "        }    #T_ea52c3dc_d330_11ea_9d73_0242ac1c0002row11_col12 {\n",
              "            background-color:  #6f92f3;\n",
              "            color:  #000000;\n",
              "        }    #T_ea52c3dc_d330_11ea_9d73_0242ac1c0002row11_col13 {\n",
              "            background-color:  #89acfd;\n",
              "            color:  #000000;\n",
              "        }    #T_ea52c3dc_d330_11ea_9d73_0242ac1c0002row11_col14 {\n",
              "            background-color:  #c3d5f4;\n",
              "            color:  #000000;\n",
              "        }    #T_ea52c3dc_d330_11ea_9d73_0242ac1c0002row11_col15 {\n",
              "            background-color:  #84a7fc;\n",
              "            color:  #000000;\n",
              "        }    #T_ea52c3dc_d330_11ea_9d73_0242ac1c0002row11_col16 {\n",
              "            background-color:  #93b5fe;\n",
              "            color:  #000000;\n",
              "        }    #T_ea52c3dc_d330_11ea_9d73_0242ac1c0002row11_col17 {\n",
              "            background-color:  #b7cff9;\n",
              "            color:  #000000;\n",
              "        }    #T_ea52c3dc_d330_11ea_9d73_0242ac1c0002row11_col18 {\n",
              "            background-color:  #6788ee;\n",
              "            color:  #000000;\n",
              "        }    #T_ea52c3dc_d330_11ea_9d73_0242ac1c0002row12_col0 {\n",
              "            background-color:  #6788ee;\n",
              "            color:  #000000;\n",
              "        }    #T_ea52c3dc_d330_11ea_9d73_0242ac1c0002row12_col1 {\n",
              "            background-color:  #93b5fe;\n",
              "            color:  #000000;\n",
              "        }    #T_ea52c3dc_d330_11ea_9d73_0242ac1c0002row12_col2 {\n",
              "            background-color:  #f0cdbb;\n",
              "            color:  #000000;\n",
              "        }    #T_ea52c3dc_d330_11ea_9d73_0242ac1c0002row12_col3 {\n",
              "            background-color:  #cad8ef;\n",
              "            color:  #000000;\n",
              "        }    #T_ea52c3dc_d330_11ea_9d73_0242ac1c0002row12_col4 {\n",
              "            background-color:  #6e90f2;\n",
              "            color:  #000000;\n",
              "        }    #T_ea52c3dc_d330_11ea_9d73_0242ac1c0002row12_col5 {\n",
              "            background-color:  #f1ccb8;\n",
              "            color:  #000000;\n",
              "        }    #T_ea52c3dc_d330_11ea_9d73_0242ac1c0002row12_col6 {\n",
              "            background-color:  #3e51c5;\n",
              "            color:  #f1f1f1;\n",
              "        }    #T_ea52c3dc_d330_11ea_9d73_0242ac1c0002row12_col7 {\n",
              "            background-color:  #4055c8;\n",
              "            color:  #f1f1f1;\n",
              "        }    #T_ea52c3dc_d330_11ea_9d73_0242ac1c0002row12_col8 {\n",
              "            background-color:  #3b4cc0;\n",
              "            color:  #f1f1f1;\n",
              "        }    #T_ea52c3dc_d330_11ea_9d73_0242ac1c0002row12_col9 {\n",
              "            background-color:  #e5d8d1;\n",
              "            color:  #000000;\n",
              "        }    #T_ea52c3dc_d330_11ea_9d73_0242ac1c0002row12_col10 {\n",
              "            background-color:  #e8d6cc;\n",
              "            color:  #000000;\n",
              "        }    #T_ea52c3dc_d330_11ea_9d73_0242ac1c0002row12_col11 {\n",
              "            background-color:  #5673e0;\n",
              "            color:  #000000;\n",
              "        }    #T_ea52c3dc_d330_11ea_9d73_0242ac1c0002row12_col12 {\n",
              "            background-color:  #b40426;\n",
              "            color:  #f1f1f1;\n",
              "        }    #T_ea52c3dc_d330_11ea_9d73_0242ac1c0002row12_col13 {\n",
              "            background-color:  #3b4cc0;\n",
              "            color:  #f1f1f1;\n",
              "        }    #T_ea52c3dc_d330_11ea_9d73_0242ac1c0002row12_col14 {\n",
              "            background-color:  #6687ed;\n",
              "            color:  #000000;\n",
              "        }    #T_ea52c3dc_d330_11ea_9d73_0242ac1c0002row12_col15 {\n",
              "            background-color:  #3b4cc0;\n",
              "            color:  #f1f1f1;\n",
              "        }    #T_ea52c3dc_d330_11ea_9d73_0242ac1c0002row12_col16 {\n",
              "            background-color:  #f4c5ad;\n",
              "            color:  #000000;\n",
              "        }    #T_ea52c3dc_d330_11ea_9d73_0242ac1c0002row12_col17 {\n",
              "            background-color:  #d6dce4;\n",
              "            color:  #000000;\n",
              "        }    #T_ea52c3dc_d330_11ea_9d73_0242ac1c0002row12_col18 {\n",
              "            background-color:  #779af7;\n",
              "            color:  #000000;\n",
              "        }    #T_ea52c3dc_d330_11ea_9d73_0242ac1c0002row13_col0 {\n",
              "            background-color:  #5b7ae5;\n",
              "            color:  #000000;\n",
              "        }    #T_ea52c3dc_d330_11ea_9d73_0242ac1c0002row13_col1 {\n",
              "            background-color:  #6a8bef;\n",
              "            color:  #000000;\n",
              "        }    #T_ea52c3dc_d330_11ea_9d73_0242ac1c0002row13_col2 {\n",
              "            background-color:  #80a3fa;\n",
              "            color:  #000000;\n",
              "        }    #T_ea52c3dc_d330_11ea_9d73_0242ac1c0002row13_col3 {\n",
              "            background-color:  #80a3fa;\n",
              "            color:  #000000;\n",
              "        }    #T_ea52c3dc_d330_11ea_9d73_0242ac1c0002row13_col4 {\n",
              "            background-color:  #6180e9;\n",
              "            color:  #000000;\n",
              "        }    #T_ea52c3dc_d330_11ea_9d73_0242ac1c0002row13_col5 {\n",
              "            background-color:  #80a3fa;\n",
              "            color:  #000000;\n",
              "        }    #T_ea52c3dc_d330_11ea_9d73_0242ac1c0002row13_col6 {\n",
              "            background-color:  #6384eb;\n",
              "            color:  #000000;\n",
              "        }    #T_ea52c3dc_d330_11ea_9d73_0242ac1c0002row13_col7 {\n",
              "            background-color:  #7093f3;\n",
              "            color:  #000000;\n",
              "        }    #T_ea52c3dc_d330_11ea_9d73_0242ac1c0002row13_col8 {\n",
              "            background-color:  #82a6fb;\n",
              "            color:  #000000;\n",
              "        }    #T_ea52c3dc_d330_11ea_9d73_0242ac1c0002row13_col9 {\n",
              "            background-color:  #7093f3;\n",
              "            color:  #000000;\n",
              "        }    #T_ea52c3dc_d330_11ea_9d73_0242ac1c0002row13_col10 {\n",
              "            background-color:  #84a7fc;\n",
              "            color:  #000000;\n",
              "        }    #T_ea52c3dc_d330_11ea_9d73_0242ac1c0002row13_col11 {\n",
              "            background-color:  #8fb1fe;\n",
              "            color:  #000000;\n",
              "        }    #T_ea52c3dc_d330_11ea_9d73_0242ac1c0002row13_col12 {\n",
              "            background-color:  #5977e3;\n",
              "            color:  #000000;\n",
              "        }    #T_ea52c3dc_d330_11ea_9d73_0242ac1c0002row13_col13 {\n",
              "            background-color:  #b40426;\n",
              "            color:  #f1f1f1;\n",
              "        }    #T_ea52c3dc_d330_11ea_9d73_0242ac1c0002row13_col14 {\n",
              "            background-color:  #c0d4f5;\n",
              "            color:  #000000;\n",
              "        }    #T_ea52c3dc_d330_11ea_9d73_0242ac1c0002row13_col15 {\n",
              "            background-color:  #6b8df0;\n",
              "            color:  #000000;\n",
              "        }    #T_ea52c3dc_d330_11ea_9d73_0242ac1c0002row13_col16 {\n",
              "            background-color:  #a5c3fe;\n",
              "            color:  #000000;\n",
              "        }    #T_ea52c3dc_d330_11ea_9d73_0242ac1c0002row13_col17 {\n",
              "            background-color:  #81a4fb;\n",
              "            color:  #000000;\n",
              "        }    #T_ea52c3dc_d330_11ea_9d73_0242ac1c0002row13_col18 {\n",
              "            background-color:  #6485ec;\n",
              "            color:  #000000;\n",
              "        }    #T_ea52c3dc_d330_11ea_9d73_0242ac1c0002row14_col0 {\n",
              "            background-color:  #5e7de7;\n",
              "            color:  #000000;\n",
              "        }    #T_ea52c3dc_d330_11ea_9d73_0242ac1c0002row14_col1 {\n",
              "            background-color:  #3b4cc0;\n",
              "            color:  #f1f1f1;\n",
              "        }    #T_ea52c3dc_d330_11ea_9d73_0242ac1c0002row14_col2 {\n",
              "            background-color:  #3b4cc0;\n",
              "            color:  #f1f1f1;\n",
              "        }    #T_ea52c3dc_d330_11ea_9d73_0242ac1c0002row14_col3 {\n",
              "            background-color:  #3b4cc0;\n",
              "            color:  #f1f1f1;\n",
              "        }    #T_ea52c3dc_d330_11ea_9d73_0242ac1c0002row14_col4 {\n",
              "            background-color:  #3b4cc0;\n",
              "            color:  #f1f1f1;\n",
              "        }    #T_ea52c3dc_d330_11ea_9d73_0242ac1c0002row14_col5 {\n",
              "            background-color:  #6e90f2;\n",
              "            color:  #000000;\n",
              "        }    #T_ea52c3dc_d330_11ea_9d73_0242ac1c0002row14_col6 {\n",
              "            background-color:  #4f69d9;\n",
              "            color:  #000000;\n",
              "        }    #T_ea52c3dc_d330_11ea_9d73_0242ac1c0002row14_col7 {\n",
              "            background-color:  #6a8bef;\n",
              "            color:  #000000;\n",
              "        }    #T_ea52c3dc_d330_11ea_9d73_0242ac1c0002row14_col8 {\n",
              "            background-color:  #93b5fe;\n",
              "            color:  #000000;\n",
              "        }    #T_ea52c3dc_d330_11ea_9d73_0242ac1c0002row14_col9 {\n",
              "            background-color:  #3b4cc0;\n",
              "            color:  #f1f1f1;\n",
              "        }    #T_ea52c3dc_d330_11ea_9d73_0242ac1c0002row14_col10 {\n",
              "            background-color:  #3b4cc0;\n",
              "            color:  #f1f1f1;\n",
              "        }    #T_ea52c3dc_d330_11ea_9d73_0242ac1c0002row14_col11 {\n",
              "            background-color:  #8fb1fe;\n",
              "            color:  #000000;\n",
              "        }    #T_ea52c3dc_d330_11ea_9d73_0242ac1c0002row14_col12 {\n",
              "            background-color:  #3d50c3;\n",
              "            color:  #f1f1f1;\n",
              "        }    #T_ea52c3dc_d330_11ea_9d73_0242ac1c0002row14_col13 {\n",
              "            background-color:  #88abfd;\n",
              "            color:  #000000;\n",
              "        }    #T_ea52c3dc_d330_11ea_9d73_0242ac1c0002row14_col14 {\n",
              "            background-color:  #b40426;\n",
              "            color:  #f1f1f1;\n",
              "        }    #T_ea52c3dc_d330_11ea_9d73_0242ac1c0002row14_col15 {\n",
              "            background-color:  #b3cdfb;\n",
              "            color:  #000000;\n",
              "        }    #T_ea52c3dc_d330_11ea_9d73_0242ac1c0002row14_col16 {\n",
              "            background-color:  #3b4cc0;\n",
              "            color:  #f1f1f1;\n",
              "        }    #T_ea52c3dc_d330_11ea_9d73_0242ac1c0002row14_col17 {\n",
              "            background-color:  #3b4cc0;\n",
              "            color:  #f1f1f1;\n",
              "        }    #T_ea52c3dc_d330_11ea_9d73_0242ac1c0002row14_col18 {\n",
              "            background-color:  #3b4cc0;\n",
              "            color:  #f1f1f1;\n",
              "        }    #T_ea52c3dc_d330_11ea_9d73_0242ac1c0002row15_col0 {\n",
              "            background-color:  #5f7fe8;\n",
              "            color:  #000000;\n",
              "        }    #T_ea52c3dc_d330_11ea_9d73_0242ac1c0002row15_col1 {\n",
              "            background-color:  #6180e9;\n",
              "            color:  #000000;\n",
              "        }    #T_ea52c3dc_d330_11ea_9d73_0242ac1c0002row15_col2 {\n",
              "            background-color:  #779af7;\n",
              "            color:  #000000;\n",
              "        }    #T_ea52c3dc_d330_11ea_9d73_0242ac1c0002row15_col3 {\n",
              "            background-color:  #7ea1fa;\n",
              "            color:  #000000;\n",
              "        }    #T_ea52c3dc_d330_11ea_9d73_0242ac1c0002row15_col4 {\n",
              "            background-color:  #465ecf;\n",
              "            color:  #f1f1f1;\n",
              "        }    #T_ea52c3dc_d330_11ea_9d73_0242ac1c0002row15_col5 {\n",
              "            background-color:  #8caffe;\n",
              "            color:  #000000;\n",
              "        }    #T_ea52c3dc_d330_11ea_9d73_0242ac1c0002row15_col6 {\n",
              "            background-color:  #4257c9;\n",
              "            color:  #f1f1f1;\n",
              "        }    #T_ea52c3dc_d330_11ea_9d73_0242ac1c0002row15_col7 {\n",
              "            background-color:  #536edd;\n",
              "            color:  #000000;\n",
              "        }    #T_ea52c3dc_d330_11ea_9d73_0242ac1c0002row15_col8 {\n",
              "            background-color:  #8fb1fe;\n",
              "            color:  #000000;\n",
              "        }    #T_ea52c3dc_d330_11ea_9d73_0242ac1c0002row15_col9 {\n",
              "            background-color:  #8db0fe;\n",
              "            color:  #000000;\n",
              "        }    #T_ea52c3dc_d330_11ea_9d73_0242ac1c0002row15_col10 {\n",
              "            background-color:  #7da0f9;\n",
              "            color:  #000000;\n",
              "        }    #T_ea52c3dc_d330_11ea_9d73_0242ac1c0002row15_col11 {\n",
              "            background-color:  #9abbff;\n",
              "            color:  #000000;\n",
              "        }    #T_ea52c3dc_d330_11ea_9d73_0242ac1c0002row15_col12 {\n",
              "            background-color:  #6c8ff1;\n",
              "            color:  #000000;\n",
              "        }    #T_ea52c3dc_d330_11ea_9d73_0242ac1c0002row15_col13 {\n",
              "            background-color:  #7ea1fa;\n",
              "            color:  #000000;\n",
              "        }    #T_ea52c3dc_d330_11ea_9d73_0242ac1c0002row15_col14 {\n",
              "            background-color:  #e5d8d1;\n",
              "            color:  #000000;\n",
              "        }    #T_ea52c3dc_d330_11ea_9d73_0242ac1c0002row15_col15 {\n",
              "            background-color:  #b40426;\n",
              "            color:  #f1f1f1;\n",
              "        }    #T_ea52c3dc_d330_11ea_9d73_0242ac1c0002row15_col16 {\n",
              "            background-color:  #96b7ff;\n",
              "            color:  #000000;\n",
              "        }    #T_ea52c3dc_d330_11ea_9d73_0242ac1c0002row15_col17 {\n",
              "            background-color:  #8fb1fe;\n",
              "            color:  #000000;\n",
              "        }    #T_ea52c3dc_d330_11ea_9d73_0242ac1c0002row15_col18 {\n",
              "            background-color:  #4a63d3;\n",
              "            color:  #f1f1f1;\n",
              "        }    #T_ea52c3dc_d330_11ea_9d73_0242ac1c0002row16_col0 {\n",
              "            background-color:  #6687ed;\n",
              "            color:  #000000;\n",
              "        }    #T_ea52c3dc_d330_11ea_9d73_0242ac1c0002row16_col1 {\n",
              "            background-color:  #8badfd;\n",
              "            color:  #000000;\n",
              "        }    #T_ea52c3dc_d330_11ea_9d73_0242ac1c0002row16_col2 {\n",
              "            background-color:  #b1cbfc;\n",
              "            color:  #000000;\n",
              "        }    #T_ea52c3dc_d330_11ea_9d73_0242ac1c0002row16_col3 {\n",
              "            background-color:  #b5cdfa;\n",
              "            color:  #000000;\n",
              "        }    #T_ea52c3dc_d330_11ea_9d73_0242ac1c0002row16_col4 {\n",
              "            background-color:  #a5c3fe;\n",
              "            color:  #000000;\n",
              "        }    #T_ea52c3dc_d330_11ea_9d73_0242ac1c0002row16_col5 {\n",
              "            background-color:  #a1c0ff;\n",
              "            color:  #000000;\n",
              "        }    #T_ea52c3dc_d330_11ea_9d73_0242ac1c0002row16_col6 {\n",
              "            background-color:  #3b4cc0;\n",
              "            color:  #f1f1f1;\n",
              "        }    #T_ea52c3dc_d330_11ea_9d73_0242ac1c0002row16_col7 {\n",
              "            background-color:  #3b4cc0;\n",
              "            color:  #f1f1f1;\n",
              "        }    #T_ea52c3dc_d330_11ea_9d73_0242ac1c0002row16_col8 {\n",
              "            background-color:  #7699f6;\n",
              "            color:  #000000;\n",
              "        }    #T_ea52c3dc_d330_11ea_9d73_0242ac1c0002row16_col9 {\n",
              "            background-color:  #a6c4fe;\n",
              "            color:  #000000;\n",
              "        }    #T_ea52c3dc_d330_11ea_9d73_0242ac1c0002row16_col10 {\n",
              "            background-color:  #d7dce3;\n",
              "            color:  #000000;\n",
              "        }    #T_ea52c3dc_d330_11ea_9d73_0242ac1c0002row16_col11 {\n",
              "            background-color:  #536edd;\n",
              "            color:  #000000;\n",
              "        }    #T_ea52c3dc_d330_11ea_9d73_0242ac1c0002row16_col12 {\n",
              "            background-color:  #ecd3c5;\n",
              "            color:  #000000;\n",
              "        }    #T_ea52c3dc_d330_11ea_9d73_0242ac1c0002row16_col13 {\n",
              "            background-color:  #6282ea;\n",
              "            color:  #000000;\n",
              "        }    #T_ea52c3dc_d330_11ea_9d73_0242ac1c0002row16_col14 {\n",
              "            background-color:  #3b4cc0;\n",
              "            color:  #f1f1f1;\n",
              "        }    #T_ea52c3dc_d330_11ea_9d73_0242ac1c0002row16_col15 {\n",
              "            background-color:  #3d50c3;\n",
              "            color:  #f1f1f1;\n",
              "        }    #T_ea52c3dc_d330_11ea_9d73_0242ac1c0002row16_col16 {\n",
              "            background-color:  #b40426;\n",
              "            color:  #f1f1f1;\n",
              "        }    #T_ea52c3dc_d330_11ea_9d73_0242ac1c0002row16_col17 {\n",
              "            background-color:  #d7dce3;\n",
              "            color:  #000000;\n",
              "        }    #T_ea52c3dc_d330_11ea_9d73_0242ac1c0002row16_col18 {\n",
              "            background-color:  #afcafc;\n",
              "            color:  #000000;\n",
              "        }    #T_ea52c3dc_d330_11ea_9d73_0242ac1c0002row17_col0 {\n",
              "            background-color:  #5f7fe8;\n",
              "            color:  #000000;\n",
              "        }    #T_ea52c3dc_d330_11ea_9d73_0242ac1c0002row17_col1 {\n",
              "            background-color:  #d5dbe5;\n",
              "            color:  #000000;\n",
              "        }    #T_ea52c3dc_d330_11ea_9d73_0242ac1c0002row17_col2 {\n",
              "            background-color:  #f6bfa6;\n",
              "            color:  #000000;\n",
              "        }    #T_ea52c3dc_d330_11ea_9d73_0242ac1c0002row17_col3 {\n",
              "            background-color:  #ee8468;\n",
              "            color:  #000000;\n",
              "        }    #T_ea52c3dc_d330_11ea_9d73_0242ac1c0002row17_col4 {\n",
              "            background-color:  #8badfd;\n",
              "            color:  #000000;\n",
              "        }    #T_ea52c3dc_d330_11ea_9d73_0242ac1c0002row17_col5 {\n",
              "            background-color:  #cad8ef;\n",
              "            color:  #000000;\n",
              "        }    #T_ea52c3dc_d330_11ea_9d73_0242ac1c0002row17_col6 {\n",
              "            background-color:  #6180e9;\n",
              "            color:  #000000;\n",
              "        }    #T_ea52c3dc_d330_11ea_9d73_0242ac1c0002row17_col7 {\n",
              "            background-color:  #aac7fd;\n",
              "            color:  #000000;\n",
              "        }    #T_ea52c3dc_d330_11ea_9d73_0242ac1c0002row17_col8 {\n",
              "            background-color:  #7a9df8;\n",
              "            color:  #000000;\n",
              "        }    #T_ea52c3dc_d330_11ea_9d73_0242ac1c0002row17_col9 {\n",
              "            background-color:  #f39577;\n",
              "            color:  #000000;\n",
              "        }    #T_ea52c3dc_d330_11ea_9d73_0242ac1c0002row17_col10 {\n",
              "            background-color:  #f08a6c;\n",
              "            color:  #000000;\n",
              "        }    #T_ea52c3dc_d330_11ea_9d73_0242ac1c0002row17_col11 {\n",
              "            background-color:  #b2ccfb;\n",
              "            color:  #000000;\n",
              "        }    #T_ea52c3dc_d330_11ea_9d73_0242ac1c0002row17_col12 {\n",
              "            background-color:  #dedcdb;\n",
              "            color:  #000000;\n",
              "        }    #T_ea52c3dc_d330_11ea_9d73_0242ac1c0002row17_col13 {\n",
              "            background-color:  #7597f6;\n",
              "            color:  #000000;\n",
              "        }    #T_ea52c3dc_d330_11ea_9d73_0242ac1c0002row17_col14 {\n",
              "            background-color:  #7597f6;\n",
              "            color:  #000000;\n",
              "        }    #T_ea52c3dc_d330_11ea_9d73_0242ac1c0002row17_col15 {\n",
              "            background-color:  #7093f3;\n",
              "            color:  #000000;\n",
              "        }    #T_ea52c3dc_d330_11ea_9d73_0242ac1c0002row17_col16 {\n",
              "            background-color:  #eed0c0;\n",
              "            color:  #000000;\n",
              "        }    #T_ea52c3dc_d330_11ea_9d73_0242ac1c0002row17_col17 {\n",
              "            background-color:  #b40426;\n",
              "            color:  #f1f1f1;\n",
              "        }    #T_ea52c3dc_d330_11ea_9d73_0242ac1c0002row17_col18 {\n",
              "            background-color:  #9abbff;\n",
              "            color:  #000000;\n",
              "        }    #T_ea52c3dc_d330_11ea_9d73_0242ac1c0002row18_col0 {\n",
              "            background-color:  #3b4cc0;\n",
              "            color:  #f1f1f1;\n",
              "        }    #T_ea52c3dc_d330_11ea_9d73_0242ac1c0002row18_col1 {\n",
              "            background-color:  #6c8ff1;\n",
              "            color:  #000000;\n",
              "        }    #T_ea52c3dc_d330_11ea_9d73_0242ac1c0002row18_col2 {\n",
              "            background-color:  #89acfd;\n",
              "            color:  #000000;\n",
              "        }    #T_ea52c3dc_d330_11ea_9d73_0242ac1c0002row18_col3 {\n",
              "            background-color:  #a5c3fe;\n",
              "            color:  #000000;\n",
              "        }    #T_ea52c3dc_d330_11ea_9d73_0242ac1c0002row18_col4 {\n",
              "            background-color:  #f4987a;\n",
              "            color:  #000000;\n",
              "        }    #T_ea52c3dc_d330_11ea_9d73_0242ac1c0002row18_col5 {\n",
              "            background-color:  #7b9ff9;\n",
              "            color:  #000000;\n",
              "        }    #T_ea52c3dc_d330_11ea_9d73_0242ac1c0002row18_col6 {\n",
              "            background-color:  #4f69d9;\n",
              "            color:  #000000;\n",
              "        }    #T_ea52c3dc_d330_11ea_9d73_0242ac1c0002row18_col7 {\n",
              "            background-color:  #6687ed;\n",
              "            color:  #000000;\n",
              "        }    #T_ea52c3dc_d330_11ea_9d73_0242ac1c0002row18_col8 {\n",
              "            background-color:  #92b4fe;\n",
              "            color:  #000000;\n",
              "        }    #T_ea52c3dc_d330_11ea_9d73_0242ac1c0002row18_col9 {\n",
              "            background-color:  #8fb1fe;\n",
              "            color:  #000000;\n",
              "        }    #T_ea52c3dc_d330_11ea_9d73_0242ac1c0002row18_col10 {\n",
              "            background-color:  #b3cdfb;\n",
              "            color:  #000000;\n",
              "        }    #T_ea52c3dc_d330_11ea_9d73_0242ac1c0002row18_col11 {\n",
              "            background-color:  #80a3fa;\n",
              "            color:  #000000;\n",
              "        }    #T_ea52c3dc_d330_11ea_9d73_0242ac1c0002row18_col12 {\n",
              "            background-color:  #a5c3fe;\n",
              "            color:  #000000;\n",
              "        }    #T_ea52c3dc_d330_11ea_9d73_0242ac1c0002row18_col13 {\n",
              "            background-color:  #779af7;\n",
              "            color:  #000000;\n",
              "        }    #T_ea52c3dc_d330_11ea_9d73_0242ac1c0002row18_col14 {\n",
              "            background-color:  #93b5fe;\n",
              "            color:  #000000;\n",
              "        }    #T_ea52c3dc_d330_11ea_9d73_0242ac1c0002row18_col15 {\n",
              "            background-color:  #4a63d3;\n",
              "            color:  #f1f1f1;\n",
              "        }    #T_ea52c3dc_d330_11ea_9d73_0242ac1c0002row18_col16 {\n",
              "            background-color:  #e2dad5;\n",
              "            color:  #000000;\n",
              "        }    #T_ea52c3dc_d330_11ea_9d73_0242ac1c0002row18_col17 {\n",
              "            background-color:  #b3cdfb;\n",
              "            color:  #000000;\n",
              "        }    #T_ea52c3dc_d330_11ea_9d73_0242ac1c0002row18_col18 {\n",
              "            background-color:  #b40426;\n",
              "            color:  #f1f1f1;\n",
              "        }</style><table id=\"T_ea52c3dc_d330_11ea_9d73_0242ac1c0002\" ><thead>    <tr>        <th class=\"blank level0\" ></th>        <th class=\"col_heading level0 col0\" >id</th>        <th class=\"col_heading level0 col1\" >bedrooms</th>        <th class=\"col_heading level0 col2\" >bathrooms</th>        <th class=\"col_heading level0 col3\" >sqft_living</th>        <th class=\"col_heading level0 col4\" >sqft_lot</th>        <th class=\"col_heading level0 col5\" >floors</th>        <th class=\"col_heading level0 col6\" >waterfront</th>        <th class=\"col_heading level0 col7\" >view</th>        <th class=\"col_heading level0 col8\" >condition</th>        <th class=\"col_heading level0 col9\" >grade</th>        <th class=\"col_heading level0 col10\" >sqft_above</th>        <th class=\"col_heading level0 col11\" >sqft_basement</th>        <th class=\"col_heading level0 col12\" >yr_built</th>        <th class=\"col_heading level0 col13\" >yr_renovated</th>        <th class=\"col_heading level0 col14\" >zipcode</th>        <th class=\"col_heading level0 col15\" >lat</th>        <th class=\"col_heading level0 col16\" >long</th>        <th class=\"col_heading level0 col17\" >sqft_living15</th>        <th class=\"col_heading level0 col18\" >sqft_lot15</th>    </tr></thead><tbody>\n",
              "                <tr>\n",
              "                        <th id=\"T_ea52c3dc_d330_11ea_9d73_0242ac1c0002level0_row0\" class=\"row_heading level0 row0\" >id</th>\n",
              "                        <td id=\"T_ea52c3dc_d330_11ea_9d73_0242ac1c0002row0_col0\" class=\"data row0 col0\" >1.000000</td>\n",
              "                        <td id=\"T_ea52c3dc_d330_11ea_9d73_0242ac1c0002row0_col1\" class=\"data row0 col1\" >0.001286</td>\n",
              "                        <td id=\"T_ea52c3dc_d330_11ea_9d73_0242ac1c0002row0_col2\" class=\"data row0 col2\" >0.005160</td>\n",
              "                        <td id=\"T_ea52c3dc_d330_11ea_9d73_0242ac1c0002row0_col3\" class=\"data row0 col3\" >-0.012258</td>\n",
              "                        <td id=\"T_ea52c3dc_d330_11ea_9d73_0242ac1c0002row0_col4\" class=\"data row0 col4\" >-0.132109</td>\n",
              "                        <td id=\"T_ea52c3dc_d330_11ea_9d73_0242ac1c0002row0_col5\" class=\"data row0 col5\" >0.018525</td>\n",
              "                        <td id=\"T_ea52c3dc_d330_11ea_9d73_0242ac1c0002row0_col6\" class=\"data row0 col6\" >-0.002721</td>\n",
              "                        <td id=\"T_ea52c3dc_d330_11ea_9d73_0242ac1c0002row0_col7\" class=\"data row0 col7\" >0.011592</td>\n",
              "                        <td id=\"T_ea52c3dc_d330_11ea_9d73_0242ac1c0002row0_col8\" class=\"data row0 col8\" >-0.023783</td>\n",
              "                        <td id=\"T_ea52c3dc_d330_11ea_9d73_0242ac1c0002row0_col9\" class=\"data row0 col9\" >0.008130</td>\n",
              "                        <td id=\"T_ea52c3dc_d330_11ea_9d73_0242ac1c0002row0_col10\" class=\"data row0 col10\" >-0.010842</td>\n",
              "                        <td id=\"T_ea52c3dc_d330_11ea_9d73_0242ac1c0002row0_col11\" class=\"data row0 col11\" >-0.005151</td>\n",
              "                        <td id=\"T_ea52c3dc_d330_11ea_9d73_0242ac1c0002row0_col12\" class=\"data row0 col12\" >0.021380</td>\n",
              "                        <td id=\"T_ea52c3dc_d330_11ea_9d73_0242ac1c0002row0_col13\" class=\"data row0 col13\" >-0.016907</td>\n",
              "                        <td id=\"T_ea52c3dc_d330_11ea_9d73_0242ac1c0002row0_col14\" class=\"data row0 col14\" >-0.008224</td>\n",
              "                        <td id=\"T_ea52c3dc_d330_11ea_9d73_0242ac1c0002row0_col15\" class=\"data row0 col15\" >-0.001891</td>\n",
              "                        <td id=\"T_ea52c3dc_d330_11ea_9d73_0242ac1c0002row0_col16\" class=\"data row0 col16\" >0.020799</td>\n",
              "                        <td id=\"T_ea52c3dc_d330_11ea_9d73_0242ac1c0002row0_col17\" class=\"data row0 col17\" >-0.002901</td>\n",
              "                        <td id=\"T_ea52c3dc_d330_11ea_9d73_0242ac1c0002row0_col18\" class=\"data row0 col18\" >-0.138798</td>\n",
              "            </tr>\n",
              "            <tr>\n",
              "                        <th id=\"T_ea52c3dc_d330_11ea_9d73_0242ac1c0002level0_row1\" class=\"row_heading level0 row1\" >bedrooms</th>\n",
              "                        <td id=\"T_ea52c3dc_d330_11ea_9d73_0242ac1c0002row1_col0\" class=\"data row1 col0\" >0.001286</td>\n",
              "                        <td id=\"T_ea52c3dc_d330_11ea_9d73_0242ac1c0002row1_col1\" class=\"data row1 col1\" >1.000000</td>\n",
              "                        <td id=\"T_ea52c3dc_d330_11ea_9d73_0242ac1c0002row1_col2\" class=\"data row1 col2\" >0.515884</td>\n",
              "                        <td id=\"T_ea52c3dc_d330_11ea_9d73_0242ac1c0002row1_col3\" class=\"data row1 col3\" >0.576671</td>\n",
              "                        <td id=\"T_ea52c3dc_d330_11ea_9d73_0242ac1c0002row1_col4\" class=\"data row1 col4\" >0.031703</td>\n",
              "                        <td id=\"T_ea52c3dc_d330_11ea_9d73_0242ac1c0002row1_col5\" class=\"data row1 col5\" >0.175429</td>\n",
              "                        <td id=\"T_ea52c3dc_d330_11ea_9d73_0242ac1c0002row1_col6\" class=\"data row1 col6\" >-0.006582</td>\n",
              "                        <td id=\"T_ea52c3dc_d330_11ea_9d73_0242ac1c0002row1_col7\" class=\"data row1 col7\" >0.079532</td>\n",
              "                        <td id=\"T_ea52c3dc_d330_11ea_9d73_0242ac1c0002row1_col8\" class=\"data row1 col8\" >0.028472</td>\n",
              "                        <td id=\"T_ea52c3dc_d330_11ea_9d73_0242ac1c0002row1_col9\" class=\"data row1 col9\" >0.356967</td>\n",
              "                        <td id=\"T_ea52c3dc_d330_11ea_9d73_0242ac1c0002row1_col10\" class=\"data row1 col10\" >0.477600</td>\n",
              "                        <td id=\"T_ea52c3dc_d330_11ea_9d73_0242ac1c0002row1_col11\" class=\"data row1 col11\" >0.303093</td>\n",
              "                        <td id=\"T_ea52c3dc_d330_11ea_9d73_0242ac1c0002row1_col12\" class=\"data row1 col12\" >0.154178</td>\n",
              "                        <td id=\"T_ea52c3dc_d330_11ea_9d73_0242ac1c0002row1_col13\" class=\"data row1 col13\" >0.018841</td>\n",
              "                        <td id=\"T_ea52c3dc_d330_11ea_9d73_0242ac1c0002row1_col14\" class=\"data row1 col14\" >-0.152668</td>\n",
              "                        <td id=\"T_ea52c3dc_d330_11ea_9d73_0242ac1c0002row1_col15\" class=\"data row1 col15\" >-0.008931</td>\n",
              "                        <td id=\"T_ea52c3dc_d330_11ea_9d73_0242ac1c0002row1_col16\" class=\"data row1 col16\" >0.129473</td>\n",
              "                        <td id=\"T_ea52c3dc_d330_11ea_9d73_0242ac1c0002row1_col17\" class=\"data row1 col17\" >0.391638</td>\n",
              "                        <td id=\"T_ea52c3dc_d330_11ea_9d73_0242ac1c0002row1_col18\" class=\"data row1 col18\" >0.029244</td>\n",
              "            </tr>\n",
              "            <tr>\n",
              "                        <th id=\"T_ea52c3dc_d330_11ea_9d73_0242ac1c0002level0_row2\" class=\"row_heading level0 row2\" >bathrooms</th>\n",
              "                        <td id=\"T_ea52c3dc_d330_11ea_9d73_0242ac1c0002row2_col0\" class=\"data row2 col0\" >0.005160</td>\n",
              "                        <td id=\"T_ea52c3dc_d330_11ea_9d73_0242ac1c0002row2_col1\" class=\"data row2 col1\" >0.515884</td>\n",
              "                        <td id=\"T_ea52c3dc_d330_11ea_9d73_0242ac1c0002row2_col2\" class=\"data row2 col2\" >1.000000</td>\n",
              "                        <td id=\"T_ea52c3dc_d330_11ea_9d73_0242ac1c0002row2_col3\" class=\"data row2 col3\" >0.754665</td>\n",
              "                        <td id=\"T_ea52c3dc_d330_11ea_9d73_0242ac1c0002row2_col4\" class=\"data row2 col4\" >0.087740</td>\n",
              "                        <td id=\"T_ea52c3dc_d330_11ea_9d73_0242ac1c0002row2_col5\" class=\"data row2 col5\" >0.500653</td>\n",
              "                        <td id=\"T_ea52c3dc_d330_11ea_9d73_0242ac1c0002row2_col6\" class=\"data row2 col6\" >0.063744</td>\n",
              "                        <td id=\"T_ea52c3dc_d330_11ea_9d73_0242ac1c0002row2_col7\" class=\"data row2 col7\" >0.187737</td>\n",
              "                        <td id=\"T_ea52c3dc_d330_11ea_9d73_0242ac1c0002row2_col8\" class=\"data row2 col8\" >-0.124982</td>\n",
              "                        <td id=\"T_ea52c3dc_d330_11ea_9d73_0242ac1c0002row2_col9\" class=\"data row2 col9\" >0.664983</td>\n",
              "                        <td id=\"T_ea52c3dc_d330_11ea_9d73_0242ac1c0002row2_col10\" class=\"data row2 col10\" >0.685342</td>\n",
              "                        <td id=\"T_ea52c3dc_d330_11ea_9d73_0242ac1c0002row2_col11\" class=\"data row2 col11\" >0.283770</td>\n",
              "                        <td id=\"T_ea52c3dc_d330_11ea_9d73_0242ac1c0002row2_col12\" class=\"data row2 col12\" >0.506019</td>\n",
              "                        <td id=\"T_ea52c3dc_d330_11ea_9d73_0242ac1c0002row2_col13\" class=\"data row2 col13\" >0.050739</td>\n",
              "                        <td id=\"T_ea52c3dc_d330_11ea_9d73_0242ac1c0002row2_col14\" class=\"data row2 col14\" >-0.203866</td>\n",
              "                        <td id=\"T_ea52c3dc_d330_11ea_9d73_0242ac1c0002row2_col15\" class=\"data row2 col15\" >0.024573</td>\n",
              "                        <td id=\"T_ea52c3dc_d330_11ea_9d73_0242ac1c0002row2_col16\" class=\"data row2 col16\" >0.223042</td>\n",
              "                        <td id=\"T_ea52c3dc_d330_11ea_9d73_0242ac1c0002row2_col17\" class=\"data row2 col17\" >0.568634</td>\n",
              "                        <td id=\"T_ea52c3dc_d330_11ea_9d73_0242ac1c0002row2_col18\" class=\"data row2 col18\" >0.087175</td>\n",
              "            </tr>\n",
              "            <tr>\n",
              "                        <th id=\"T_ea52c3dc_d330_11ea_9d73_0242ac1c0002level0_row3\" class=\"row_heading level0 row3\" >sqft_living</th>\n",
              "                        <td id=\"T_ea52c3dc_d330_11ea_9d73_0242ac1c0002row3_col0\" class=\"data row3 col0\" >-0.012258</td>\n",
              "                        <td id=\"T_ea52c3dc_d330_11ea_9d73_0242ac1c0002row3_col1\" class=\"data row3 col1\" >0.576671</td>\n",
              "                        <td id=\"T_ea52c3dc_d330_11ea_9d73_0242ac1c0002row3_col2\" class=\"data row3 col2\" >0.754665</td>\n",
              "                        <td id=\"T_ea52c3dc_d330_11ea_9d73_0242ac1c0002row3_col3\" class=\"data row3 col3\" >1.000000</td>\n",
              "                        <td id=\"T_ea52c3dc_d330_11ea_9d73_0242ac1c0002row3_col4\" class=\"data row3 col4\" >0.172826</td>\n",
              "                        <td id=\"T_ea52c3dc_d330_11ea_9d73_0242ac1c0002row3_col5\" class=\"data row3 col5\" >0.353949</td>\n",
              "                        <td id=\"T_ea52c3dc_d330_11ea_9d73_0242ac1c0002row3_col6\" class=\"data row3 col6\" >0.103818</td>\n",
              "                        <td id=\"T_ea52c3dc_d330_11ea_9d73_0242ac1c0002row3_col7\" class=\"data row3 col7\" >0.284611</td>\n",
              "                        <td id=\"T_ea52c3dc_d330_11ea_9d73_0242ac1c0002row3_col8\" class=\"data row3 col8\" >-0.058753</td>\n",
              "                        <td id=\"T_ea52c3dc_d330_11ea_9d73_0242ac1c0002row3_col9\" class=\"data row3 col9\" >0.762704</td>\n",
              "                        <td id=\"T_ea52c3dc_d330_11ea_9d73_0242ac1c0002row3_col10\" class=\"data row3 col10\" >0.876597</td>\n",
              "                        <td id=\"T_ea52c3dc_d330_11ea_9d73_0242ac1c0002row3_col11\" class=\"data row3 col11\" >0.435043</td>\n",
              "                        <td id=\"T_ea52c3dc_d330_11ea_9d73_0242ac1c0002row3_col12\" class=\"data row3 col12\" >0.318049</td>\n",
              "                        <td id=\"T_ea52c3dc_d330_11ea_9d73_0242ac1c0002row3_col13\" class=\"data row3 col13\" >0.055363</td>\n",
              "                        <td id=\"T_ea52c3dc_d330_11ea_9d73_0242ac1c0002row3_col14\" class=\"data row3 col14\" >-0.199430</td>\n",
              "                        <td id=\"T_ea52c3dc_d330_11ea_9d73_0242ac1c0002row3_col15\" class=\"data row3 col15\" >0.052529</td>\n",
              "                        <td id=\"T_ea52c3dc_d330_11ea_9d73_0242ac1c0002row3_col16\" class=\"data row3 col16\" >0.240223</td>\n",
              "                        <td id=\"T_ea52c3dc_d330_11ea_9d73_0242ac1c0002row3_col17\" class=\"data row3 col17\" >0.756420</td>\n",
              "                        <td id=\"T_ea52c3dc_d330_11ea_9d73_0242ac1c0002row3_col18\" class=\"data row3 col18\" >0.183286</td>\n",
              "            </tr>\n",
              "            <tr>\n",
              "                        <th id=\"T_ea52c3dc_d330_11ea_9d73_0242ac1c0002level0_row4\" class=\"row_heading level0 row4\" >sqft_lot</th>\n",
              "                        <td id=\"T_ea52c3dc_d330_11ea_9d73_0242ac1c0002row4_col0\" class=\"data row4 col0\" >-0.132109</td>\n",
              "                        <td id=\"T_ea52c3dc_d330_11ea_9d73_0242ac1c0002row4_col1\" class=\"data row4 col1\" >0.031703</td>\n",
              "                        <td id=\"T_ea52c3dc_d330_11ea_9d73_0242ac1c0002row4_col2\" class=\"data row4 col2\" >0.087740</td>\n",
              "                        <td id=\"T_ea52c3dc_d330_11ea_9d73_0242ac1c0002row4_col3\" class=\"data row4 col3\" >0.172826</td>\n",
              "                        <td id=\"T_ea52c3dc_d330_11ea_9d73_0242ac1c0002row4_col4\" class=\"data row4 col4\" >1.000000</td>\n",
              "                        <td id=\"T_ea52c3dc_d330_11ea_9d73_0242ac1c0002row4_col5\" class=\"data row4 col5\" >-0.005201</td>\n",
              "                        <td id=\"T_ea52c3dc_d330_11ea_9d73_0242ac1c0002row4_col6\" class=\"data row4 col6\" >0.021604</td>\n",
              "                        <td id=\"T_ea52c3dc_d330_11ea_9d73_0242ac1c0002row4_col7\" class=\"data row4 col7\" >0.074710</td>\n",
              "                        <td id=\"T_ea52c3dc_d330_11ea_9d73_0242ac1c0002row4_col8\" class=\"data row4 col8\" >-0.008958</td>\n",
              "                        <td id=\"T_ea52c3dc_d330_11ea_9d73_0242ac1c0002row4_col9\" class=\"data row4 col9\" >0.113621</td>\n",
              "                        <td id=\"T_ea52c3dc_d330_11ea_9d73_0242ac1c0002row4_col10\" class=\"data row4 col10\" >0.183512</td>\n",
              "                        <td id=\"T_ea52c3dc_d330_11ea_9d73_0242ac1c0002row4_col11\" class=\"data row4 col11\" >0.015286</td>\n",
              "                        <td id=\"T_ea52c3dc_d330_11ea_9d73_0242ac1c0002row4_col12\" class=\"data row4 col12\" >0.053080</td>\n",
              "                        <td id=\"T_ea52c3dc_d330_11ea_9d73_0242ac1c0002row4_col13\" class=\"data row4 col13\" >0.007644</td>\n",
              "                        <td id=\"T_ea52c3dc_d330_11ea_9d73_0242ac1c0002row4_col14\" class=\"data row4 col14\" >-0.129574</td>\n",
              "                        <td id=\"T_ea52c3dc_d330_11ea_9d73_0242ac1c0002row4_col15\" class=\"data row4 col15\" >-0.085683</td>\n",
              "                        <td id=\"T_ea52c3dc_d330_11ea_9d73_0242ac1c0002row4_col16\" class=\"data row4 col16\" >0.229521</td>\n",
              "                        <td id=\"T_ea52c3dc_d330_11ea_9d73_0242ac1c0002row4_col17\" class=\"data row4 col17\" >0.144608</td>\n",
              "                        <td id=\"T_ea52c3dc_d330_11ea_9d73_0242ac1c0002row4_col18\" class=\"data row4 col18\" >0.718557</td>\n",
              "            </tr>\n",
              "            <tr>\n",
              "                        <th id=\"T_ea52c3dc_d330_11ea_9d73_0242ac1c0002level0_row5\" class=\"row_heading level0 row5\" >floors</th>\n",
              "                        <td id=\"T_ea52c3dc_d330_11ea_9d73_0242ac1c0002row5_col0\" class=\"data row5 col0\" >0.018525</td>\n",
              "                        <td id=\"T_ea52c3dc_d330_11ea_9d73_0242ac1c0002row5_col1\" class=\"data row5 col1\" >0.175429</td>\n",
              "                        <td id=\"T_ea52c3dc_d330_11ea_9d73_0242ac1c0002row5_col2\" class=\"data row5 col2\" >0.500653</td>\n",
              "                        <td id=\"T_ea52c3dc_d330_11ea_9d73_0242ac1c0002row5_col3\" class=\"data row5 col3\" >0.353949</td>\n",
              "                        <td id=\"T_ea52c3dc_d330_11ea_9d73_0242ac1c0002row5_col4\" class=\"data row5 col4\" >-0.005201</td>\n",
              "                        <td id=\"T_ea52c3dc_d330_11ea_9d73_0242ac1c0002row5_col5\" class=\"data row5 col5\" >1.000000</td>\n",
              "                        <td id=\"T_ea52c3dc_d330_11ea_9d73_0242ac1c0002row5_col6\" class=\"data row5 col6\" >0.023698</td>\n",
              "                        <td id=\"T_ea52c3dc_d330_11ea_9d73_0242ac1c0002row5_col7\" class=\"data row5 col7\" >0.029444</td>\n",
              "                        <td id=\"T_ea52c3dc_d330_11ea_9d73_0242ac1c0002row5_col8\" class=\"data row5 col8\" >-0.263768</td>\n",
              "                        <td id=\"T_ea52c3dc_d330_11ea_9d73_0242ac1c0002row5_col9\" class=\"data row5 col9\" >0.458183</td>\n",
              "                        <td id=\"T_ea52c3dc_d330_11ea_9d73_0242ac1c0002row5_col10\" class=\"data row5 col10\" >0.523885</td>\n",
              "                        <td id=\"T_ea52c3dc_d330_11ea_9d73_0242ac1c0002row5_col11\" class=\"data row5 col11\" >-0.245705</td>\n",
              "                        <td id=\"T_ea52c3dc_d330_11ea_9d73_0242ac1c0002row5_col12\" class=\"data row5 col12\" >0.489319</td>\n",
              "                        <td id=\"T_ea52c3dc_d330_11ea_9d73_0242ac1c0002row5_col13\" class=\"data row5 col13\" >0.006338</td>\n",
              "                        <td id=\"T_ea52c3dc_d330_11ea_9d73_0242ac1c0002row5_col14\" class=\"data row5 col14\" >-0.059121</td>\n",
              "                        <td id=\"T_ea52c3dc_d330_11ea_9d73_0242ac1c0002row5_col15\" class=\"data row5 col15\" >0.049614</td>\n",
              "                        <td id=\"T_ea52c3dc_d330_11ea_9d73_0242ac1c0002row5_col16\" class=\"data row5 col16\" >0.125419</td>\n",
              "                        <td id=\"T_ea52c3dc_d330_11ea_9d73_0242ac1c0002row5_col17\" class=\"data row5 col17\" >0.279885</td>\n",
              "                        <td id=\"T_ea52c3dc_d330_11ea_9d73_0242ac1c0002row5_col18\" class=\"data row5 col18\" >-0.011269</td>\n",
              "            </tr>\n",
              "            <tr>\n",
              "                        <th id=\"T_ea52c3dc_d330_11ea_9d73_0242ac1c0002level0_row6\" class=\"row_heading level0 row6\" >waterfront</th>\n",
              "                        <td id=\"T_ea52c3dc_d330_11ea_9d73_0242ac1c0002row6_col0\" class=\"data row6 col0\" >-0.002721</td>\n",
              "                        <td id=\"T_ea52c3dc_d330_11ea_9d73_0242ac1c0002row6_col1\" class=\"data row6 col1\" >-0.006582</td>\n",
              "                        <td id=\"T_ea52c3dc_d330_11ea_9d73_0242ac1c0002row6_col2\" class=\"data row6 col2\" >0.063744</td>\n",
              "                        <td id=\"T_ea52c3dc_d330_11ea_9d73_0242ac1c0002row6_col3\" class=\"data row6 col3\" >0.103818</td>\n",
              "                        <td id=\"T_ea52c3dc_d330_11ea_9d73_0242ac1c0002row6_col4\" class=\"data row6 col4\" >0.021604</td>\n",
              "                        <td id=\"T_ea52c3dc_d330_11ea_9d73_0242ac1c0002row6_col5\" class=\"data row6 col5\" >0.023698</td>\n",
              "                        <td id=\"T_ea52c3dc_d330_11ea_9d73_0242ac1c0002row6_col6\" class=\"data row6 col6\" >1.000000</td>\n",
              "                        <td id=\"T_ea52c3dc_d330_11ea_9d73_0242ac1c0002row6_col7\" class=\"data row6 col7\" >0.401857</td>\n",
              "                        <td id=\"T_ea52c3dc_d330_11ea_9d73_0242ac1c0002row6_col8\" class=\"data row6 col8\" >0.016653</td>\n",
              "                        <td id=\"T_ea52c3dc_d330_11ea_9d73_0242ac1c0002row6_col9\" class=\"data row6 col9\" >0.082775</td>\n",
              "                        <td id=\"T_ea52c3dc_d330_11ea_9d73_0242ac1c0002row6_col10\" class=\"data row6 col10\" >0.072075</td>\n",
              "                        <td id=\"T_ea52c3dc_d330_11ea_9d73_0242ac1c0002row6_col11\" class=\"data row6 col11\" >0.080588</td>\n",
              "                        <td id=\"T_ea52c3dc_d330_11ea_9d73_0242ac1c0002row6_col12\" class=\"data row6 col12\" >-0.026161</td>\n",
              "                        <td id=\"T_ea52c3dc_d330_11ea_9d73_0242ac1c0002row6_col13\" class=\"data row6 col13\" >0.092885</td>\n",
              "                        <td id=\"T_ea52c3dc_d330_11ea_9d73_0242ac1c0002row6_col14\" class=\"data row6 col14\" >0.030285</td>\n",
              "                        <td id=\"T_ea52c3dc_d330_11ea_9d73_0242ac1c0002row6_col15\" class=\"data row6 col15\" >-0.014274</td>\n",
              "                        <td id=\"T_ea52c3dc_d330_11ea_9d73_0242ac1c0002row6_col16\" class=\"data row6 col16\" >-0.041910</td>\n",
              "                        <td id=\"T_ea52c3dc_d330_11ea_9d73_0242ac1c0002row6_col17\" class=\"data row6 col17\" >0.086463</td>\n",
              "                        <td id=\"T_ea52c3dc_d330_11ea_9d73_0242ac1c0002row6_col18\" class=\"data row6 col18\" >0.030703</td>\n",
              "            </tr>\n",
              "            <tr>\n",
              "                        <th id=\"T_ea52c3dc_d330_11ea_9d73_0242ac1c0002level0_row7\" class=\"row_heading level0 row7\" >view</th>\n",
              "                        <td id=\"T_ea52c3dc_d330_11ea_9d73_0242ac1c0002row7_col0\" class=\"data row7 col0\" >0.011592</td>\n",
              "                        <td id=\"T_ea52c3dc_d330_11ea_9d73_0242ac1c0002row7_col1\" class=\"data row7 col1\" >0.079532</td>\n",
              "                        <td id=\"T_ea52c3dc_d330_11ea_9d73_0242ac1c0002row7_col2\" class=\"data row7 col2\" >0.187737</td>\n",
              "                        <td id=\"T_ea52c3dc_d330_11ea_9d73_0242ac1c0002row7_col3\" class=\"data row7 col3\" >0.284611</td>\n",
              "                        <td id=\"T_ea52c3dc_d330_11ea_9d73_0242ac1c0002row7_col4\" class=\"data row7 col4\" >0.074710</td>\n",
              "                        <td id=\"T_ea52c3dc_d330_11ea_9d73_0242ac1c0002row7_col5\" class=\"data row7 col5\" >0.029444</td>\n",
              "                        <td id=\"T_ea52c3dc_d330_11ea_9d73_0242ac1c0002row7_col6\" class=\"data row7 col6\" >0.401857</td>\n",
              "                        <td id=\"T_ea52c3dc_d330_11ea_9d73_0242ac1c0002row7_col7\" class=\"data row7 col7\" >1.000000</td>\n",
              "                        <td id=\"T_ea52c3dc_d330_11ea_9d73_0242ac1c0002row7_col8\" class=\"data row7 col8\" >0.045990</td>\n",
              "                        <td id=\"T_ea52c3dc_d330_11ea_9d73_0242ac1c0002row7_col9\" class=\"data row7 col9\" >0.251321</td>\n",
              "                        <td id=\"T_ea52c3dc_d330_11ea_9d73_0242ac1c0002row7_col10\" class=\"data row7 col10\" >0.167649</td>\n",
              "                        <td id=\"T_ea52c3dc_d330_11ea_9d73_0242ac1c0002row7_col11\" class=\"data row7 col11\" >0.276947</td>\n",
              "                        <td id=\"T_ea52c3dc_d330_11ea_9d73_0242ac1c0002row7_col12\" class=\"data row7 col12\" >-0.053440</td>\n",
              "                        <td id=\"T_ea52c3dc_d330_11ea_9d73_0242ac1c0002row7_col13\" class=\"data row7 col13\" >0.103917</td>\n",
              "                        <td id=\"T_ea52c3dc_d330_11ea_9d73_0242ac1c0002row7_col14\" class=\"data row7 col14\" >0.084827</td>\n",
              "                        <td id=\"T_ea52c3dc_d330_11ea_9d73_0242ac1c0002row7_col15\" class=\"data row7 col15\" >0.006157</td>\n",
              "                        <td id=\"T_ea52c3dc_d330_11ea_9d73_0242ac1c0002row7_col16\" class=\"data row7 col16\" >-0.078400</td>\n",
              "                        <td id=\"T_ea52c3dc_d330_11ea_9d73_0242ac1c0002row7_col17\" class=\"data row7 col17\" >0.280439</td>\n",
              "                        <td id=\"T_ea52c3dc_d330_11ea_9d73_0242ac1c0002row7_col18\" class=\"data row7 col18\" >0.072575</td>\n",
              "            </tr>\n",
              "            <tr>\n",
              "                        <th id=\"T_ea52c3dc_d330_11ea_9d73_0242ac1c0002level0_row8\" class=\"row_heading level0 row8\" >condition</th>\n",
              "                        <td id=\"T_ea52c3dc_d330_11ea_9d73_0242ac1c0002row8_col0\" class=\"data row8 col0\" >-0.023783</td>\n",
              "                        <td id=\"T_ea52c3dc_d330_11ea_9d73_0242ac1c0002row8_col1\" class=\"data row8 col1\" >0.028472</td>\n",
              "                        <td id=\"T_ea52c3dc_d330_11ea_9d73_0242ac1c0002row8_col2\" class=\"data row8 col2\" >-0.124982</td>\n",
              "                        <td id=\"T_ea52c3dc_d330_11ea_9d73_0242ac1c0002row8_col3\" class=\"data row8 col3\" >-0.058753</td>\n",
              "                        <td id=\"T_ea52c3dc_d330_11ea_9d73_0242ac1c0002row8_col4\" class=\"data row8 col4\" >-0.008958</td>\n",
              "                        <td id=\"T_ea52c3dc_d330_11ea_9d73_0242ac1c0002row8_col5\" class=\"data row8 col5\" >-0.263768</td>\n",
              "                        <td id=\"T_ea52c3dc_d330_11ea_9d73_0242ac1c0002row8_col6\" class=\"data row8 col6\" >0.016653</td>\n",
              "                        <td id=\"T_ea52c3dc_d330_11ea_9d73_0242ac1c0002row8_col7\" class=\"data row8 col7\" >0.045990</td>\n",
              "                        <td id=\"T_ea52c3dc_d330_11ea_9d73_0242ac1c0002row8_col8\" class=\"data row8 col8\" >1.000000</td>\n",
              "                        <td id=\"T_ea52c3dc_d330_11ea_9d73_0242ac1c0002row8_col9\" class=\"data row8 col9\" >-0.144674</td>\n",
              "                        <td id=\"T_ea52c3dc_d330_11ea_9d73_0242ac1c0002row8_col10\" class=\"data row8 col10\" >-0.158214</td>\n",
              "                        <td id=\"T_ea52c3dc_d330_11ea_9d73_0242ac1c0002row8_col11\" class=\"data row8 col11\" >0.174105</td>\n",
              "                        <td id=\"T_ea52c3dc_d330_11ea_9d73_0242ac1c0002row8_col12\" class=\"data row8 col12\" >-0.361417</td>\n",
              "                        <td id=\"T_ea52c3dc_d330_11ea_9d73_0242ac1c0002row8_col13\" class=\"data row8 col13\" >-0.060618</td>\n",
              "                        <td id=\"T_ea52c3dc_d330_11ea_9d73_0242ac1c0002row8_col14\" class=\"data row8 col14\" >0.003026</td>\n",
              "                        <td id=\"T_ea52c3dc_d330_11ea_9d73_0242ac1c0002row8_col15\" class=\"data row8 col15\" >-0.014941</td>\n",
              "                        <td id=\"T_ea52c3dc_d330_11ea_9d73_0242ac1c0002row8_col16\" class=\"data row8 col16\" >-0.106500</td>\n",
              "                        <td id=\"T_ea52c3dc_d330_11ea_9d73_0242ac1c0002row8_col17\" class=\"data row8 col17\" >-0.092824</td>\n",
              "                        <td id=\"T_ea52c3dc_d330_11ea_9d73_0242ac1c0002row8_col18\" class=\"data row8 col18\" >-0.003406</td>\n",
              "            </tr>\n",
              "            <tr>\n",
              "                        <th id=\"T_ea52c3dc_d330_11ea_9d73_0242ac1c0002level0_row9\" class=\"row_heading level0 row9\" >grade</th>\n",
              "                        <td id=\"T_ea52c3dc_d330_11ea_9d73_0242ac1c0002row9_col0\" class=\"data row9 col0\" >0.008130</td>\n",
              "                        <td id=\"T_ea52c3dc_d330_11ea_9d73_0242ac1c0002row9_col1\" class=\"data row9 col1\" >0.356967</td>\n",
              "                        <td id=\"T_ea52c3dc_d330_11ea_9d73_0242ac1c0002row9_col2\" class=\"data row9 col2\" >0.664983</td>\n",
              "                        <td id=\"T_ea52c3dc_d330_11ea_9d73_0242ac1c0002row9_col3\" class=\"data row9 col3\" >0.762704</td>\n",
              "                        <td id=\"T_ea52c3dc_d330_11ea_9d73_0242ac1c0002row9_col4\" class=\"data row9 col4\" >0.113621</td>\n",
              "                        <td id=\"T_ea52c3dc_d330_11ea_9d73_0242ac1c0002row9_col5\" class=\"data row9 col5\" >0.458183</td>\n",
              "                        <td id=\"T_ea52c3dc_d330_11ea_9d73_0242ac1c0002row9_col6\" class=\"data row9 col6\" >0.082775</td>\n",
              "                        <td id=\"T_ea52c3dc_d330_11ea_9d73_0242ac1c0002row9_col7\" class=\"data row9 col7\" >0.251321</td>\n",
              "                        <td id=\"T_ea52c3dc_d330_11ea_9d73_0242ac1c0002row9_col8\" class=\"data row9 col8\" >-0.144674</td>\n",
              "                        <td id=\"T_ea52c3dc_d330_11ea_9d73_0242ac1c0002row9_col9\" class=\"data row9 col9\" >1.000000</td>\n",
              "                        <td id=\"T_ea52c3dc_d330_11ea_9d73_0242ac1c0002row9_col10\" class=\"data row9 col10\" >0.755923</td>\n",
              "                        <td id=\"T_ea52c3dc_d330_11ea_9d73_0242ac1c0002row9_col11\" class=\"data row9 col11\" >0.168392</td>\n",
              "                        <td id=\"T_ea52c3dc_d330_11ea_9d73_0242ac1c0002row9_col12\" class=\"data row9 col12\" >0.446963</td>\n",
              "                        <td id=\"T_ea52c3dc_d330_11ea_9d73_0242ac1c0002row9_col13\" class=\"data row9 col13\" >0.014414</td>\n",
              "                        <td id=\"T_ea52c3dc_d330_11ea_9d73_0242ac1c0002row9_col14\" class=\"data row9 col14\" >-0.184862</td>\n",
              "                        <td id=\"T_ea52c3dc_d330_11ea_9d73_0242ac1c0002row9_col15\" class=\"data row9 col15\" >0.114084</td>\n",
              "                        <td id=\"T_ea52c3dc_d330_11ea_9d73_0242ac1c0002row9_col16\" class=\"data row9 col16\" >0.198372</td>\n",
              "                        <td id=\"T_ea52c3dc_d330_11ea_9d73_0242ac1c0002row9_col17\" class=\"data row9 col17\" >0.713202</td>\n",
              "                        <td id=\"T_ea52c3dc_d330_11ea_9d73_0242ac1c0002row9_col18\" class=\"data row9 col18\" >0.119248</td>\n",
              "            </tr>\n",
              "            <tr>\n",
              "                        <th id=\"T_ea52c3dc_d330_11ea_9d73_0242ac1c0002level0_row10\" class=\"row_heading level0 row10\" >sqft_above</th>\n",
              "                        <td id=\"T_ea52c3dc_d330_11ea_9d73_0242ac1c0002row10_col0\" class=\"data row10 col0\" >-0.010842</td>\n",
              "                        <td id=\"T_ea52c3dc_d330_11ea_9d73_0242ac1c0002row10_col1\" class=\"data row10 col1\" >0.477600</td>\n",
              "                        <td id=\"T_ea52c3dc_d330_11ea_9d73_0242ac1c0002row10_col2\" class=\"data row10 col2\" >0.685342</td>\n",
              "                        <td id=\"T_ea52c3dc_d330_11ea_9d73_0242ac1c0002row10_col3\" class=\"data row10 col3\" >0.876597</td>\n",
              "                        <td id=\"T_ea52c3dc_d330_11ea_9d73_0242ac1c0002row10_col4\" class=\"data row10 col4\" >0.183512</td>\n",
              "                        <td id=\"T_ea52c3dc_d330_11ea_9d73_0242ac1c0002row10_col5\" class=\"data row10 col5\" >0.523885</td>\n",
              "                        <td id=\"T_ea52c3dc_d330_11ea_9d73_0242ac1c0002row10_col6\" class=\"data row10 col6\" >0.072075</td>\n",
              "                        <td id=\"T_ea52c3dc_d330_11ea_9d73_0242ac1c0002row10_col7\" class=\"data row10 col7\" >0.167649</td>\n",
              "                        <td id=\"T_ea52c3dc_d330_11ea_9d73_0242ac1c0002row10_col8\" class=\"data row10 col8\" >-0.158214</td>\n",
              "                        <td id=\"T_ea52c3dc_d330_11ea_9d73_0242ac1c0002row10_col9\" class=\"data row10 col9\" >0.755923</td>\n",
              "                        <td id=\"T_ea52c3dc_d330_11ea_9d73_0242ac1c0002row10_col10\" class=\"data row10 col10\" >1.000000</td>\n",
              "                        <td id=\"T_ea52c3dc_d330_11ea_9d73_0242ac1c0002row10_col11\" class=\"data row10 col11\" >-0.051943</td>\n",
              "                        <td id=\"T_ea52c3dc_d330_11ea_9d73_0242ac1c0002row10_col12\" class=\"data row10 col12\" >0.423898</td>\n",
              "                        <td id=\"T_ea52c3dc_d330_11ea_9d73_0242ac1c0002row10_col13\" class=\"data row10 col13\" >0.023285</td>\n",
              "                        <td id=\"T_ea52c3dc_d330_11ea_9d73_0242ac1c0002row10_col14\" class=\"data row10 col14\" >-0.261190</td>\n",
              "                        <td id=\"T_ea52c3dc_d330_11ea_9d73_0242ac1c0002row10_col15\" class=\"data row10 col15\" >-0.000816</td>\n",
              "                        <td id=\"T_ea52c3dc_d330_11ea_9d73_0242ac1c0002row10_col16\" class=\"data row10 col16\" >0.343803</td>\n",
              "                        <td id=\"T_ea52c3dc_d330_11ea_9d73_0242ac1c0002row10_col17\" class=\"data row10 col17\" >0.731870</td>\n",
              "                        <td id=\"T_ea52c3dc_d330_11ea_9d73_0242ac1c0002row10_col18\" class=\"data row10 col18\" >0.194050</td>\n",
              "            </tr>\n",
              "            <tr>\n",
              "                        <th id=\"T_ea52c3dc_d330_11ea_9d73_0242ac1c0002level0_row11\" class=\"row_heading level0 row11\" >sqft_basement</th>\n",
              "                        <td id=\"T_ea52c3dc_d330_11ea_9d73_0242ac1c0002row11_col0\" class=\"data row11 col0\" >-0.005151</td>\n",
              "                        <td id=\"T_ea52c3dc_d330_11ea_9d73_0242ac1c0002row11_col1\" class=\"data row11 col1\" >0.303093</td>\n",
              "                        <td id=\"T_ea52c3dc_d330_11ea_9d73_0242ac1c0002row11_col2\" class=\"data row11 col2\" >0.283770</td>\n",
              "                        <td id=\"T_ea52c3dc_d330_11ea_9d73_0242ac1c0002row11_col3\" class=\"data row11 col3\" >0.435043</td>\n",
              "                        <td id=\"T_ea52c3dc_d330_11ea_9d73_0242ac1c0002row11_col4\" class=\"data row11 col4\" >0.015286</td>\n",
              "                        <td id=\"T_ea52c3dc_d330_11ea_9d73_0242ac1c0002row11_col5\" class=\"data row11 col5\" >-0.245705</td>\n",
              "                        <td id=\"T_ea52c3dc_d330_11ea_9d73_0242ac1c0002row11_col6\" class=\"data row11 col6\" >0.080588</td>\n",
              "                        <td id=\"T_ea52c3dc_d330_11ea_9d73_0242ac1c0002row11_col7\" class=\"data row11 col7\" >0.276947</td>\n",
              "                        <td id=\"T_ea52c3dc_d330_11ea_9d73_0242ac1c0002row11_col8\" class=\"data row11 col8\" >0.174105</td>\n",
              "                        <td id=\"T_ea52c3dc_d330_11ea_9d73_0242ac1c0002row11_col9\" class=\"data row11 col9\" >0.168392</td>\n",
              "                        <td id=\"T_ea52c3dc_d330_11ea_9d73_0242ac1c0002row11_col10\" class=\"data row11 col10\" >-0.051943</td>\n",
              "                        <td id=\"T_ea52c3dc_d330_11ea_9d73_0242ac1c0002row11_col11\" class=\"data row11 col11\" >1.000000</td>\n",
              "                        <td id=\"T_ea52c3dc_d330_11ea_9d73_0242ac1c0002row11_col12\" class=\"data row11 col12\" >-0.133124</td>\n",
              "                        <td id=\"T_ea52c3dc_d330_11ea_9d73_0242ac1c0002row11_col13\" class=\"data row11 col13\" >0.071323</td>\n",
              "                        <td id=\"T_ea52c3dc_d330_11ea_9d73_0242ac1c0002row11_col14\" class=\"data row11 col14\" >0.074845</td>\n",
              "                        <td id=\"T_ea52c3dc_d330_11ea_9d73_0242ac1c0002row11_col15\" class=\"data row11 col15\" >0.110538</td>\n",
              "                        <td id=\"T_ea52c3dc_d330_11ea_9d73_0242ac1c0002row11_col16\" class=\"data row11 col16\" >-0.144765</td>\n",
              "                        <td id=\"T_ea52c3dc_d330_11ea_9d73_0242ac1c0002row11_col17\" class=\"data row11 col17\" >0.200355</td>\n",
              "                        <td id=\"T_ea52c3dc_d330_11ea_9d73_0242ac1c0002row11_col18\" class=\"data row11 col18\" >0.017276</td>\n",
              "            </tr>\n",
              "            <tr>\n",
              "                        <th id=\"T_ea52c3dc_d330_11ea_9d73_0242ac1c0002level0_row12\" class=\"row_heading level0 row12\" >yr_built</th>\n",
              "                        <td id=\"T_ea52c3dc_d330_11ea_9d73_0242ac1c0002row12_col0\" class=\"data row12 col0\" >0.021380</td>\n",
              "                        <td id=\"T_ea52c3dc_d330_11ea_9d73_0242ac1c0002row12_col1\" class=\"data row12 col1\" >0.154178</td>\n",
              "                        <td id=\"T_ea52c3dc_d330_11ea_9d73_0242ac1c0002row12_col2\" class=\"data row12 col2\" >0.506019</td>\n",
              "                        <td id=\"T_ea52c3dc_d330_11ea_9d73_0242ac1c0002row12_col3\" class=\"data row12 col3\" >0.318049</td>\n",
              "                        <td id=\"T_ea52c3dc_d330_11ea_9d73_0242ac1c0002row12_col4\" class=\"data row12 col4\" >0.053080</td>\n",
              "                        <td id=\"T_ea52c3dc_d330_11ea_9d73_0242ac1c0002row12_col5\" class=\"data row12 col5\" >0.489319</td>\n",
              "                        <td id=\"T_ea52c3dc_d330_11ea_9d73_0242ac1c0002row12_col6\" class=\"data row12 col6\" >-0.026161</td>\n",
              "                        <td id=\"T_ea52c3dc_d330_11ea_9d73_0242ac1c0002row12_col7\" class=\"data row12 col7\" >-0.053440</td>\n",
              "                        <td id=\"T_ea52c3dc_d330_11ea_9d73_0242ac1c0002row12_col8\" class=\"data row12 col8\" >-0.361417</td>\n",
              "                        <td id=\"T_ea52c3dc_d330_11ea_9d73_0242ac1c0002row12_col9\" class=\"data row12 col9\" >0.446963</td>\n",
              "                        <td id=\"T_ea52c3dc_d330_11ea_9d73_0242ac1c0002row12_col10\" class=\"data row12 col10\" >0.423898</td>\n",
              "                        <td id=\"T_ea52c3dc_d330_11ea_9d73_0242ac1c0002row12_col11\" class=\"data row12 col11\" >-0.133124</td>\n",
              "                        <td id=\"T_ea52c3dc_d330_11ea_9d73_0242ac1c0002row12_col12\" class=\"data row12 col12\" >1.000000</td>\n",
              "                        <td id=\"T_ea52c3dc_d330_11ea_9d73_0242ac1c0002row12_col13\" class=\"data row12 col13\" >-0.224874</td>\n",
              "                        <td id=\"T_ea52c3dc_d330_11ea_9d73_0242ac1c0002row12_col14\" class=\"data row12 col14\" >-0.346869</td>\n",
              "                        <td id=\"T_ea52c3dc_d330_11ea_9d73_0242ac1c0002row12_col15\" class=\"data row12 col15\" >-0.148122</td>\n",
              "                        <td id=\"T_ea52c3dc_d330_11ea_9d73_0242ac1c0002row12_col16\" class=\"data row12 col16\" >0.409356</td>\n",
              "                        <td id=\"T_ea52c3dc_d330_11ea_9d73_0242ac1c0002row12_col17\" class=\"data row12 col17\" >0.326229</td>\n",
              "                        <td id=\"T_ea52c3dc_d330_11ea_9d73_0242ac1c0002row12_col18\" class=\"data row12 col18\" >0.070958</td>\n",
              "            </tr>\n",
              "            <tr>\n",
              "                        <th id=\"T_ea52c3dc_d330_11ea_9d73_0242ac1c0002level0_row13\" class=\"row_heading level0 row13\" >yr_renovated</th>\n",
              "                        <td id=\"T_ea52c3dc_d330_11ea_9d73_0242ac1c0002row13_col0\" class=\"data row13 col0\" >-0.016907</td>\n",
              "                        <td id=\"T_ea52c3dc_d330_11ea_9d73_0242ac1c0002row13_col1\" class=\"data row13 col1\" >0.018841</td>\n",
              "                        <td id=\"T_ea52c3dc_d330_11ea_9d73_0242ac1c0002row13_col2\" class=\"data row13 col2\" >0.050739</td>\n",
              "                        <td id=\"T_ea52c3dc_d330_11ea_9d73_0242ac1c0002row13_col3\" class=\"data row13 col3\" >0.055363</td>\n",
              "                        <td id=\"T_ea52c3dc_d330_11ea_9d73_0242ac1c0002row13_col4\" class=\"data row13 col4\" >0.007644</td>\n",
              "                        <td id=\"T_ea52c3dc_d330_11ea_9d73_0242ac1c0002row13_col5\" class=\"data row13 col5\" >0.006338</td>\n",
              "                        <td id=\"T_ea52c3dc_d330_11ea_9d73_0242ac1c0002row13_col6\" class=\"data row13 col6\" >0.092885</td>\n",
              "                        <td id=\"T_ea52c3dc_d330_11ea_9d73_0242ac1c0002row13_col7\" class=\"data row13 col7\" >0.103917</td>\n",
              "                        <td id=\"T_ea52c3dc_d330_11ea_9d73_0242ac1c0002row13_col8\" class=\"data row13 col8\" >-0.060618</td>\n",
              "                        <td id=\"T_ea52c3dc_d330_11ea_9d73_0242ac1c0002row13_col9\" class=\"data row13 col9\" >0.014414</td>\n",
              "                        <td id=\"T_ea52c3dc_d330_11ea_9d73_0242ac1c0002row13_col10\" class=\"data row13 col10\" >0.023285</td>\n",
              "                        <td id=\"T_ea52c3dc_d330_11ea_9d73_0242ac1c0002row13_col11\" class=\"data row13 col11\" >0.071323</td>\n",
              "                        <td id=\"T_ea52c3dc_d330_11ea_9d73_0242ac1c0002row13_col12\" class=\"data row13 col12\" >-0.224874</td>\n",
              "                        <td id=\"T_ea52c3dc_d330_11ea_9d73_0242ac1c0002row13_col13\" class=\"data row13 col13\" >1.000000</td>\n",
              "                        <td id=\"T_ea52c3dc_d330_11ea_9d73_0242ac1c0002row13_col14\" class=\"data row13 col14\" >0.064357</td>\n",
              "                        <td id=\"T_ea52c3dc_d330_11ea_9d73_0242ac1c0002row13_col15\" class=\"data row13 col15\" >0.029398</td>\n",
              "                        <td id=\"T_ea52c3dc_d330_11ea_9d73_0242ac1c0002row13_col16\" class=\"data row13 col16\" >-0.068372</td>\n",
              "                        <td id=\"T_ea52c3dc_d330_11ea_9d73_0242ac1c0002row13_col17\" class=\"data row13 col17\" >-0.002673</td>\n",
              "                        <td id=\"T_ea52c3dc_d330_11ea_9d73_0242ac1c0002row13_col18\" class=\"data row13 col18\" >0.007854</td>\n",
              "            </tr>\n",
              "            <tr>\n",
              "                        <th id=\"T_ea52c3dc_d330_11ea_9d73_0242ac1c0002level0_row14\" class=\"row_heading level0 row14\" >zipcode</th>\n",
              "                        <td id=\"T_ea52c3dc_d330_11ea_9d73_0242ac1c0002row14_col0\" class=\"data row14 col0\" >-0.008224</td>\n",
              "                        <td id=\"T_ea52c3dc_d330_11ea_9d73_0242ac1c0002row14_col1\" class=\"data row14 col1\" >-0.152668</td>\n",
              "                        <td id=\"T_ea52c3dc_d330_11ea_9d73_0242ac1c0002row14_col2\" class=\"data row14 col2\" >-0.203866</td>\n",
              "                        <td id=\"T_ea52c3dc_d330_11ea_9d73_0242ac1c0002row14_col3\" class=\"data row14 col3\" >-0.199430</td>\n",
              "                        <td id=\"T_ea52c3dc_d330_11ea_9d73_0242ac1c0002row14_col4\" class=\"data row14 col4\" >-0.129574</td>\n",
              "                        <td id=\"T_ea52c3dc_d330_11ea_9d73_0242ac1c0002row14_col5\" class=\"data row14 col5\" >-0.059121</td>\n",
              "                        <td id=\"T_ea52c3dc_d330_11ea_9d73_0242ac1c0002row14_col6\" class=\"data row14 col6\" >0.030285</td>\n",
              "                        <td id=\"T_ea52c3dc_d330_11ea_9d73_0242ac1c0002row14_col7\" class=\"data row14 col7\" >0.084827</td>\n",
              "                        <td id=\"T_ea52c3dc_d330_11ea_9d73_0242ac1c0002row14_col8\" class=\"data row14 col8\" >0.003026</td>\n",
              "                        <td id=\"T_ea52c3dc_d330_11ea_9d73_0242ac1c0002row14_col9\" class=\"data row14 col9\" >-0.184862</td>\n",
              "                        <td id=\"T_ea52c3dc_d330_11ea_9d73_0242ac1c0002row14_col10\" class=\"data row14 col10\" >-0.261190</td>\n",
              "                        <td id=\"T_ea52c3dc_d330_11ea_9d73_0242ac1c0002row14_col11\" class=\"data row14 col11\" >0.074845</td>\n",
              "                        <td id=\"T_ea52c3dc_d330_11ea_9d73_0242ac1c0002row14_col12\" class=\"data row14 col12\" >-0.346869</td>\n",
              "                        <td id=\"T_ea52c3dc_d330_11ea_9d73_0242ac1c0002row14_col13\" class=\"data row14 col13\" >0.064357</td>\n",
              "                        <td id=\"T_ea52c3dc_d330_11ea_9d73_0242ac1c0002row14_col14\" class=\"data row14 col14\" >1.000000</td>\n",
              "                        <td id=\"T_ea52c3dc_d330_11ea_9d73_0242ac1c0002row14_col15\" class=\"data row14 col15\" >0.267048</td>\n",
              "                        <td id=\"T_ea52c3dc_d330_11ea_9d73_0242ac1c0002row14_col16\" class=\"data row14 col16\" >-0.564072</td>\n",
              "                        <td id=\"T_ea52c3dc_d330_11ea_9d73_0242ac1c0002row14_col17\" class=\"data row14 col17\" >-0.279033</td>\n",
              "                        <td id=\"T_ea52c3dc_d330_11ea_9d73_0242ac1c0002row14_col18\" class=\"data row14 col18\" >-0.147221</td>\n",
              "            </tr>\n",
              "            <tr>\n",
              "                        <th id=\"T_ea52c3dc_d330_11ea_9d73_0242ac1c0002level0_row15\" class=\"row_heading level0 row15\" >lat</th>\n",
              "                        <td id=\"T_ea52c3dc_d330_11ea_9d73_0242ac1c0002row15_col0\" class=\"data row15 col0\" >-0.001891</td>\n",
              "                        <td id=\"T_ea52c3dc_d330_11ea_9d73_0242ac1c0002row15_col1\" class=\"data row15 col1\" >-0.008931</td>\n",
              "                        <td id=\"T_ea52c3dc_d330_11ea_9d73_0242ac1c0002row15_col2\" class=\"data row15 col2\" >0.024573</td>\n",
              "                        <td id=\"T_ea52c3dc_d330_11ea_9d73_0242ac1c0002row15_col3\" class=\"data row15 col3\" >0.052529</td>\n",
              "                        <td id=\"T_ea52c3dc_d330_11ea_9d73_0242ac1c0002row15_col4\" class=\"data row15 col4\" >-0.085683</td>\n",
              "                        <td id=\"T_ea52c3dc_d330_11ea_9d73_0242ac1c0002row15_col5\" class=\"data row15 col5\" >0.049614</td>\n",
              "                        <td id=\"T_ea52c3dc_d330_11ea_9d73_0242ac1c0002row15_col6\" class=\"data row15 col6\" >-0.014274</td>\n",
              "                        <td id=\"T_ea52c3dc_d330_11ea_9d73_0242ac1c0002row15_col7\" class=\"data row15 col7\" >0.006157</td>\n",
              "                        <td id=\"T_ea52c3dc_d330_11ea_9d73_0242ac1c0002row15_col8\" class=\"data row15 col8\" >-0.014941</td>\n",
              "                        <td id=\"T_ea52c3dc_d330_11ea_9d73_0242ac1c0002row15_col9\" class=\"data row15 col9\" >0.114084</td>\n",
              "                        <td id=\"T_ea52c3dc_d330_11ea_9d73_0242ac1c0002row15_col10\" class=\"data row15 col10\" >-0.000816</td>\n",
              "                        <td id=\"T_ea52c3dc_d330_11ea_9d73_0242ac1c0002row15_col11\" class=\"data row15 col11\" >0.110538</td>\n",
              "                        <td id=\"T_ea52c3dc_d330_11ea_9d73_0242ac1c0002row15_col12\" class=\"data row15 col12\" >-0.148122</td>\n",
              "                        <td id=\"T_ea52c3dc_d330_11ea_9d73_0242ac1c0002row15_col13\" class=\"data row15 col13\" >0.029398</td>\n",
              "                        <td id=\"T_ea52c3dc_d330_11ea_9d73_0242ac1c0002row15_col14\" class=\"data row15 col14\" >0.267048</td>\n",
              "                        <td id=\"T_ea52c3dc_d330_11ea_9d73_0242ac1c0002row15_col15\" class=\"data row15 col15\" >1.000000</td>\n",
              "                        <td id=\"T_ea52c3dc_d330_11ea_9d73_0242ac1c0002row15_col16\" class=\"data row15 col16\" >-0.135512</td>\n",
              "                        <td id=\"T_ea52c3dc_d330_11ea_9d73_0242ac1c0002row15_col17\" class=\"data row15 col17\" >0.048858</td>\n",
              "                        <td id=\"T_ea52c3dc_d330_11ea_9d73_0242ac1c0002row15_col18\" class=\"data row15 col18\" >-0.086419</td>\n",
              "            </tr>\n",
              "            <tr>\n",
              "                        <th id=\"T_ea52c3dc_d330_11ea_9d73_0242ac1c0002level0_row16\" class=\"row_heading level0 row16\" >long</th>\n",
              "                        <td id=\"T_ea52c3dc_d330_11ea_9d73_0242ac1c0002row16_col0\" class=\"data row16 col0\" >0.020799</td>\n",
              "                        <td id=\"T_ea52c3dc_d330_11ea_9d73_0242ac1c0002row16_col1\" class=\"data row16 col1\" >0.129473</td>\n",
              "                        <td id=\"T_ea52c3dc_d330_11ea_9d73_0242ac1c0002row16_col2\" class=\"data row16 col2\" >0.223042</td>\n",
              "                        <td id=\"T_ea52c3dc_d330_11ea_9d73_0242ac1c0002row16_col3\" class=\"data row16 col3\" >0.240223</td>\n",
              "                        <td id=\"T_ea52c3dc_d330_11ea_9d73_0242ac1c0002row16_col4\" class=\"data row16 col4\" >0.229521</td>\n",
              "                        <td id=\"T_ea52c3dc_d330_11ea_9d73_0242ac1c0002row16_col5\" class=\"data row16 col5\" >0.125419</td>\n",
              "                        <td id=\"T_ea52c3dc_d330_11ea_9d73_0242ac1c0002row16_col6\" class=\"data row16 col6\" >-0.041910</td>\n",
              "                        <td id=\"T_ea52c3dc_d330_11ea_9d73_0242ac1c0002row16_col7\" class=\"data row16 col7\" >-0.078400</td>\n",
              "                        <td id=\"T_ea52c3dc_d330_11ea_9d73_0242ac1c0002row16_col8\" class=\"data row16 col8\" >-0.106500</td>\n",
              "                        <td id=\"T_ea52c3dc_d330_11ea_9d73_0242ac1c0002row16_col9\" class=\"data row16 col9\" >0.198372</td>\n",
              "                        <td id=\"T_ea52c3dc_d330_11ea_9d73_0242ac1c0002row16_col10\" class=\"data row16 col10\" >0.343803</td>\n",
              "                        <td id=\"T_ea52c3dc_d330_11ea_9d73_0242ac1c0002row16_col11\" class=\"data row16 col11\" >-0.144765</td>\n",
              "                        <td id=\"T_ea52c3dc_d330_11ea_9d73_0242ac1c0002row16_col12\" class=\"data row16 col12\" >0.409356</td>\n",
              "                        <td id=\"T_ea52c3dc_d330_11ea_9d73_0242ac1c0002row16_col13\" class=\"data row16 col13\" >-0.068372</td>\n",
              "                        <td id=\"T_ea52c3dc_d330_11ea_9d73_0242ac1c0002row16_col14\" class=\"data row16 col14\" >-0.564072</td>\n",
              "                        <td id=\"T_ea52c3dc_d330_11ea_9d73_0242ac1c0002row16_col15\" class=\"data row16 col15\" >-0.135512</td>\n",
              "                        <td id=\"T_ea52c3dc_d330_11ea_9d73_0242ac1c0002row16_col16\" class=\"data row16 col16\" >1.000000</td>\n",
              "                        <td id=\"T_ea52c3dc_d330_11ea_9d73_0242ac1c0002row16_col17\" class=\"data row16 col17\" >0.334605</td>\n",
              "                        <td id=\"T_ea52c3dc_d330_11ea_9d73_0242ac1c0002row16_col18\" class=\"data row16 col18\" >0.254451</td>\n",
              "            </tr>\n",
              "            <tr>\n",
              "                        <th id=\"T_ea52c3dc_d330_11ea_9d73_0242ac1c0002level0_row17\" class=\"row_heading level0 row17\" >sqft_living15</th>\n",
              "                        <td id=\"T_ea52c3dc_d330_11ea_9d73_0242ac1c0002row17_col0\" class=\"data row17 col0\" >-0.002901</td>\n",
              "                        <td id=\"T_ea52c3dc_d330_11ea_9d73_0242ac1c0002row17_col1\" class=\"data row17 col1\" >0.391638</td>\n",
              "                        <td id=\"T_ea52c3dc_d330_11ea_9d73_0242ac1c0002row17_col2\" class=\"data row17 col2\" >0.568634</td>\n",
              "                        <td id=\"T_ea52c3dc_d330_11ea_9d73_0242ac1c0002row17_col3\" class=\"data row17 col3\" >0.756420</td>\n",
              "                        <td id=\"T_ea52c3dc_d330_11ea_9d73_0242ac1c0002row17_col4\" class=\"data row17 col4\" >0.144608</td>\n",
              "                        <td id=\"T_ea52c3dc_d330_11ea_9d73_0242ac1c0002row17_col5\" class=\"data row17 col5\" >0.279885</td>\n",
              "                        <td id=\"T_ea52c3dc_d330_11ea_9d73_0242ac1c0002row17_col6\" class=\"data row17 col6\" >0.086463</td>\n",
              "                        <td id=\"T_ea52c3dc_d330_11ea_9d73_0242ac1c0002row17_col7\" class=\"data row17 col7\" >0.280439</td>\n",
              "                        <td id=\"T_ea52c3dc_d330_11ea_9d73_0242ac1c0002row17_col8\" class=\"data row17 col8\" >-0.092824</td>\n",
              "                        <td id=\"T_ea52c3dc_d330_11ea_9d73_0242ac1c0002row17_col9\" class=\"data row17 col9\" >0.713202</td>\n",
              "                        <td id=\"T_ea52c3dc_d330_11ea_9d73_0242ac1c0002row17_col10\" class=\"data row17 col10\" >0.731870</td>\n",
              "                        <td id=\"T_ea52c3dc_d330_11ea_9d73_0242ac1c0002row17_col11\" class=\"data row17 col11\" >0.200355</td>\n",
              "                        <td id=\"T_ea52c3dc_d330_11ea_9d73_0242ac1c0002row17_col12\" class=\"data row17 col12\" >0.326229</td>\n",
              "                        <td id=\"T_ea52c3dc_d330_11ea_9d73_0242ac1c0002row17_col13\" class=\"data row17 col13\" >-0.002673</td>\n",
              "                        <td id=\"T_ea52c3dc_d330_11ea_9d73_0242ac1c0002row17_col14\" class=\"data row17 col14\" >-0.279033</td>\n",
              "                        <td id=\"T_ea52c3dc_d330_11ea_9d73_0242ac1c0002row17_col15\" class=\"data row17 col15\" >0.048858</td>\n",
              "                        <td id=\"T_ea52c3dc_d330_11ea_9d73_0242ac1c0002row17_col16\" class=\"data row17 col16\" >0.334605</td>\n",
              "                        <td id=\"T_ea52c3dc_d330_11ea_9d73_0242ac1c0002row17_col17\" class=\"data row17 col17\" >1.000000</td>\n",
              "                        <td id=\"T_ea52c3dc_d330_11ea_9d73_0242ac1c0002row17_col18\" class=\"data row17 col18\" >0.183192</td>\n",
              "            </tr>\n",
              "            <tr>\n",
              "                        <th id=\"T_ea52c3dc_d330_11ea_9d73_0242ac1c0002level0_row18\" class=\"row_heading level0 row18\" >sqft_lot15</th>\n",
              "                        <td id=\"T_ea52c3dc_d330_11ea_9d73_0242ac1c0002row18_col0\" class=\"data row18 col0\" >-0.138798</td>\n",
              "                        <td id=\"T_ea52c3dc_d330_11ea_9d73_0242ac1c0002row18_col1\" class=\"data row18 col1\" >0.029244</td>\n",
              "                        <td id=\"T_ea52c3dc_d330_11ea_9d73_0242ac1c0002row18_col2\" class=\"data row18 col2\" >0.087175</td>\n",
              "                        <td id=\"T_ea52c3dc_d330_11ea_9d73_0242ac1c0002row18_col3\" class=\"data row18 col3\" >0.183286</td>\n",
              "                        <td id=\"T_ea52c3dc_d330_11ea_9d73_0242ac1c0002row18_col4\" class=\"data row18 col4\" >0.718557</td>\n",
              "                        <td id=\"T_ea52c3dc_d330_11ea_9d73_0242ac1c0002row18_col5\" class=\"data row18 col5\" >-0.011269</td>\n",
              "                        <td id=\"T_ea52c3dc_d330_11ea_9d73_0242ac1c0002row18_col6\" class=\"data row18 col6\" >0.030703</td>\n",
              "                        <td id=\"T_ea52c3dc_d330_11ea_9d73_0242ac1c0002row18_col7\" class=\"data row18 col7\" >0.072575</td>\n",
              "                        <td id=\"T_ea52c3dc_d330_11ea_9d73_0242ac1c0002row18_col8\" class=\"data row18 col8\" >-0.003406</td>\n",
              "                        <td id=\"T_ea52c3dc_d330_11ea_9d73_0242ac1c0002row18_col9\" class=\"data row18 col9\" >0.119248</td>\n",
              "                        <td id=\"T_ea52c3dc_d330_11ea_9d73_0242ac1c0002row18_col10\" class=\"data row18 col10\" >0.194050</td>\n",
              "                        <td id=\"T_ea52c3dc_d330_11ea_9d73_0242ac1c0002row18_col11\" class=\"data row18 col11\" >0.017276</td>\n",
              "                        <td id=\"T_ea52c3dc_d330_11ea_9d73_0242ac1c0002row18_col12\" class=\"data row18 col12\" >0.070958</td>\n",
              "                        <td id=\"T_ea52c3dc_d330_11ea_9d73_0242ac1c0002row18_col13\" class=\"data row18 col13\" >0.007854</td>\n",
              "                        <td id=\"T_ea52c3dc_d330_11ea_9d73_0242ac1c0002row18_col14\" class=\"data row18 col14\" >-0.147221</td>\n",
              "                        <td id=\"T_ea52c3dc_d330_11ea_9d73_0242ac1c0002row18_col15\" class=\"data row18 col15\" >-0.086419</td>\n",
              "                        <td id=\"T_ea52c3dc_d330_11ea_9d73_0242ac1c0002row18_col16\" class=\"data row18 col16\" >0.254451</td>\n",
              "                        <td id=\"T_ea52c3dc_d330_11ea_9d73_0242ac1c0002row18_col17\" class=\"data row18 col17\" >0.183192</td>\n",
              "                        <td id=\"T_ea52c3dc_d330_11ea_9d73_0242ac1c0002row18_col18\" class=\"data row18 col18\" >1.000000</td>\n",
              "            </tr>\n",
              "    </tbody></table>"
            ],
            "text/plain": [
              "<pandas.io.formats.style.Styler at 0x7febce988e48>"
            ]
          },
          "metadata": {
            "tags": []
          },
          "execution_count": 107
        }
      ]
    },
    {
      "cell_type": "markdown",
      "metadata": {
        "id": "UoIPZ1IVvX_a",
        "colab_type": "text"
      },
      "source": [
        "*across the diagonal, 1 suggest that the features are correlated to themselves*"
      ]
    },
    {
      "cell_type": "code",
      "metadata": {
        "id": "8n69H_1BuyTi",
        "colab_type": "code",
        "colab": {
          "base_uri": "https://localhost:8080/",
          "height": 618
        },
        "outputId": "3648f23b-b6c7-4ff3-9203-8d76bd2c706f"
      },
      "source": [
        "#using VIF\n",
        "#Compute VIF data for each independent variable\n",
        "\n",
        "df = df.drop(['price'],axis=1)\n",
        "vif = pd.DataFrame()\n",
        "vif[\"features\"] = df.columns\n",
        "vif[\"vif_Factor\"] = [variance_inflation_factor(df.values, i) for i in range(df.shape[1])]\n",
        "vif"
      ],
      "execution_count": 43,
      "outputs": [
        {
          "output_type": "execute_result",
          "data": {
            "text/html": [
              "<div>\n",
              "<style scoped>\n",
              "    .dataframe tbody tr th:only-of-type {\n",
              "        vertical-align: middle;\n",
              "    }\n",
              "\n",
              "    .dataframe tbody tr th {\n",
              "        vertical-align: top;\n",
              "    }\n",
              "\n",
              "    .dataframe thead th {\n",
              "        text-align: right;\n",
              "    }\n",
              "</style>\n",
              "<table border=\"1\" class=\"dataframe\">\n",
              "  <thead>\n",
              "    <tr style=\"text-align: right;\">\n",
              "      <th></th>\n",
              "      <th>features</th>\n",
              "      <th>vif_Factor</th>\n",
              "    </tr>\n",
              "  </thead>\n",
              "  <tbody>\n",
              "    <tr>\n",
              "      <th>0</th>\n",
              "      <td>id</td>\n",
              "      <td>3.631502</td>\n",
              "    </tr>\n",
              "    <tr>\n",
              "      <th>1</th>\n",
              "      <td>bedrooms</td>\n",
              "      <td>1.651959</td>\n",
              "    </tr>\n",
              "    <tr>\n",
              "      <th>2</th>\n",
              "      <td>bathrooms</td>\n",
              "      <td>3.343348</td>\n",
              "    </tr>\n",
              "    <tr>\n",
              "      <th>3</th>\n",
              "      <td>sqft_living</td>\n",
              "      <td>inf</td>\n",
              "    </tr>\n",
              "    <tr>\n",
              "      <th>4</th>\n",
              "      <td>sqft_lot</td>\n",
              "      <td>2.104284</td>\n",
              "    </tr>\n",
              "    <tr>\n",
              "      <th>5</th>\n",
              "      <td>floors</td>\n",
              "      <td>2.148025</td>\n",
              "    </tr>\n",
              "    <tr>\n",
              "      <th>6</th>\n",
              "      <td>waterfront</td>\n",
              "      <td>1.203725</td>\n",
              "    </tr>\n",
              "    <tr>\n",
              "      <th>7</th>\n",
              "      <td>view</td>\n",
              "      <td>1.420300</td>\n",
              "    </tr>\n",
              "    <tr>\n",
              "      <th>8</th>\n",
              "      <td>condition</td>\n",
              "      <td>1.220285</td>\n",
              "    </tr>\n",
              "    <tr>\n",
              "      <th>9</th>\n",
              "      <td>grade</td>\n",
              "      <td>3.390136</td>\n",
              "    </tr>\n",
              "    <tr>\n",
              "      <th>10</th>\n",
              "      <td>sqft_above</td>\n",
              "      <td>inf</td>\n",
              "    </tr>\n",
              "    <tr>\n",
              "      <th>11</th>\n",
              "      <td>sqft_basement</td>\n",
              "      <td>inf</td>\n",
              "    </tr>\n",
              "    <tr>\n",
              "      <th>12</th>\n",
              "      <td>yr_built</td>\n",
              "      <td>2.265581</td>\n",
              "    </tr>\n",
              "    <tr>\n",
              "      <th>13</th>\n",
              "      <td>yr_renovated</td>\n",
              "      <td>1.147557</td>\n",
              "    </tr>\n",
              "    <tr>\n",
              "      <th>14</th>\n",
              "      <td>zipcode</td>\n",
              "      <td>0.488297</td>\n",
              "    </tr>\n",
              "    <tr>\n",
              "      <th>15</th>\n",
              "      <td>lat</td>\n",
              "      <td>1.180163</td>\n",
              "    </tr>\n",
              "    <tr>\n",
              "      <th>16</th>\n",
              "      <td>long</td>\n",
              "      <td>1.811553</td>\n",
              "    </tr>\n",
              "    <tr>\n",
              "      <th>17</th>\n",
              "      <td>sqft_living15</td>\n",
              "      <td>2.864597</td>\n",
              "    </tr>\n",
              "    <tr>\n",
              "      <th>18</th>\n",
              "      <td>sqft_lot15</td>\n",
              "      <td>2.144180</td>\n",
              "    </tr>\n",
              "  </tbody>\n",
              "</table>\n",
              "</div>"
            ],
            "text/plain": [
              "         features  vif_Factor\n",
              "0              id    3.631502\n",
              "1        bedrooms    1.651959\n",
              "2       bathrooms    3.343348\n",
              "3     sqft_living         inf\n",
              "4        sqft_lot    2.104284\n",
              "5          floors    2.148025\n",
              "6      waterfront    1.203725\n",
              "7            view    1.420300\n",
              "8       condition    1.220285\n",
              "9           grade    3.390136\n",
              "10     sqft_above         inf\n",
              "11  sqft_basement         inf\n",
              "12       yr_built    2.265581\n",
              "13   yr_renovated    1.147557\n",
              "14        zipcode    0.488297\n",
              "15            lat    1.180163\n",
              "16           long    1.811553\n",
              "17  sqft_living15    2.864597\n",
              "18     sqft_lot15    2.144180"
            ]
          },
          "metadata": {
            "tags": []
          },
          "execution_count": 43
        }
      ]
    },
    {
      "cell_type": "markdown",
      "metadata": {
        "id": "EOMT4DyXYdPm",
        "colab_type": "text"
      },
      "source": [
        "*most features are not highly correlated because their values are less than 5*"
      ]
    },
    {
      "cell_type": "markdown",
      "metadata": {
        "id": "JfKSd-53WLrC",
        "colab_type": "text"
      },
      "source": [
        "**residuals and heteroscedasticity**"
      ]
    },
    {
      "cell_type": "code",
      "metadata": {
        "id": "2aENcS4IvAiM",
        "colab_type": "code",
        "colab": {
          "base_uri": "https://localhost:8080/",
          "height": 35
        },
        "outputId": "d1248fc0-a4e9-4a32-a75d-879e40b527ed"
      },
      "source": [
        "#creating residuals\n",
        "residuals = np.subtract(y_pred, y_test)\n",
        "\n",
        "#describing our residual:\n",
        "pd.DataFrame(residuals).describe()\n",
        "\n",
        "residuals.mean()"
      ],
      "execution_count": 44,
      "outputs": [
        {
          "output_type": "execute_result",
          "data": {
            "text/plain": [
              "4675.531355348749"
            ]
          },
          "metadata": {
            "tags": []
          },
          "execution_count": 44
        }
      ]
    },
    {
      "cell_type": "code",
      "metadata": {
        "id": "0QWz26qEvQKG",
        "colab_type": "code",
        "colab": {
          "base_uri": "https://localhost:8080/",
          "height": 290
        },
        "outputId": "6f0606e8-f918-4950-92e2-74f6e32eaea9"
      },
      "source": [
        "#residual scatter plot\n",
        "plt.scatter(y_pred, residuals, color='black')\n",
        "plt.ylabel('residual')\n",
        "plt.xlabel('fitted values')\n",
        "plt.axhline(y= residuals.mean(), color='red', linewidth=1)\n",
        "plt.show()"
      ],
      "execution_count": 45,
      "outputs": [
        {
          "output_type": "display_data",
          "data": {
            "image/png": "[encoded data removed]",
            "text/plain": [
              "<Figure size 432x288 with 1 Axes>"
            ]
          },
          "metadata": {
            "tags": []
          }
        }
      ]
    },
    {
      "cell_type": "markdown",
      "metadata": {
        "id": "UWrVGEMqPCb0",
        "colab_type": "text"
      },
      "source": [
        "*we can observe that the residuls are not constant.This is because of the outliers exist and we can also observe datapoints that are far away from the mean.this also indicates none linearity in the data*"
      ]
    },
    {
      "cell_type": "code",
      "metadata": {
        "id": "5ABE6MXdMx1c",
        "colab_type": "code",
        "colab": {}
      },
      "source": [
        "#heteroskedasticity test."
      ],
      "execution_count": 46,
      "outputs": []
    },
    {
      "cell_type": "code",
      "metadata": {
        "id": "1K2CYpmWMxyJ",
        "colab_type": "code",
        "colab": {
          "base_uri": "https://localhost:8080/",
          "height": 54
        },
        "outputId": "4935b924-f36c-4f7d-ab2e-6041d883ba73"
      },
      "source": [
        "#bartletts test\n",
        "test_result, p_value = sp.stats.bartlett(y_pred, residuals)\n",
        "\n",
        "#computing a critical value of the chi squared distribution\n",
        "degree_of_freedom = len(y_pred) - 1\n",
        "probability = 1 - p_value\n",
        "\n",
        "critical_value = sp.stats.chi2.ppf(probability, degree_of_freedom)\n",
        "print(critical_value)\n",
        "\n",
        "if (test_result > critical_value):\n",
        "  print('the variances are unequal, and the model should be reassessed')\n",
        "else:\n",
        "  print('the variances are homogeneous!')"
      ],
      "execution_count": 47,
      "outputs": [
        {
          "output_type": "stream",
          "text": [
            "inf\n",
            "the variances are homogeneous!\n"
          ],
          "name": "stdout"
        }
      ]
    },
    {
      "cell_type": "markdown",
      "metadata": {
        "id": "Xlr6guaLZCUf",
        "colab_type": "text"
      },
      "source": [
        "**Quantile Regression**"
      ]
    },
    {
      "cell_type": "markdown",
      "metadata": {
        "id": "cgYeTAdMXygb",
        "colab_type": "text"
      },
      "source": [
        "*this type of regression is used when there exists multicollinearity, outliers and heteroscedasticity.In our data we have outliers $ residuals and this type of regression will be appropriate*"
      ]
    },
    {
      "cell_type": "code",
      "metadata": {
        "id": "TSxx7aX5emky",
        "colab_type": "code",
        "colab": {
          "base_uri": "https://localhost:8080/",
          "height": 128
        },
        "outputId": "64c1cd6e-9e94-4cec-f29f-8381756d34f5"
      },
      "source": [
        "df.head(2)"
      ],
      "execution_count": 108,
      "outputs": [
        {
          "output_type": "execute_result",
          "data": {
            "text/html": [
              "<div>\n",
              "<style scoped>\n",
              "    .dataframe tbody tr th:only-of-type {\n",
              "        vertical-align: middle;\n",
              "    }\n",
              "\n",
              "    .dataframe tbody tr th {\n",
              "        vertical-align: top;\n",
              "    }\n",
              "\n",
              "    .dataframe thead th {\n",
              "        text-align: right;\n",
              "    }\n",
              "</style>\n",
              "<table border=\"1\" class=\"dataframe\">\n",
              "  <thead>\n",
              "    <tr style=\"text-align: right;\">\n",
              "      <th></th>\n",
              "      <th>id</th>\n",
              "      <th>price</th>\n",
              "      <th>bedrooms</th>\n",
              "      <th>bathrooms</th>\n",
              "      <th>sqft_living</th>\n",
              "      <th>sqft_lot</th>\n",
              "      <th>floors</th>\n",
              "      <th>waterfront</th>\n",
              "      <th>view</th>\n",
              "      <th>condition</th>\n",
              "      <th>grade</th>\n",
              "      <th>sqft_above</th>\n",
              "      <th>sqft_basement</th>\n",
              "      <th>yr_built</th>\n",
              "      <th>yr_renovated</th>\n",
              "      <th>zipcode</th>\n",
              "      <th>lat</th>\n",
              "      <th>long</th>\n",
              "      <th>sqft_living15</th>\n",
              "      <th>sqft_lot15</th>\n",
              "    </tr>\n",
              "  </thead>\n",
              "  <tbody>\n",
              "    <tr>\n",
              "      <th>0</th>\n",
              "      <td>7129300520</td>\n",
              "      <td>221900.0</td>\n",
              "      <td>3</td>\n",
              "      <td>1.00</td>\n",
              "      <td>1180</td>\n",
              "      <td>5650</td>\n",
              "      <td>1.0</td>\n",
              "      <td>0</td>\n",
              "      <td>0</td>\n",
              "      <td>3</td>\n",
              "      <td>7</td>\n",
              "      <td>1180</td>\n",
              "      <td>0</td>\n",
              "      <td>1955</td>\n",
              "      <td>0</td>\n",
              "      <td>98178</td>\n",
              "      <td>47.5112</td>\n",
              "      <td>-122.257</td>\n",
              "      <td>1340</td>\n",
              "      <td>5650</td>\n",
              "    </tr>\n",
              "    <tr>\n",
              "      <th>1</th>\n",
              "      <td>6414100192</td>\n",
              "      <td>538000.0</td>\n",
              "      <td>3</td>\n",
              "      <td>2.25</td>\n",
              "      <td>2570</td>\n",
              "      <td>7242</td>\n",
              "      <td>2.0</td>\n",
              "      <td>0</td>\n",
              "      <td>0</td>\n",
              "      <td>3</td>\n",
              "      <td>7</td>\n",
              "      <td>2170</td>\n",
              "      <td>400</td>\n",
              "      <td>1951</td>\n",
              "      <td>1991</td>\n",
              "      <td>98125</td>\n",
              "      <td>47.7210</td>\n",
              "      <td>-122.319</td>\n",
              "      <td>1690</td>\n",
              "      <td>7639</td>\n",
              "    </tr>\n",
              "  </tbody>\n",
              "</table>\n",
              "</div>"
            ],
            "text/plain": [
              "           id     price  bedrooms  ...     long  sqft_living15  sqft_lot15\n",
              "0  7129300520  221900.0         3  ... -122.257           1340        5650\n",
              "1  6414100192  538000.0         3  ... -122.319           1690        7639\n",
              "\n",
              "[2 rows x 20 columns]"
            ]
          },
          "metadata": {
            "tags": []
          },
          "execution_count": 108
        }
      ]
    },
    {
      "cell_type": "code",
      "metadata": {
        "id": "INjXu88OMxv3",
        "colab_type": "code",
        "colab": {
          "base_uri": "https://localhost:8080/",
          "height": 399
        },
        "outputId": "11ca1d73-e262-4e1f-adf6-872e878ae62e"
      },
      "source": [
        "# Finding the regression coefficients for the conditioned median, 0.5 quantile\n",
        "x = df[['sqft_above', 'grade', 'lat', 'sqft_living', 'sqft_living15']]\n",
        "y = df['price']\n",
        "mod = smf.quantreg('y ~ x', df)\n",
        "res = mod.fit(q=.5)\n",
        "print(res.summary())\n",
        "\n",
        "quantiles = np.arange(0.1,1,0.1) \n",
        "models = []\n",
        "params = []"
      ],
      "execution_count": 118,
      "outputs": [
        {
          "output_type": "stream",
          "text": [
            "                         QuantReg Regression Results                          \n",
            "==============================================================================\n",
            "Dep. Variable:                      y   Pseudo R-squared:               0.4058\n",
            "Model:                       QuantReg   Bandwidth:                   2.158e+04\n",
            "Method:                 Least Squares   Sparsity:                    2.847e+05\n",
            "Date:                Fri, 31 Jul 2020   No. Observations:                21613\n",
            "Time:                        13:29:11   Df Residuals:                    21607\n",
            "                                        Df Model:                            5\n",
            "==============================================================================\n",
            "                 coef    std err          t      P>|t|      [0.025      0.975]\n",
            "------------------------------------------------------------------------------\n",
            "Intercept  -2.967e+07   3.37e+05    -88.027      0.000   -3.03e+07    -2.9e+07\n",
            "x[0]         -36.2098      2.580    -14.033      0.000     -41.268     -31.152\n",
            "x[1]        6.722e+04   1396.280     48.140      0.000    6.45e+04       7e+04\n",
            "x[2]        6.175e+05   7110.315     86.849      0.000    6.04e+05    6.31e+05\n",
            "x[3]         134.1725      2.402     55.868      0.000     129.465     138.880\n",
            "x[4]          34.9796      2.305     15.178      0.000      30.462      39.497\n",
            "==============================================================================\n",
            "\n",
            "The condition number is large, 1.26e+06. This might indicate that there are\n",
            "strong multicollinearity or other numerical problems.\n"
          ],
          "name": "stdout"
        }
      ]
    },
    {
      "cell_type": "code",
      "metadata": {
        "id": "ssNZpHq2WeqY",
        "colab_type": "code",
        "colab": {
          "base_uri": "https://localhost:8080/",
          "height": 363
        },
        "outputId": "30155bdc-154a-4652-d802-8396ebb0624f"
      },
      "source": [
        "# building each quantile inside a for loop\n",
        "for qt in quantiles: \n",
        "\tres = mod.fit(q = qt )\n",
        "\tmodels.append(res)\n",
        "\tparams.append([qt, res.params['Intercept'], res.params['x[1]']] + res.conf_int().loc['x[1]'].tolist())\n",
        "\n",
        "# Lastly we make a dataframe of the same name, so we we can view our different models.\n",
        "params = pd.DataFrame(data = params, columns = ['qt', 'intercept', 'x_coef', 'cf_lower_bound', 'cf_upper_bound'])\n",
        "print(params)"
      ],
      "execution_count": 121,
      "outputs": [
        {
          "output_type": "stream",
          "text": [
            "     qt     intercept        x_coef  cf_lower_bound  cf_upper_bound\n",
            "0   0.1 -1.813480e+07  51246.719422    48982.949953    53510.488890\n",
            "1   0.2 -1.994448e+07  53448.323141    51171.790200    55724.856082\n",
            "2   0.3 -2.463309e+07  61586.770177    59065.083991    64108.456364\n",
            "3   0.4 -2.695037e+07  65406.248268    62882.460569    67930.035967\n",
            "4   0.5 -2.967078e+07  67216.840783    64480.029092    69953.652475\n",
            "5   0.6 -3.186677e+07  69960.191670    66970.808783    72949.574558\n",
            "6   0.7 -1.947944e+02  78003.706712    73628.449125    82378.964300\n",
            "7   0.8 -3.648124e+07  68026.660826    62737.331360    73315.990292\n",
            "8   0.9 -3.852842e+07  60783.534436    52819.089562    68747.979310\n",
            "9   0.1 -1.813480e+07  51246.719422    48982.949953    53510.488890\n",
            "10  0.2 -1.994448e+07  53448.323141    51171.790200    55724.856082\n",
            "11  0.3 -2.463309e+07  61586.770177    59065.083991    64108.456364\n",
            "12  0.4 -2.695037e+07  65406.248268    62882.460569    67930.035967\n",
            "13  0.5 -2.967078e+07  67216.840783    64480.029092    69953.652475\n",
            "14  0.6 -3.186677e+07  69960.191670    66970.808783    72949.574558\n",
            "15  0.7 -1.947944e+02  78003.706712    73628.449125    82378.964300\n",
            "16  0.8 -3.648124e+07  68026.660826    62737.331360    73315.990292\n",
            "17  0.9 -3.852842e+07  60783.534436    52819.089562    68747.979310\n"
          ],
          "name": "stdout"
        }
      ]
    },
    {
      "cell_type": "markdown",
      "metadata": {
        "id": "vlG0i70xf3JB",
        "colab_type": "text"
      },
      "source": [
        "**Ridge regression**"
      ]
    },
    {
      "cell_type": "markdown",
      "metadata": {
        "id": "8urBR1Xditpk",
        "colab_type": "text"
      },
      "source": [
        "*It is an extension of linear regression where the loss function is modified to reduce the complexity of the model.*"
      ]
    },
    {
      "cell_type": "code",
      "metadata": {
        "id": "_6iFQlMjm70q",
        "colab_type": "code",
        "colab": {
          "base_uri": "https://localhost:8080/",
          "height": 363
        },
        "outputId": "d6dc53a0-d130-458f-a759-fa7e9831c7d3"
      },
      "source": [
        "#graph showing the coefficients\n",
        "\n",
        "predictors = X_train.columns\n",
        "\n",
        "coef = Series(regressor.coef_, predictors).sort_values()\n",
        "\n",
        "coef.plot(kind='bar', title='Modal Coefficients')"
      ],
      "execution_count": 49,
      "outputs": [
        {
          "output_type": "execute_result",
          "data": {
            "text/plain": [
              "<matplotlib.axes._subplots.AxesSubplot at 0x7febcef6ffd0>"
            ]
          },
          "metadata": {
            "tags": []
          },
          "execution_count": 49
        },
        {
          "output_type": "display_data",
          "data": {
            "image/png": "[encoded data removed]",
            "text/plain": [
              "<Figure size 432x288 with 1 Axes>"
            ]
          },
          "metadata": {
            "tags": []
          }
        }
      ]
    },
    {
      "cell_type": "markdown",
      "metadata": {
        "id": "CysLv9vJnH6k",
        "colab_type": "text"
      },
      "source": [
        "*the coefficients of waterfront and lat is much higher than the others.therefore the price will be mainly driven by these two factors*"
      ]
    },
    {
      "cell_type": "code",
      "metadata": {
        "id": "GDnR1EizfCKy",
        "colab_type": "code",
        "colab": {
          "base_uri": "https://localhost:8080/",
          "height": 35
        },
        "outputId": "919f011e-f4fb-4c49-8ff0-3150a6e2fe8f"
      },
      "source": [
        "#creating the baseline reg model\n",
        "#fitting our model\n",
        "\n",
        "regression = LinearRegression()\n",
        "regression.fit(X,y)\n",
        "\n",
        "#mean square error\n",
        "first_model = (mean_squared_error(y_true=y, y_pred=regression.predict(X)))\n",
        "print(first_model)"
      ],
      "execution_count": 50,
      "outputs": [
        {
          "output_type": "stream",
          "text": [
            "40521925248.37479\n"
          ],
          "name": "stdout"
        }
      ]
    },
    {
      "cell_type": "code",
      "metadata": {
        "id": "S9OHyxU4fKCv",
        "colab_type": "code",
        "colab": {}
      },
      "source": [
        "#determining the value of L2 regularization by using gridsearch\n",
        "#creating ridge regression\n",
        "ridge = Ridge(normalize=True)\n",
        "search = GridSearchCV(estimator=ridge, param_grid={'alpha':np.logspace(-5,2,8)},\n",
        "                      scoring='neg_mean_squared_error',n_jobs=1,refit=True,cv=10)"
      ],
      "execution_count": 51,
      "outputs": []
    },
    {
      "cell_type": "code",
      "metadata": {
        "id": "MeDleXXAh3TZ",
        "colab_type": "code",
        "colab": {
          "base_uri": "https://localhost:8080/",
          "height": 35
        },
        "outputId": "e938022c-3add-474d-881e-35b1789376c1"
      },
      "source": [
        "#fit the function\n",
        "#alpha is set at 0.01\n",
        "search.fit(X,y)\n",
        "search.best_params_\n",
        "{'alpha': 0.01}\n",
        "abs(search.best_score_) "
      ],
      "execution_count": 52,
      "outputs": [
        {
          "output_type": "execute_result",
          "data": {
            "text/plain": [
              "41025645093.55712"
            ]
          },
          "metadata": {
            "tags": []
          },
          "execution_count": 52
        }
      ]
    },
    {
      "cell_type": "code",
      "metadata": {
        "id": "7C5YzAARh3Pt",
        "colab_type": "code",
        "colab": {
          "base_uri": "https://localhost:8080/",
          "height": 54
        },
        "outputId": "36992285-a343-45fa-a7e2-f396dac90f62"
      },
      "source": [
        "#accuracy of the ridge reg\n",
        "ridge = Ridge(normalize=True,alpha=0.01)\n",
        "ridge.fit(X,y)\n",
        "second_model = (mean_squared_error(y_true=y,y_pred=ridge.predict(X)))\n",
        "print(second_model)\n",
        "\n",
        "#r3score prediction\n",
        "sklearn.metrics.r2_score(y, ridge.predict(X))"
      ],
      "execution_count": 53,
      "outputs": [
        {
          "output_type": "stream",
          "text": [
            "40528225373.37049\n"
          ],
          "name": "stdout"
        },
        {
          "output_type": "execute_result",
          "data": {
            "text/plain": [
              "0.6996769452970686"
            ]
          },
          "metadata": {
            "tags": []
          },
          "execution_count": 53
        }
      ]
    },
    {
      "cell_type": "markdown",
      "metadata": {
        "id": "N36gGJdyeVSD",
        "colab_type": "text"
      },
      "source": [
        "*r2score is 70%. If we compare the r2 of linear regression and ridge regression we will notice a slight increase in r2 score. Linear regression is 0.6950 and that of ridge is 0.6997. This means the is an improvement in our model perfomance*"
      ]
    },
    {
      "cell_type": "code",
      "metadata": {
        "id": "FEfeJ1_xh3OJ",
        "colab_type": "code",
        "colab": {
          "base_uri": "https://localhost:8080/",
          "height": 345
        },
        "outputId": "a7418d97-d4e4-4bda-dcf5-6df6cbd68081"
      },
      "source": [
        "#viewing the feature coefficients \n",
        "coef_dict_baseline = {}\n",
        "for coef, feat in zip(regression.coef_, df.columns):\n",
        "    coef_dict_baseline[feat] = coef\n",
        "coef_dict_baseline"
      ],
      "execution_count": 54,
      "outputs": [
        {
          "output_type": "execute_result",
          "data": {
            "text/plain": [
              "{'bathrooms': 110.34033115782977,\n",
              " 'bedrooms': 41761.92895395055,\n",
              " 'condition': 96131.07651056166,\n",
              " 'floors': 583115.1684329183,\n",
              " 'grade': 71.50143071364884,\n",
              " 'id': -35761.16877045663,\n",
              " 'lat': -215641.67871629182,\n",
              " 'long': 21.319020978450755,\n",
              " 'sqft_above': 38.83890048937355,\n",
              " 'sqft_basement': -2622.492701422556,\n",
              " 'sqft_living': 0.12777609429352127,\n",
              " 'sqft_living15': -0.3835605597450922,\n",
              " 'sqft_lot': 4341.300830667105,\n",
              " 'view': 26321.495859796923,\n",
              " 'waterfront': 52963.510092047814,\n",
              " 'yr_built': 19.855517974042932,\n",
              " 'yr_renovated': -580.0691051130508,\n",
              " 'zipcode': 603439.5858877426}"
            ]
          },
          "metadata": {
            "tags": []
          },
          "execution_count": 54
        }
      ]
    },
    {
      "cell_type": "markdown",
      "metadata": {
        "id": "yUJihN1RySMn",
        "colab_type": "text"
      },
      "source": [
        "**Lasso regression**"
      ]
    },
    {
      "cell_type": "markdown",
      "metadata": {
        "id": "q0xpVwtph-WW",
        "colab_type": "text"
      },
      "source": [
        "*perfoms L1 regularization. Used mainly to avoid problems with overfitting and when we have large independent variables. L1 regularization causes some features to be shrunk upto zero and this enables feature selection.*"
      ]
    },
    {
      "cell_type": "code",
      "metadata": {
        "id": "_gn0Qg6_ipi6",
        "colab_type": "code",
        "colab": {}
      },
      "source": [
        "#creating the features\n",
        "#scaling\n",
        "scaler = StandardScaler()\n",
        "scaler.fit(X)\n",
        "X = scaler.transform(X)"
      ],
      "execution_count": 66,
      "outputs": []
    },
    {
      "cell_type": "code",
      "metadata": {
        "id": "APwlrljajtVX",
        "colab_type": "code",
        "colab": {
          "base_uri": "https://localhost:8080/",
          "height": 181
        },
        "outputId": "d086941a-336c-4525-f55b-4d6a11958feb"
      },
      "source": [
        "# Creating lasso object\n",
        "# \n",
        "lasso = linear_model.Lasso() \n",
        "\n",
        "# Fitting the models\n",
        "lasso.fit(X, y) \n",
        "# Print scores, MSE, and coefficients\n",
        "# \n",
        "print(\"lasso score:\", lasso.score(X, y)) \n",
        "print('*********************************')\n",
        "print(\"lasso MSE:\", mean_squared_error(y, lasso.predict(X))) \n",
        "print('*********************************')\n",
        "print(\"lasso coef:\", lasso.coef_) "
      ],
      "execution_count": 67,
      "outputs": [
        {
          "output_type": "stream",
          "text": [
            "lasso score: 0.6997236302955291\n",
            "*********************************\n",
            "lasso MSE: 40521925290.47799\n",
            "*********************************\n",
            "lasso coef: [-33258.16786059  32156.2166554  259309.7298258    5289.19347444\n",
            "   2395.52507805  50447.56905988  40586.00349146  17127.03290299\n",
            " 112998.1222877  -83215.95163285 -58929.37154456 -77027.82030617\n",
            "   7974.63663187 -31033.36352058  83611.49926872 -30365.25338972\n",
            "  14605.49900508 -10469.78085007]\n"
          ],
          "name": "stdout"
        }
      ]
    },
    {
      "cell_type": "code",
      "metadata": {
        "id": "Y3kY_Ki25Rd2",
        "colab_type": "code",
        "colab": {
          "base_uri": "https://localhost:8080/",
          "height": 399
        },
        "outputId": "5e4fcdb1-28a5-4ef2-cfd5-b01bd7fe960a"
      },
      "source": [
        "# Splitting the data into training and test sets, building Lasso, \n",
        "# and choosing the regularization parameter with the help of GridSearch.\n",
        "# Making necessary imports, split data into training and test sets, and choose a set of parameters\n",
        "\n",
        "X_train, X_test, y_train, y_test = train_test_split(X, y, test_size=0.25, random_state=101)\n",
        "parameters = {'alpha': np.concatenate((np.arange(0.1,2,0.1), np.arange(2, 5, 0.5), np.arange(5, 25, 1)))}\n",
        "\n",
        "linear = linear_model.LinearRegression()\n",
        "lasso = linear_model.Lasso() \n",
        "gridlasso = GridSearchCV(lasso, parameters, scoring ='r2') \n",
        "\n",
        "# Fitting models and print the best parameters, R-squared scores, MSE, and coefficients\n",
        "gridlasso.fit(X_train, y_train) \n",
        "linear.fit(X_train, y_train) \n",
        "print(\"lasso best parameters:\", gridlasso.best_params_) \n",
        "print('*********************************')\n",
        "print(\"lasso score:\", gridlasso.score(X_test, y_test))\n",
        "print('*********************************')\n",
        "print(\"linear score:\", linear.score(X_test, y_test)) \n",
        "print('*********************************')\n",
        "print(\"lasso MSE:\", mean_squared_error(y_test, gridlasso.predict(X_test)))\n",
        "print('*********************************')\n",
        "print(\"linear MSE:\", mean_squared_error(y_test, linear.predict(X_test))) \n",
        "print('*********************************')\n",
        "print(\"lasso best estimator coef:\", gridlasso.best_estimator_.coef_)\n",
        "print('*********************************')\n",
        "print(\"linear coef:\", linear.coef_)"
      ],
      "execution_count": 68,
      "outputs": [
        {
          "output_type": "stream",
          "text": [
            "lasso best parameters: {'alpha': 19.0}\n",
            "*********************************\n",
            "lasso score: 0.7097487180208374\n",
            "*********************************\n",
            "linear score: 0.7097485644235983\n",
            "*********************************\n",
            "lasso MSE: 41206066793.93424\n",
            "*********************************\n",
            "linear MSE: 41206088599.653915\n",
            "*********************************\n",
            "lasso best estimator coef: [-34280.92192179  28236.16525634 216203.7746877    5818.5000823\n",
            "   5246.1453582   47899.11386118  39690.72267232  18877.08105006\n",
            " 113300.12516237 -44674.35166611 -38764.04103605 -77412.10102409\n",
            "   7000.138388   -31256.35964779  83557.68138944 -30610.29153525\n",
            "  16376.65211477  -9742.73108924]\n",
            "*********************************\n",
            "linear coef: [-34304.71135243  28359.8074975   81584.89361599   5877.6762542\n",
            "   5252.06753748  47912.50071739  39689.17778428  18897.37543314\n",
            " 113249.88777448  76578.36989162  26022.80873753 -77448.70209861\n",
            "   7013.19791642 -31304.36188067  83584.65570857 -30657.27349502\n",
            "  16489.60764319  -9793.60462322]\n"
          ],
          "name": "stdout"
        }
      ]
    },
    {
      "cell_type": "markdown",
      "metadata": {
        "id": "o9R3RPRNhQIR",
        "colab_type": "text"
      },
      "source": [
        "*the lasso score is 0.71. compared to ridge regression, the scores have remained constant.the MSE has of lasso has reduced. Our model is performing well*"
      ]
    },
    {
      "cell_type": "code",
      "metadata": {
        "id": "JADQ_iuiVmMw",
        "colab_type": "code",
        "colab": {
          "base_uri": "https://localhost:8080/",
          "height": 54
        },
        "outputId": "be3f0687-e627-4c48-a8b0-d0fc217bcc9d"
      },
      "source": [
        "#price prediction\n",
        "gridlasso= gridlasso.predict(X_test)\n",
        "gridlasso"
      ],
      "execution_count": 69,
      "outputs": [
        {
          "output_type": "execute_result",
          "data": {
            "text/plain": [
              "array([538437.92160948, 632432.38094789, 502775.30200068, ...,\n",
              "       744767.5194928 , 184219.19602582, 859545.79788466])"
            ]
          },
          "metadata": {
            "tags": []
          },
          "execution_count": 69
        }
      ]
    },
    {
      "cell_type": "code",
      "metadata": {
        "id": "hUeE825z58Ly",
        "colab_type": "code",
        "colab": {
          "base_uri": "https://localhost:8080/",
          "height": 458
        },
        "outputId": "e503822f-f81e-468a-c727-b550a6c756a2"
      },
      "source": [
        "#plotting lasso graph\n",
        "coefsLasso = [] \n",
        "\n",
        "# Building Lasso for 200 values of alpha and write the coefficients into array\n",
        "# \n",
        "alphasLasso = np.arange (0, 20, 0.1) \n",
        "for i in range(200):\n",
        "    lasso = linear_model.Lasso(alpha=alphasLasso[i])\n",
        "    lasso.fit(X_train, y_train)\n",
        "    coefsLasso.append(lasso.coef_) \n",
        "\n",
        "# Building Lasso coefficient plots\n",
        "# \n",
        "plt.figure(figsize = (16,7))\n",
        "\n",
        "plt.subplot(121)\n",
        "plt.plot(alphasLasso, coefsLasso)\n",
        "plt.title('Lasso coefficients')\n",
        "plt.xlabel('alpha')\n",
        "plt.ylabel('coefs')\n",
        "\n",
        "plt.show()"
      ],
      "execution_count": 70,
      "outputs": [
        {
          "output_type": "display_data",
          "data": {
            "image/png": "[encoded data removed]",
            "text/plain": [
              "<Figure size 1152x504 with 1 Axes>"
            ]
          },
          "metadata": {
            "tags": []
          }
        }
      ]
    },
    {
      "cell_type": "markdown",
      "metadata": {
        "id": "Eslo6rshhtyt",
        "colab_type": "text"
      },
      "source": [
        "**ElasticNet regression**"
      ]
    },
    {
      "cell_type": "markdown",
      "metadata": {
        "id": "CJCj3y0RiMef",
        "colab_type": "text"
      },
      "source": [
        "*It combines both the properties of ridge and lasso regression. It works by penalizing the model using the L2 and L1 regularization.*"
      ]
    },
    {
      "cell_type": "code",
      "metadata": {
        "id": "WIAoyiYR9X1J",
        "colab_type": "code",
        "colab": {
          "base_uri": "https://localhost:8080/",
          "height": 90
        },
        "outputId": "30900466-4441-4de3-c6fe-7aa21101906e"
      },
      "source": [
        "#Elastic Net\n",
        "\n",
        "model_enet = ElasticNet(alpha = 0.01)\n",
        "model_enet.fit(X_train, y_train) \n",
        "pred_train_enet= model_enet.predict(X_train)\n",
        "print(np.sqrt(mean_squared_error(y_train,pred_train_enet)))\n",
        "print(r2_score(y_train, pred_train_enet))\n",
        "\n",
        "pred_test_enet= model_enet.predict(X_test)\n",
        "print(np.sqrt(mean_squared_error(y_test,pred_test_enet)))\n",
        "print(r2_score(y_test, pred_test_enet))"
      ],
      "execution_count": 132,
      "outputs": [
        {
          "output_type": "stream",
          "text": [
            "200819.0841840153\n",
            "0.6958848916261406\n",
            "203015.8292709338\n",
            "0.7096827861562128\n"
          ],
          "name": "stdout"
        }
      ]
    },
    {
      "cell_type": "markdown",
      "metadata": {
        "id": "KZizwo7lNi0g",
        "colab_type": "text"
      },
      "source": [
        "*elastic net accuracy is 71%.It is performing better than the linear regression*"
      ]
    },
    {
      "cell_type": "code",
      "metadata": {
        "id": "vXRdbSN5qWIW",
        "colab_type": "code",
        "colab": {
          "base_uri": "https://localhost:8080/",
          "height": 345
        },
        "outputId": "01188e92-8759-4788-e7df-82a3a24d1bb0"
      },
      "source": [
        "# Below are the coefficients\n",
        "# \n",
        "coef_dict_baseline = {}\n",
        "for coef, feat in zip(elastic.coef_,df.columns):\n",
        "    coef_dict_baseline[feat] = coef\n",
        "coef_dict_baseline"
      ],
      "execution_count": 133,
      "outputs": [
        {
          "output_type": "execute_result",
          "data": {
            "text/plain": [
              "{'bathrooms': 538.5929206239813,\n",
              " 'bedrooms': 4402.330315301802,\n",
              " 'condition': 3779.768916761168,\n",
              " 'floors': 2539.960600714121,\n",
              " 'grade': 2063.5607386912766,\n",
              " 'id': 1873.52766494575,\n",
              " 'lat': 3656.864964133857,\n",
              " 'long': 485.12103196803383,\n",
              " 'price': 3250.3700015700374,\n",
              " 'sqft_above': 216.57081579511933,\n",
              " 'sqft_basement': 823.2200423457463,\n",
              " 'sqft_living': 1565.0143518966152,\n",
              " 'sqft_lot': 1725.5559233487022,\n",
              " 'view': 4201.412944288653,\n",
              " 'waterfront': 283.5347733221719,\n",
              " 'yr_built': -283.470478627965,\n",
              " 'yr_renovated': 2029.4070974313713,\n",
              " 'zipcode': 50.53669971540561}"
            ]
          },
          "metadata": {
            "tags": []
          },
          "execution_count": 133
        }
      ]
    },
    {
      "cell_type": "code",
      "metadata": {
        "id": "fFGEwVm-1YwW",
        "colab_type": "code",
        "colab": {}
      },
      "source": [
        "pd.DataFrame({'feature': X.columns, \n",
        "              'lasso_coeff': lasso.coef_, \n",
        "              'ridge_coeff': ridge.coef_[0], \n",
        "              'elastic_coeff': elastic.coef_}).sort_values(by = 'elastic_coeff', ascending = False).head(20)"
      ],
      "execution_count": null,
      "outputs": []
    },
    {
      "cell_type": "markdown",
      "metadata": {
        "id": "4M-JffoRrpZ0",
        "colab_type": "text"
      },
      "source": [
        "**Challenging the solution**"
      ]
    },
    {
      "cell_type": "markdown",
      "metadata": {
        "id": "QBw4IvTEDUpb",
        "colab_type": "text"
      },
      "source": [
        "*using random forest to compare the results*"
      ]
    },
    {
      "cell_type": "markdown",
      "metadata": {
        "id": "0maB3a_yDfcf",
        "colab_type": "text"
      },
      "source": [
        "**Random forest**"
      ]
    },
    {
      "cell_type": "code",
      "metadata": {
        "id": "1VS9Ltw__lkR",
        "colab_type": "code",
        "colab": {
          "base_uri": "https://localhost:8080/",
          "height": 35
        },
        "outputId": "2ffbec19-1280-42d5-875c-5dc8740c8e82"
      },
      "source": [
        "from sklearn.ensemble import RandomForestClassifier\n",
        "from sklearn.ensemble import RandomForestRegressor\n",
        "from sklearn.datasets import make_regression\n",
        "\n",
        "model = RandomForestRegressor(n_estimators=100)\n",
        "#Fit the model\n",
        "model.fit(X_train, y_train)\n",
        "print(\"Accuracy is \", model.score(X_test, y_test)*100)"
      ],
      "execution_count": 71,
      "outputs": [
        {
          "output_type": "stream",
          "text": [
            "Accuracy is  86.95590984995101\n"
          ],
          "name": "stdout"
        }
      ]
    },
    {
      "cell_type": "markdown",
      "metadata": {
        "id": "e-SqcDiXKyQb",
        "colab_type": "text"
      },
      "source": [
        "*The random forest has an accuracy of 86.9%. The accuracy is high compared to that of linear,ridge,lasso and elasticnet. Thies means that random forest performs better.*"
      ]
    }
  ]
}